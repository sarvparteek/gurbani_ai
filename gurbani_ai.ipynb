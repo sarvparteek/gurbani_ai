{
 "cells": [
  {
   "cell_type": "code",
   "execution_count": 157,
   "id": "bd40dd71-aab2-4062-9548-6707f13332a8",
   "metadata": {},
   "outputs": [],
   "source": [
    "# SikhiToTheMax/Khalis libraries\n",
    "import banidb\n",
    "from anvaad_py import firstLetters\n",
    "\n",
    "import requests # to get raags\n",
    "from sentence_transformers import SentenceTransformer, util # for embeddings\n",
    "import numpy as np\n",
    "\n",
    "import matplotlib.pyplot as plt\n",
    "import matplotlib.patches as mpatches # Import for creating legend patches"
   ]
  },
  {
   "cell_type": "code",
   "execution_count": 2,
   "id": "ac4f1090-8666-4425-8df3-b8c8aa22c348",
   "metadata": {},
   "outputs": [],
   "source": [
    "import os\n",
    "os.environ['HF_HUB_DISABLE_SYMLINKS_WARNING'] = '1'\n",
    "# Supress Hugging Face's Symlinks warning. It wants to use Symlinks to save disk space\n",
    "# But that requires you to turn on Windows developer mode, which comes with its own risks."
   ]
  },
  {
   "cell_type": "markdown",
   "id": "8a22f0eb-0caa-4191-b797-fefed485607d",
   "metadata": {},
   "source": [
    "**Exploration**"
   ]
  },
  {
   "cell_type": "code",
   "execution_count": 3,
   "id": "07e40fdc-032c-4ce4-9fdb-8a30f0710d0f",
   "metadata": {},
   "outputs": [],
   "source": [
    "shabad = banidb.random()"
   ]
  },
  {
   "cell_type": "code",
   "execution_count": 4,
   "id": "946a66fb-69ff-4b32-8c36-9ed72df1f16d",
   "metadata": {},
   "outputs": [
    {
     "data": {
      "text/plain": [
       "{'shabad_id': 3069,\n",
       " 'source_uni': 'ਸ੍ਰੀ ਗੁਰੂ ਗ੍ਰੰਥ ਸਾਹਿਬ ਜੀ',\n",
       " 'source_eng': 'Sri Guru Granth Sahib Ji',\n",
       " 'writer': 'Guru Arjan Dev Ji',\n",
       " 'ang': 816,\n",
       " 'verses': [{'verse_id': 34703,\n",
       "   'verse': 'ਬਿਲਾਵਲੁ ਮਹਲਾ ੫ ॥',\n",
       "   'steek': {'en': {'bdb': 'Bilaaval, Fifth Mehla:',\n",
       "     'ms': 'Bilawal 5th Guru.',\n",
       "     'ssk': 'Bilaaval, Fifth Mehl:'},\n",
       "    'pu': {'ss': {'gurmukhi': None, 'unicode': None},\n",
       "     'ft': {'gurmukhi': '', 'unicode': ''},\n",
       "     'bdb': {'gurmukhi': None, 'unicode': None},\n",
       "     'ms': {'gurmukhi': 'iblwvl pMjvIN pwiqSwhI[',\n",
       "      'unicode': 'ਬਿਲਾਵਲ ਪੰਜਵੀਂ ਪਾਤਿਸ਼ਾਹੀ।'}},\n",
       "    'es': {'sn': 'Bilawal, Mejl Guru Aryan, Quinto Canal Divino'},\n",
       "    'hi': {'ss': '', 'sts': 'बिलावलु महला ५ ॥'}},\n",
       "   'transliteration': {'english': 'bilaaval mahalaa panjavaa ||',\n",
       "    'hindi': 'बिलावलु महला ५ ॥',\n",
       "    'en': 'bilaaval mahalaa panjavaa ||',\n",
       "    'hi': 'बिलावलु महला ५ ॥',\n",
       "    'ipa': 'bɪlɑʋəl məhəlɑ pəŋd͡ʒʋɑ.',\n",
       "    'ur': 'بِلاول مهلا ۵ ۔۔'}},\n",
       "  {'verse_id': 34704,\n",
       "   'verse': 'ਸਿਮਰਿ ਸਿਮਰਿ ਪੂਰਨ ਪ੍ਰਭੂ ਕਾਰਜ ਭਏ ਰਾਸਿ ॥',\n",
       "   'steek': {'en': {'bdb': 'Meditate, meditate in remembrance of the Perfect Lord God, and your affairs shall be perfectly resolved.',\n",
       "     'ms': 'Remembering and contemplating the Perfect Lord, mine affairs are all arranged.',\n",
       "     'ssk': 'Meditate, meditate in remembrance of the Perfect Lord God, and your affairs shall be perfectly resolved.'},\n",
       "    'pu': {'ss': {'gurmukhi': 'hy BweI! swD sMgiq ivc prmwqmw (Awp) v`sdw hY, Awpxy sMq jnW dy AMg-sMg v`sdw hY [ ',\n",
       "      'unicode': 'ਹੇ ਭਾਈ! ਸਾਧ ਸੰਗਤਿ ਵਿਚ ਪਰਮਾਤਮਾ (ਆਪ) ਵੱਸਦਾ ਹੈ, ਆਪਣੇ ਸੰਤ ਜਨਾਂ ਦੇ ਅੰਗ-ਸੰਗ ਵੱਸਦਾ ਹੈ । '},\n",
       "     'ft': {'gurmukhi': 'pUrn pRBU kO mn bwxI sy ismrn krny sy BgqoN ky srb kwrj rws hoey hYN]',\n",
       "      'unicode': 'ਪੂਰਨ ਪ੍ਰਭੂ ਕੌ ਮਨ ਬਾਣੀ ਸੇ ਸਿਮਰਨ ਕਰਨੇ ਸੇ ਭਗਤੋਂ ਕੇ ਸਰਬ ਕਾਰਜ ਰਾਸ ਹੋਏ ਹੈਂ॥'},\n",
       "     'bdb': {'gurmukhi': 'hy BweI! swD sMgiq ivc prmwqmw (Awp) v`sdw hY, Awpxy sMq jnW dy AMg-sMg v`sdw hY [ ',\n",
       "      'unicode': 'ਹੇ ਭਾਈ! ਸਾਧ ਸੰਗਤਿ ਵਿਚ ਪਰਮਾਤਮਾ (ਆਪ) ਵੱਸਦਾ ਹੈ, ਆਪਣੇ ਸੰਤ ਜਨਾਂ ਦੇ ਅੰਗ-ਸੰਗ ਵੱਸਦਾ ਹੈ । '},\n",
       "     'ms': {'gurmukhi': 'pUry swihb dw AwrwDn Aqy icMqn krn duAwrw myry swry kMm-kwj Sor h gey hn[',\n",
       "      'unicode': 'ਪੂਰੇ ਸਾਹਿਬ ਦਾ ਆਰਾਧਨ ਅਤੇ ਚਿੰਤਨ ਕਰਨ ਦੁਆਰਾ ਮੇਰੇ ਸਾਰੇ ਕੰਮ-ਕਾਜ ਸ਼ੋਰ ਹ ਗਏ ਹਨ।'}},\n",
       "    'es': {'sn': 'Contemplando al Señor Perfecto vivo en verdad satisfecho, '},\n",
       "    'hi': {'ss': 'हे भाई ! साध-संगति में परमात्मा (स्वयं) बसता है। अपने संतजनों के अंग संग बसता है।',\n",
       "     'sts': 'पूर्ण प्रभु का सिमरन करने से सभी कार्य सम्पन्न हो गए हैं।'}},\n",
       "   'transliteration': {'english': 'simar simar pooran prabhoo kaaraj bhe raas ||',\n",
       "    'hindi': 'सिमरि सिमरि पूरन प्रभू कारज भए रासि ॥',\n",
       "    'en': 'simar simar pooran prabhoo kaaraj bhe raas ||',\n",
       "    'hi': 'सिमरि सिमरि पूरन प्रभू कारज भए रासि ॥',\n",
       "    'ipa': 'sɪmər sɪmər purən pɹəɓu kɑrəd͡ʒ ɓee rɑs.',\n",
       "    'ur': 'سِمر سمر پُورن پربھُو کارج بھاے راس ۔۔'}},\n",
       "  {'verse_id': 34705,\n",
       "   'verse': 'ਕਰਤਾਰ ਪੁਰਿ ਕਰਤਾ ਵਸੈ ਸੰਤਨ ਕੈ ਪਾਸਿ ॥੧॥ ਰਹਾਉ ॥',\n",
       "   'steek': {'en': {'bdb': 'In Kartaarpur, the City of the Creator Lord, the Saints dwell with the Creator. ||1||Pause||',\n",
       "     'ms': \"In the Creator's town, the saints abide with the Creator Lord. Pause.\",\n",
       "     'ssk': 'In Kartaarpur, the City of the Creator Lord, the Saints dwell with the Creator. ||1||Pause||'},\n",
       "    'pu': {'ss': {'gurmukhi': '(swD sMgiq ivc) swry guxW nwl BrpUr pRBU (dw nwm) ismr ismr ky (mnu`K dy) swry kMm sPl ho jWdy hn [1[rhwau[',\n",
       "      'unicode': '(ਸਾਧ ਸੰਗਤਿ ਵਿਚ) ਸਾਰੇ ਗੁਣਾਂ ਨਾਲ ਭਰਪੂਰ ਪ੍ਰਭੂ (ਦਾ ਨਾਮ) ਸਿਮਰ ਸਿਮਰ ਕੇ (ਮਨੁੱਖ ਦੇ) ਸਾਰੇ ਕੰਮ ਸਫਲ ਹੋ ਜਾਂਦੇ ਹਨ ।੧।ਰਹਾਉ।'},\n",
       "     'ft': {'gurmukhi': 'punw iqn sMq jnw ky (pwis) inkt siqsMg rUpI krqwr pur myN so krqw purK sdw invws krqw hY]1] rhwau ]',\n",
       "      'unicode': 'ਪੁਨਾ ਤਿਨ ਸੰਤ ਜਨਾ ਕੇ (ਪਾਸਿ) ਨਿਕਟ ਸਤਿਸੰਗ ਰੂਪੀ ਕਰਤਾਰ ਪੁਰ ਮੇਂ ਸੋ ਕਰਤਾ ਪੁਰਖ ਸਦਾ ਨਿਵਾਸ ਕਰਤਾ ਹੈ॥੧॥ ਰਹਾਉ ॥'},\n",
       "     'bdb': {'gurmukhi': '(swD sMgiq ivc) swry guxW nwl BrpUr pRBU (dw nwm) ismr ismr ky (mnu`K dy) swry kMm sPl ho jWdy hn [1[rhwau[',\n",
       "      'unicode': '(ਸਾਧ ਸੰਗਤਿ ਵਿਚ) ਸਾਰੇ ਗੁਣਾਂ ਨਾਲ ਭਰਪੂਰ ਪ੍ਰਭੂ (ਦਾ ਨਾਮ) ਸਿਮਰ ਸਿਮਰ ਕੇ (ਮਨੁੱਖ ਦੇ) ਸਾਰੇ ਕੰਮ ਸਫਲ ਹੋ ਜਾਂਦੇ ਹਨ ।੧।ਰਹਾਉ।'},\n",
       "     'ms': {'gurmukhi': 'isrjxhwr ky Sihr AMdr, swDU isrjxhwr suAwmI dy nwl vsdy hn[ Tihrwau[',\n",
       "      'unicode': 'ਸਿਰਜਣਹਾਰ ਕੇ ਸ਼ਹਿਰ ਅੰਦਰ, ਸਾਧੂ ਸਿਰਜਣਹਾਰ ਸੁਆਮੀ ਦੇ ਨਾਲ ਵਸਦੇ ਹਨ। ਠਹਿਰਾਉ।'}},\n",
       "    'es': {'sn': 'siguiendo a los Santos que habitan en el Santuario de su Señor Creador.(1-Pausa)'},\n",
       "    'hi': {'ss': '(साध-संगति में) सारे गुणों से भरपूर प्रभू (का नाम) सिमर-सिमर के (मनुष्य के) सारे काम सफल हो जाते हैं। 1। रहाउ।',\n",
       "     'sts': 'कर्ता परमेश्वर संतों के पास करतारपुर (अर्थात् सत्संग में) निवास करता है॥ १॥'}},\n",
       "   'transliteration': {'english': 'karataar pur karataa vasai sa(n)tan kai paas ||1|| rahaau ||',\n",
       "    'hindi': 'करतार पुरि करता वसै संतन कै पासि ॥१॥ रहाउ ॥',\n",
       "    'en': 'karataar pur karataa vasai sa(n)tan kai paas ||1|| rahaau ||',\n",
       "    'hi': 'करतार पुरि करता वसै संतन कै पासि ॥१॥ रहाउ ॥',\n",
       "    'ipa': 'kərət̪ɑr pʊr kərət̪ɑ ʋəsæ səŋt̪ən kæ pɑs.1. rəhɑo.',\n",
       "    'ur': 'کرتار پُر کرتا وسَے سںتن کَے پاس ۔۔۱۔۔ رهاا ۔۔'}},\n",
       "  {'verse_id': 34706,\n",
       "   'verse': 'ਬਿਘਨੁ ਨ ਕੋਊ ਲਾਗਤਾ ਗੁਰ ਪਹਿ ਅਰਦਾਸਿ ॥',\n",
       "   'steek': {'en': {'bdb': 'No obstacles will block your way, when you offer your prayers to the Guru.',\n",
       "     'ms': 'By praying to the Guru, no obstacle befalls the man.',\n",
       "     'ssk': 'No obstacles will block your way, when you offer your prayers to the Guru.'},\n",
       "    'pu': {'ss': {'gurmukhi': 'hy BweI! pRBU pwiqSwh Awpxy sMq jnW dw (sdw) Awp rwKw hY, pRBU (dw nwm) sMq jnW dw srmwieAw hY [ ',\n",
       "      'unicode': 'ਹੇ ਭਾਈ! ਪ੍ਰਭੂ ਪਾਤਿਸ਼ਾਹ ਆਪਣੇ ਸੰਤ ਜਨਾਂ ਦਾ (ਸਦਾ) ਆਪ ਰਾਖਾ ਹੈ, ਪ੍ਰਭੂ (ਦਾ ਨਾਮ) ਸੰਤ ਜਨਾਂ ਦਾ ਸਰਮਾਇਆ ਹੈ । '},\n",
       "     'ft': {'gurmukhi': 'ijnoN ny guroN ky pws bynqI krI hY, iqnW ko koeI ibGn nhIN lwgqw hY]',\n",
       "      'unicode': 'ਜਿਨੋਂ ਨੇ ਗੁਰੋਂ ਕੇ ਪਾਸ ਬੇਨਤੀ ਕਰੀ ਹੈ, ਤਿਨਾਂ ਕੋ ਕੋਈ ਬਿਘਨ ਨਹੀਂ ਲਾਗਤਾ ਹੈ॥'},\n",
       "     'bdb': {'gurmukhi': 'hy BweI! pRBU pwiqSwh Awpxy sMq jnW dw (sdw) Awp rwKw hY, pRBU (dw nwm) sMq jnW dw srmwieAw hY [ ',\n",
       "      'unicode': 'ਹੇ ਭਾਈ! ਪ੍ਰਭੂ ਪਾਤਿਸ਼ਾਹ ਆਪਣੇ ਸੰਤ ਜਨਾਂ ਦਾ (ਸਦਾ) ਆਪ ਰਾਖਾ ਹੈ, ਪ੍ਰਭੂ (ਦਾ ਨਾਮ) ਸੰਤ ਜਨਾਂ ਦਾ ਸਰਮਾਇਆ ਹੈ । '},\n",
       "     'ms': {'gurmukhi': 'gurW A¤gy bynqI krn duAwrw, ienswn ƒ koeI AOkV pyS nhIN AwauNdI[',\n",
       "      'unicode': 'ਗੁਰਾਂ ਅੱਗੇ ਬੇਨਤੀ ਕਰਨ ਦੁਆਰਾ, ਇਨਸਾਨ ਨੂੰ ਕੋਈ ਔਕੜ ਪੇਸ਼ ਨਹੀਂ ਆਉਂਦੀ।'}},\n",
       "    'es': {'sn': 'Ahora ningún mal me aflige, pues le rezo siempre al Guru; '},\n",
       "    'hi': {'ss': '(जो भी मनुष्य साध-संगति में आ के) गुरू के दर पर अरदास करते रहते हैं। (उनकी जिंदगी के रास्ते में) कोई रुकावट पैदा नहीं होती',\n",
       "     'sts': 'गुरु के पास प्रार्थना करने से कोई विघ्न नहीं आता।'}},\n",
       "   'transliteration': {'english': 'bighan na kouoo laagataa gur peh aradhaas ||',\n",
       "    'hindi': 'बिघनु न कोऊ लागता गुर पहि अरदासि ॥',\n",
       "    'en': 'bighan na kouoo laagataa gur peh aradhaas ||',\n",
       "    'hi': 'बिघनु न कोऊ लागता गुर पहि अरदासि ॥',\n",
       "    'ipa': 'bɪGʰən nə kɔou lɑGət̪ɑ Gʊr pəh ərəd̪ɑs.',\n",
       "    'ur': 'بِگھن ن کواُو لاگتا گُر پهِ ارداس ۔۔'}},\n",
       "  {'verse_id': 34707,\n",
       "   'verse': 'ਰਖਵਾਲਾ ਗੋਬਿੰਦ ਰਾਇ ਭਗਤਨ ਕੀ ਰਾਸਿ ॥੧॥',\n",
       "   'steek': {'en': {'bdb': 'The Sovereign Lord of the Universe is the Saving Grace, the Protector of the capital of His devotees. ||1||',\n",
       "     'ms': 'God, the King is the Saviour of the capital-stock of His saints.',\n",
       "     'ssk': 'The Sovereign Lord of the Universe is the Saving Grace, the Protector of the capital of His devotees. ||1||'},\n",
       "    'pu': {'ss': {'gurmukhi': '(jyhVy BI mnu`K swD sMgiq ivc Aw ky) gurU dy dr qy Ardws krdy rihMdy hn, (auhnW dI izMdgI dy rsqy ivc) koeI rukwvt nhIN pYNdI [1[',\n",
       "      'unicode': '(ਜੇਹੜੇ ਭੀ ਮਨੁੱਖ ਸਾਧ ਸੰਗਤਿ ਵਿਚ ਆ ਕੇ) ਗੁਰੂ ਦੇ ਦਰ ਤੇ ਅਰਦਾਸ ਕਰਦੇ ਰਹਿੰਦੇ ਹਨ, (ਉਹਨਾਂ ਦੀ ਜ਼ਿੰਦਗੀ ਦੇ ਰਸਤੇ ਵਿਚ) ਕੋਈ ਰੁਕਾਵਟ ਨਹੀਂ ਪੈਂਦੀ ।੧।'},\n",
       "     'ft': {'gurmukhi': 'iqn BgqoN kI (rwis) pUMjI hrI nwm hY AO iqnoN kI riKAw krn vwlw Awp goibMd rwie hI hY]1]',\n",
       "      'unicode': 'ਤਿਨ ਭਗਤੋਂ ਕੀ (ਰਾਸਿ) ਪੂੰਜੀ ਹਰੀ ਨਾਮ ਹੈ ਔ ਤਿਨੋਂ ਕੀ ਰਖਿਆ ਕਰਨ ਵਾਲਾ ਆਪ ਗੋਬਿੰਦ ਰਾਇ ਹੀ ਹੈ॥੧॥'},\n",
       "     'bdb': {'gurmukhi': '(jyhVy BI mnu`K swD sMgiq ivc Aw ky) gurU dy dr qy Ardws krdy rihMdy hn, (auhnW dI izMdgI dy rsqy ivc) koeI rukwvt nhIN pYNdI [1[',\n",
       "      'unicode': '(ਜੇਹੜੇ ਭੀ ਮਨੁੱਖ ਸਾਧ ਸੰਗਤਿ ਵਿਚ ਆ ਕੇ) ਗੁਰੂ ਦੇ ਦਰ ਤੇ ਅਰਦਾਸ ਕਰਦੇ ਰਹਿੰਦੇ ਹਨ, (ਉਹਨਾਂ ਦੀ ਜ਼ਿੰਦਗੀ ਦੇ ਰਸਤੇ ਵਿਚ) ਕੋਈ ਰੁਕਾਵਟ ਨਹੀਂ ਪੈਂਦੀ ।੧।'},\n",
       "     'ms': {'gurmukhi': 'vwihgurU, pwiqSwhW Awpxy sMqW dI pUMjI dw riKAk hY[',\n",
       "      'unicode': 'ਵਾਹਿਗੁਰੂ, ਪਾਤਿਸ਼ਾਹਾਂ ਆਪਣੇ ਸੰਤਾਂ ਦੀ ਪੂੰਜੀ ਦਾ ਰਖਿਅਕ ਹੈ।'}},\n",
       "    'es': {'sn': 'el Señor Soberano del Universo es la Gracia Salvadora, el Protector del Capital de los Devotos. (1)'},\n",
       "    'hi': {'ss': 'हे भाई ! प्रभू पातशाह अपने संत जनों का (हमेशा) स्वयं रखवाला है। प्रभू (का नाम) संत जनों की राशि पूँजी है। । 1।',\n",
       "     'sts': 'गोविंद अपने भक्तों का रखवाला है और उसका नाम ही उनकी जीवन पूंजी है॥ १॥'}},\n",
       "   'transliteration': {'english': 'rakhavaalaa gobi(n)dh rai bhagatan kee raas ||1||',\n",
       "    'hindi': 'रखवाला गोबिंद राइ भगतन की रासि ॥१॥',\n",
       "    'en': 'rakhavaalaa gobi(n)dh rai bhagatan kee raas ||1||',\n",
       "    'hi': 'रखवाला गोबिंद राइ भगतन की रासि ॥१॥',\n",
       "    'ipa': 'rəkʰəʋɑlɑ Gɔbɪŋd̪ rɑeɪ ɓəGət̪ən ki rɑs.1.',\n",
       "    'ur': 'رکھوالا گوبںد راا بھگتن کیِ راس ۔۔۱۔۔'}},\n",
       "  {'verse_id': 34708,\n",
       "   'verse': 'ਤੋਟਿ ਨ ਆਵੈ ਕਦੇ ਮੂਲਿ ਪੂਰਨ ਭੰਡਾਰ ॥',\n",
       "   'steek': {'en': {'bdb': \"There is never any deficiency at all; the Lord's treasures are over-flowing.\",\n",
       "     'ms': \"Absolutely no deficiency ever occurs in the Lord's brimful treasures.\",\n",
       "     'ssk': \"There is never any deficiency at all; the Lord's treasures are over-flowing.\"},\n",
       "    'pu': {'ss': {'gurmukhi': '(hy BweI! swD sMgiq iek AYsw AsQwn hY ijQy b^SSW dy) BMfwry Bry rihMdy hn, (auQy iehnW b^SSW dI) kdy BI qot nhIN AwauNdI [ ',\n",
       "      'unicode': '(ਹੇ ਭਾਈ! ਸਾਧ ਸੰਗਤਿ ਇਕ ਐਸਾ ਅਸਥਾਨ ਹੈ ਜਿਥੇ ਬਖ਼ਸ਼ਸ਼ਾਂ ਦੇ) ਭੰਡਾਰੇ ਭਰੇ ਰਹਿੰਦੇ ਹਨ, (ਉਥੇ ਇਹਨਾਂ ਬਖ਼ਸ਼ਸ਼ਾਂ ਦੀ) ਕਦੇ ਭੀ ਤੋਟ ਨਹੀਂ ਆਉਂਦੀ । '},\n",
       "     'ft': {'gurmukhi': 'sMqoN ky guxW kI (mUil) kbI qoit nhIN AwvqI hY, ikauNik iqn ky AMqskrn rUp BMfwry pUrn hUey hYN]',\n",
       "      'unicode': 'ਸੰਤੋਂ ਕੇ ਗੁਣਾਂ ਕੀ (ਮੂਲਿ) ਕਬੀ ਤੋਟਿ ਨਹੀਂ ਆਵਤੀ ਹੈ, ਕਿਉਂਕਿ ਤਿਨ ਕੇ ਅੰਤਸਕਰਨ ਰੂਪ ਭੰਡਾਰੇ ਪੂਰਨ ਹੂਏ ਹੈਂ॥'},\n",
       "     'bdb': {'gurmukhi': '(hy BweI! swD sMgiq iek AYsw AsQwn hY ijQy b^SSW dy) BMfwry Bry rihMdy hn, (auQy iehnW b^SSW dI) kdy BI qot nhIN AwauNdI [ ',\n",
       "      'unicode': '(ਹੇ ਭਾਈ! ਸਾਧ ਸੰਗਤਿ ਇਕ ਐਸਾ ਅਸਥਾਨ ਹੈ ਜਿਥੇ ਬਖ਼ਸ਼ਸ਼ਾਂ ਦੇ) ਭੰਡਾਰੇ ਭਰੇ ਰਹਿੰਦੇ ਹਨ, (ਉਥੇ ਇਹਨਾਂ ਬਖ਼ਸ਼ਸ਼ਾਂ ਦੀ) ਕਦੇ ਭੀ ਤੋਟ ਨਹੀਂ ਆਉਂਦੀ । '},\n",
       "     'ms': {'gurmukhi': 'suAwmI dy prIpUrn KjwinAW iv`c Aslo hI kdwic`c koeI kmI nhIN vwprdI[',\n",
       "      'unicode': 'ਸੁਆਮੀ ਦੇ ਪਰੀਪੂਰਨ ਖਜਾਨਿਆਂ ਵਿੱਚ ਅਸਲੋ ਹੀ ਕਦਾਚਿੱਚ ਕੋਈ ਕਮੀ ਨਹੀਂ ਵਾਪਰਦੀ।'}},\n",
       "    'es': {'sn': 'No hay deficiencia alguna, los Tesoros del Señor desbordan, por doquier sin acabarse; '},\n",
       "    'hi': {'ss': '(हे भाई ! साध-संगति एक ऐसा स्थान है जहाँ बख्शिशों के) भण्डारे भरे रहते हैं। (वहाँ इस बख्शिशों की) कभी भी कमी नहीं आती।',\n",
       "     'sts': 'नाम रूपी पूंजी से भक्तों के भण्डार भरे हुए हैं और उनमें कभी कोई कमी नहीं आती।'}},\n",
       "   'transliteration': {'english': 'toT na aavai kadhe mool pooran bha(n)ddaar ||',\n",
       "    'hindi': 'तोटि न आवै कदे मूलि पूरन भंडार ॥',\n",
       "    'en': 'toT na aavai kadhe mool pooran bha(n)ddaar ||',\n",
       "    'hi': 'तोटि न आवै कदे मूलि पूरन भंडार ॥',\n",
       "    'ipa': 't̪ɔʈ nə əɑʋæ kəd̪e mul purən ɓəŋɖɑr.',\n",
       "    'ur': 'توٹ ن آوَے کدے مُول پُورن بھںڈار ۔۔'}},\n",
       "  {'verse_id': 34709,\n",
       "   'verse': 'ਚਰਨ ਕਮਲ ਮਨਿ ਤਨਿ ਬਸੇ ਪ੍ਰਭ ਅਗਮ ਅਪਾਰ ॥੨॥',\n",
       "   'steek': {'en': {'bdb': 'His Lotus Feet are enshrined within my mind and body; God is inaccessible and infinite. ||2||',\n",
       "     'ms': \"The Lord's lotus feet are enshrined within my soul and body. He is Inaccessible and infinite.\",\n",
       "     'ssk': 'His Lotus Feet are enshrined within my mind and body; God is inaccessible and infinite. ||2||'},\n",
       "    'pu': {'ss': {'gurmukhi': '(jyhVw BI mnu`K swD sMgiq ivc invws r`Kdw hY, aus dy) mn ivc (aus dy) ihrdy ivc AphuMc qy byAMq pRBU dy sohxy crx itky rihMdy hn [2[',\n",
       "      'unicode': '(ਜੇਹੜਾ ਭੀ ਮਨੁੱਖ ਸਾਧ ਸੰਗਤਿ ਵਿਚ ਨਿਵਾਸ ਰੱਖਦਾ ਹੈ, ਉਸ ਦੇ) ਮਨ ਵਿਚ (ਉਸ ਦੇ) ਹਿਰਦੇ ਵਿਚ ਅਪਹੁੰਚ ਤੇ ਬੇਅੰਤ ਪ੍ਰਭੂ ਦੇ ਸੋਹਣੇ ਚਰਣ ਟਿਕੇ ਰਹਿੰਦੇ ਹਨ ।੨।'},\n",
       "     'ft': {'gurmukhi': 'Agm Apwr pRBU ky crn kml iqn ky mn qn myN Awn bsy hYN]2]',\n",
       "      'unicode': 'ਅਗਮ ਅਪਾਰ ਪ੍ਰਭੂ ਕੇ ਚਰਨ ਕਮਲ ਤਿਨ ਕੇ ਮਨ ਤਨ ਮੇਂ ਆਨ ਬਸੇ ਹੈਂ॥੨॥'},\n",
       "     'bdb': {'gurmukhi': '(jyhVw BI mnu`K swD sMgiq ivc invws r`Kdw hY, aus dy) mn ivc (aus dy) ihrdy ivc AphuMc qy byAMq pRBU dy sohxy crx itky rihMdy hn [2[',\n",
       "      'unicode': '(ਜੇਹੜਾ ਭੀ ਮਨੁੱਖ ਸਾਧ ਸੰਗਤਿ ਵਿਚ ਨਿਵਾਸ ਰੱਖਦਾ ਹੈ, ਉਸ ਦੇ) ਮਨ ਵਿਚ (ਉਸ ਦੇ) ਹਿਰਦੇ ਵਿਚ ਅਪਹੁੰਚ ਤੇ ਬੇਅੰਤ ਪ੍ਰਭੂ ਦੇ ਸੋਹਣੇ ਚਰਣ ਟਿਕੇ ਰਹਿੰਦੇ ਹਨ ।੨।'},\n",
       "     'ms': {'gurmukhi': 'suAwmI kMvl rUpI pYr myrI Awqmw qy dyh AMdr itky hoey hn[ auh phuMc qoN pry Aqy byAMq hY[',\n",
       "      'unicode': 'ਸੁਆਮੀ ਕੰਵਲ ਰੂਪੀ ਪੈਰ ਮੇਰੀ ਆਤਮਾ ਤੇ ਦੇਹ ਅੰਦਰ ਟਿਕੇ ਹੋਏ ਹਨ। ਉਹ ਪਹੁੰਚ ਤੋਂ ਪਰੇ ਅਤੇ ਬੇਅੰਤ ਹੈ।'}},\n",
       "    'es': {'sn': 'Sus Pies de Loto están enaltecidos en mi cuerpo y en mi mente, Dios es Insondable e Infinito.  (2)'},\n",
       "    'hi': {'ss': '(जो भी मनुष्य साध-संगति में निवास रखता है। उसके) मन में (उसके) हृदय में अपहुँच और बेअंत प्रभू के सुंदर चरण टिके रहते हैं। 2।',\n",
       "     'sts': 'प्रभु अगम्य एवं अपार है और उसके सुन्दर चरण-कमल मेरे मन एवं तन में बसते हैं।॥ २॥'}},\n",
       "   'transliteration': {'english': 'charan kamal man tan base prabh agam apaar ||2||',\n",
       "    'hindi': 'चरन कमल मनि तनि बसे प्रभ अगम अपार ॥२॥',\n",
       "    'en': 'charan kamal man tan base prabh agam apaar ||2||',\n",
       "    'hi': 'चरन कमल मनि तनि बसे प्रभ अगम अपार ॥२॥',\n",
       "    'ipa': 't͡ʃərən kəməl mən t̪ən bəse pɹəɓ əGəm əpɑr.2.',\n",
       "    'ur': 'چرن کمل من تنِ بسے پربھ اگم اپار ۔۔۲۔۔'}},\n",
       "  {'verse_id': 34710,\n",
       "   'verse': 'ਬਸਤ ਕਮਾਵਤ ਸਭਿ ਸੁਖੀ ਕਿਛੁ ਊਨ ਨ ਦੀਸੈ ॥',\n",
       "   'steek': {'en': {'bdb': 'All those who work for Him dwell in peace; you can see that they lack nothing.',\n",
       "     'ms': \"They, who perform Lord's service, all abide in peace. They are seen in want of nothing.\",\n",
       "     'ssk': 'All those who work for Him dwell in peace; you can see that they lack nothing.'},\n",
       "    'pu': {'ss': {'gurmukhi': '(hy BweI! jyhVy BI mnu`K swD sMgiq ivc) invws r`Kdy hn Aqy nwm-ismrn dI kmweI krdy hn, auh swry suKI rihMdy hn, auhnW ƒ iksy g`ly koeI QuV nhIN id`sdI [ ',\n",
       "      'unicode': '(ਹੇ ਭਾਈ! ਜੇਹੜੇ ਭੀ ਮਨੁੱਖ ਸਾਧ ਸੰਗਤਿ ਵਿਚ) ਨਿਵਾਸ ਰੱਖਦੇ ਹਨ ਅਤੇ ਨਾਮ-ਸਿਮਰਨ ਦੀ ਕਮਾਈ ਕਰਦੇ ਹਨ, ਉਹ ਸਾਰੇ ਸੁਖੀ ਰਹਿੰਦੇ ਹਨ, ਉਹਨਾਂ ਨੂੰ ਕਿਸੇ ਗੱਲੇ ਕੋਈ ਥੁੜ ਨਹੀਂ ਦਿੱਸਦੀ । '},\n",
       "     'ft': {'gurmukhi': 'jo AOr BI iqs sMqsMg myN bsqy hUey BgqI kmwvqy hYN, so sB suKI ho jwqy hYN, punw iqnW ky kuC aUnqw nhIN dyKIqI hY]',\n",
       "      'unicode': 'ਜੋ ਔਰ ਭੀ ਤਿਸ ਸੰਤਸੰਗ ਮੇਂ ਬਸਤੇ ਹੂਏ ਭਗਤੀ ਕਮਾਵਤੇ ਹੈਂ, ਸੋ ਸਭ ਸੁਖੀ ਹੋ ਜਾਤੇ ਹੈਂ, ਪੁਨਾ ਤਿਨਾਂ ਕੇ ਕੁਛ ਊਨਤਾ ਨਹੀਂ ਦੇਖੀਤੀ ਹੈ॥'},\n",
       "     'bdb': {'gurmukhi': '(hy BweI! jyhVy BI mnu`K swD sMgiq ivc) invws r`Kdy hn Aqy nwm-ismrn dI kmweI krdy hn, auh swry suKI rihMdy hn, auhnW ƒ iksy g`ly koeI QuV nhIN id`sdI [ ',\n",
       "      'unicode': '(ਹੇ ਭਾਈ! ਜੇਹੜੇ ਭੀ ਮਨੁੱਖ ਸਾਧ ਸੰਗਤਿ ਵਿਚ) ਨਿਵਾਸ ਰੱਖਦੇ ਹਨ ਅਤੇ ਨਾਮ-ਸਿਮਰਨ ਦੀ ਕਮਾਈ ਕਰਦੇ ਹਨ, ਉਹ ਸਾਰੇ ਸੁਖੀ ਰਹਿੰਦੇ ਹਨ, ਉਹਨਾਂ ਨੂੰ ਕਿਸੇ ਗੱਲੇ ਕੋਈ ਥੁੜ ਨਹੀਂ ਦਿੱਸਦੀ । '},\n",
       "     'ms': {'gurmukhi': 'jo sweIN dI syvw krdy hn, auh swry Awrwm iv`c vsdy hn[ aunHW ƒ iksy SY dI BI kmI nhIN id`sdI[',\n",
       "      'unicode': 'ਜੋ ਸਾਈਂ ਦੀ ਸੇਵਾ ਕਰਦੇ ਹਨ, ਉਹ ਸਾਰੇ ਆਰਾਮ ਵਿੱਚ ਵਸਦੇ ਹਨ। ਉਨ੍ਹਾਂ ਨੂੰ ਕਿਸੇ ਸ਼ੈ ਦੀ ਭੀ ਕਮੀ ਨਹੀਂ ਦਿੱਸਦੀ।'}},\n",
       "    'es': {'sn': 'Todos habitan en Paz y obtienen Mérito, estando con Él a uno no le falta nada.'},\n",
       "    'hi': {'ss': '(हे भाई ! जो भी मनुष्य साध-संगति में) निवास रखते हैं और नाम-सिमरन की कमाई करते हैं। वे सारे सुखी रहते हैं। उन्हें किसी बात की कोई कमी नहीं दिखती।',\n",
       "     'sts': 'नाम की कमाई करने से सारे संतजन करतारपुर में सुखी रहते हैं और उन्हें किसी बात की कोई कमी नहीं।'}},\n",
       "   'transliteration': {'english': 'basat kamaavat sabh sukhee kichh uoon na dheesai ||',\n",
       "    'hindi': 'बसत कमावत सभि सुखी किछु ऊन न दीसै ॥',\n",
       "    'en': 'basat kamaavat sabh sukhee kichh uoon na dheesai ||',\n",
       "    'hi': 'बसत कमावत सभि सुखी किछु ऊन न दीसै ॥',\n",
       "    'ipa': 'bəsət̪ kəmɑʋət̪ səɓ sʊkʰi kɪɕ oun nə d̪isæ.',\n",
       "    'ur': 'بست کماوت سبھ سُکھیِ کچھ اٌ ن دیِسَے ۔۔'}},\n",
       "  {'verse_id': 34711,\n",
       "   'verse': 'ਸੰਤ ਪ੍ਰਸਾਦਿ ਭੇਟੇ ਪ੍ਰਭੂ ਪੂਰਨ ਜਗਦੀਸੈ ॥੩॥',\n",
       "   'steek': {'en': {'bdb': 'By the Grace of the Saints, I have met God, the Perfect Lord of the Universe. ||3||',\n",
       "     'ms': \"By saints' grace, I have met the Master, The Perfect Lord of the universe.\",\n",
       "     'ssk': 'By the Grace of the Saints, I have met God, the Perfect Lord of the Universe. ||3||'},\n",
       "    'pu': {'ss': {'gurmukhi': 'gurU dI ikrpw nwl auhnW ƒ jgq dy mwlk pUrn pRBU jI iml pYNdy hn [3[',\n",
       "      'unicode': 'ਗੁਰੂ ਦੀ ਕਿਰਪਾ ਨਾਲ ਉਹਨਾਂ ਨੂੰ ਜਗਤ ਦੇ ਮਾਲਕ ਪੂਰਨ ਪ੍ਰਭੂ ਜੀ ਮਿਲ ਪੈਂਦੇ ਹਨ ।੩।'},\n",
       "     'ft': {'gurmukhi': 'ikauNik sMqoN kI (pRswid) ikRpw qy iqn ko pUrn pRBU jgq ky eIsr (Byty) imly hYN]3]',\n",
       "      'unicode': 'ਕਿਉਂਕਿ ਸੰਤੋਂ ਕੀ (ਪ੍ਰਸਾਦਿ) ਕ੍ਰਿਪਾ ਤੇ ਤਿਨ ਕੋ ਪੂਰਨ ਪ੍ਰਭੂ ਜਗਤ ਕੇ ਈਸਰ (ਭੇਟੇ) ਮਿਲੇ ਹੈਂ॥੩॥'},\n",
       "     'bdb': {'gurmukhi': 'gurU dI ikrpw nwl auhnW ƒ jgq dy mwlk pUrn pRBU jI iml pYNdy hn [3[',\n",
       "      'unicode': 'ਗੁਰੂ ਦੀ ਕਿਰਪਾ ਨਾਲ ਉਹਨਾਂ ਨੂੰ ਜਗਤ ਦੇ ਮਾਲਕ ਪੂਰਨ ਪ੍ਰਭੂ ਜੀ ਮਿਲ ਪੈਂਦੇ ਹਨ ।੩।'},\n",
       "     'ms': {'gurmukhi': 'swDUAW dI dieAw duAwrw mYN Awlm dy mukMml suAwmI mwlk ƒ iml ipAw hW[',\n",
       "      'unicode': 'ਸਾਧੂਆਂ ਦੀ ਦਇਆ ਦੁਆਰਾ ਮੈਂ ਆਲਮ ਦੇ ਮੁਕੰਮਲ ਸੁਆਮੀ ਮਾਲਕ ਨੂੰ ਮਿਲ ਪਿਆ ਹਾਂ।'}},\n",
       "    'es': {'sn': 'Por la Gracia del Guru he encontrado al Señor Perfecto de la Tierra.(3)'},\n",
       "    'hi': {'ss': 'गुरू की कृपा से उनको जगत के मालिक पूर्ण प्रभू जी मिल जाते हैं। 3।',\n",
       "     'sts': 'संतों की कृपा से मुझे पूर्ण प्रभु जगदीश मिल गया है।३॥'}},\n",
       "   'transliteration': {'english': 'sa(n)t prasaadh bheTe prabhoo pooran jagadheesai ||3||',\n",
       "    'hindi': 'संत प्रसादि भेटे प्रभू पूरन जगदीसै ॥३॥',\n",
       "    'en': 'sa(n)t prasaadh bheTe prabhoo pooran jagadheesai ||3||',\n",
       "    'hi': 'संत प्रसादि भेटे प्रभू पूरन जगदीसै ॥३॥',\n",
       "    'ipa': 'səŋt̪ pɹəsɑd̪ ɓeʈe pɹəɓu purən d͡ʒəGəd̪isæ.3.',\n",
       "    'ur': 'سںت پرساد بھےٹے پربھُو پُورن جگدیِسَے ۔۔۳۔۔'}},\n",
       "  {'verse_id': 34712,\n",
       "   'verse': 'ਜੈ ਜੈ ਕਾਰੁ ਸਭੈ ਕਰਹਿ ਸਚੁ ਥਾਨੁ ਸੁਹਾਇਆ ॥',\n",
       "   'steek': {'en': {'bdb': 'Everyone congratulates me, and celebrates my victory; the home of the True Lord is so beautiful!',\n",
       "     'ms': 'All congratulate me on my victory. Beauteous is the abode of the True Lord.',\n",
       "     'ssk': 'Everyone congratulates me, and celebrates my victory; the home of the True Lord is so beautiful!'},\n",
       "    'pu': {'ss': {'gurmukhi': '(hy BweI! jyhVy mnu`K swD sMgiq ivc itkdy hn) swry lok (auhnW dI) soBw-vifAweI krdy hn [ swD sMgiq iek AYsw sohxw QW hY jo sdw kwiem rihx vwlw hY [',\n",
       "      'unicode': '(ਹੇ ਭਾਈ! ਜੇਹੜੇ ਮਨੁੱਖ ਸਾਧ ਸੰਗਤਿ ਵਿਚ ਟਿਕਦੇ ਹਨ) ਸਾਰੇ ਲੋਕ (ਉਹਨਾਂ ਦੀ) ਸੋਭਾ-ਵਡਿਆਈ ਕਰਦੇ ਹਨ । ਸਾਧ ਸੰਗਤਿ ਇਕ ਐਸਾ ਸੋਹਣਾ ਥਾਂ ਹੈ ਜੋ ਸਦਾ ਕਾਇਮ ਰਹਿਣ ਵਾਲਾ ਹੈ ।'},\n",
       "     'ft': {'gurmukhi': 'AYsw jo (scu Qwnu) siqsMg suhwieAw hUAw hY, sB iqs kI (jY jY kwr) ausqqI krqy hYN]',\n",
       "      'unicode': 'ਐਸਾ ਜੋ (ਸਚੁ ਥਾਨੁ) ਸਤਿਸੰਗ ਸੁਹਾਇਆ ਹੂਆ ਹੈ, ਸਭ ਤਿਸ ਕੀ (ਜੈ ਜੈ ਕਾਰ) ਉਸਤਤੀ ਕਰਤੇ ਹੈਂ॥'},\n",
       "     'bdb': {'gurmukhi': '(hy BweI! jyhVy mnu`K swD sMgiq ivc itkdy hn) swry lok (auhnW dI) soBw-vifAweI krdy hn [ swD sMgiq iek AYsw sohxw QW hY jo sdw kwiem rihx vwlw hY [',\n",
       "      'unicode': '(ਹੇ ਭਾਈ! ਜੇਹੜੇ ਮਨੁੱਖ ਸਾਧ ਸੰਗਤਿ ਵਿਚ ਟਿਕਦੇ ਹਨ) ਸਾਰੇ ਲੋਕ (ਉਹਨਾਂ ਦੀ) ਸੋਭਾ-ਵਡਿਆਈ ਕਰਦੇ ਹਨ । ਸਾਧ ਸੰਗਤਿ ਇਕ ਐਸਾ ਸੋਹਣਾ ਥਾਂ ਹੈ ਜੋ ਸਦਾ ਕਾਇਮ ਰਹਿਣ ਵਾਲਾ ਹੈ ।'},\n",
       "     'ms': {'gurmukhi': 'myrI ij`q qy mYƒ swry hI vDweIAW idMdy hn[ suMdr hY s¤cy suAwmI dw invws AsQwn[',\n",
       "      'unicode': 'ਮੇਰੀ ਜਿੱਤ ਤੇ ਮੈਨੂੰ ਸਾਰੇ ਹੀ ਵਧਾਈਆਂ ਦਿੰਦੇ ਹਨ। ਸੁੰਦਰ ਹੈ ਸੱਚੇ ਸੁਆਮੀ ਦਾ ਨਿਵਾਸ ਅਸਥਾਨ।'}},\n",
       "    'es': {'sn': 'Todos aclaman Victoria, Bendito es el Recinto de la Verdad. '},\n",
       "    'hi': {'ss': '(हे भाई ! जो मनुष्य साध-संगति में टिकते हैं) सारे लोक (उनकी) शोभा-वडिआई करते हैं। साध-संगति एक ऐसा सुंदर स्थान है जो सदा कायम रहने वाला है।',\n",
       "     'sts': 'सभी जय-जयकार कर रहे हैं और सत्य का स्थान बड़ा सुन्दर लग रहा है।'}},\n",
       "   'transliteration': {'english': 'jai jai kaar sabhai kareh sach thaan suhaiaa ||',\n",
       "    'hindi': 'जै जै कारु सभै करहि सचु थानु सुहाइआ ॥',\n",
       "    'en': 'jai jai kaar sabhai kareh sach thaan suhaiaa ||',\n",
       "    'hi': 'जै जै कारु सभै करहि सचु थानु सुहाइआ ॥',\n",
       "    'ipa': 'd͡ʒæ d͡ʒæ kɑr səɓæ kərəh sət͡ʃ t̪ʰɑn sʊhɑɪɑ.',\n",
       "    'ur': 'جَے جَے کار سبھَے کره سچ تھان سُهاایا ۔۔'}},\n",
       "  {'verse_id': 34713,\n",
       "   'verse': 'ਜਪਿ ਨਾਨਕ ਨਾਮੁ ਨਿਧਾਨ ਸੁਖ ਪੂਰਾ ਗੁਰੁ ਪਾਇਆ ॥੪॥੩੩॥੬੩॥',\n",
       "   'steek': {'en': {'bdb': 'Nanak chants the Naam, the Name of the Lord, the treasure of peace; I have found the Perfect Guru. ||4||33||63||',\n",
       "     'ms': \"Obtaining the Perfect Guru, Nanak utter the Lord's Name, the treasure of peace.\",\n",
       "     'ssk': 'Nanak chants the Naam, the Name of the Lord, the treasure of peace; I have found the Perfect Guru. ||4||33||63||'},\n",
       "    'pu': {'ss': {'gurmukhi': ' hy nwnk! (swD sMgiq dI brkiq nwl) swry suKW dy ^zwny hir-nwm ƒ jp ky pUry gurU dw (sdw leI) imlwp pRwpq kr leIdw hY [4[33[63[',\n",
       "      'unicode': ' ਹੇ ਨਾਨਕ! (ਸਾਧ ਸੰਗਤਿ ਦੀ ਬਰਕਤਿ ਨਾਲ) ਸਾਰੇ ਸੁਖਾਂ ਦੇ ਖ਼ਜ਼ਾਨੇ ਹਰਿ-ਨਾਮ ਨੂੰ ਜਪ ਕੇ ਪੂਰੇ ਗੁਰੂ ਦਾ (ਸਦਾ ਲਈ) ਮਿਲਾਪ ਪ੍ਰਾਪਤ ਕਰ ਲਈਦਾ ਹੈ ।੪।੩੩।੬੩।'},\n",
       "     'ft': {'gurmukhi': 'sRI gurU jI khqy hYN: ijs ko pUrw gurU imilAw hY iqs ny nwm inDwn ko jp ky suK pwieAw hY]4]33]63]ÇvwihgurU kI AO sMqW kI mihmw aucwrn krqy hYN:',\n",
       "      'unicode': 'ਸ੍ਰੀ ਗੁਰੂ ਜੀ ਕਹਤੇ ਹੈਂ: ਜਿਸ ਕੋ ਪੂਰਾ ਗੁਰੂ ਮਿਲਿਆ ਹੈ ਤਿਸ ਨੇ ਨਾਮ ਨਿਧਾਨ ਕੋ ਜਪ ਕੇ ਸੁਖ ਪਾਇਆ ਹੈ॥੪॥੩੩॥੬੩॥☬ਵਾਹਿਗੁਰੂ ਕੀ ਔ ਸੰਤਾਂ ਕੀ ਮਹਿਮਾ ਉਚਾਰਨ ਕਰਤੇ ਹੈਂ:'},\n",
       "     'bdb': {'gurmukhi': ' hy nwnk! (swD sMgiq dI brkiq nwl) swry suKW dy ^zwny hir-nwm ƒ jp ky pUry gurU dw (sdw leI) imlwp pRwpq kr leIdw hY [4[33[63[',\n",
       "      'unicode': ' ਹੇ ਨਾਨਕ! (ਸਾਧ ਸੰਗਤਿ ਦੀ ਬਰਕਤਿ ਨਾਲ) ਸਾਰੇ ਸੁਖਾਂ ਦੇ ਖ਼ਜ਼ਾਨੇ ਹਰਿ-ਨਾਮ ਨੂੰ ਜਪ ਕੇ ਪੂਰੇ ਗੁਰੂ ਦਾ (ਸਦਾ ਲਈ) ਮਿਲਾਪ ਪ੍ਰਾਪਤ ਕਰ ਲਈਦਾ ਹੈ ।੪।੩੩।੬੩।'},\n",
       "     'ms': {'gurmukhi': 'pUrn gurW ƒ prwpq krn, nwnk TMF-cYn dy Kjwny suAwmI dy nwm dw aucwrn krdw hY[',\n",
       "      'unicode': 'ਪੂਰਨ ਗੁਰਾਂ ਨੂੰ ਪਰਾਪਤ ਕਰਨ, ਨਾਨਕ ਠੰਢ-ਚੈਨ ਦੇ ਖਜਾਨੇ ਸੁਆਮੀ ਦੇ ਨਾਮ ਦਾ ਉਚਾਰਨ ਕਰਦਾ ਹੈ।'}},\n",
       "    'es': {'sn': 'Nanak ha contemplado el Nombre del Señor, el Tesoro de Paz, y ha logrado al Guru Perfecto. (4-33-63)'},\n",
       "    'hi': {'ss': 'हे नानक ! (साध-संगति की बरकति से) सारे सुखों के खजाने हरी-नाम को जप के पूरे गुरू का (सदा के लिए) मिलाप हासिल कर लेते हैं। 4। 33। 63।',\n",
       "     'sts': 'हे नानक ! सुखों के भण्डार प्रभु -नाम को जपकर पूर्ण गुरु को पा लिया है॥ ४ ॥ ३३ ॥ ६३ ॥'}},\n",
       "   'transliteration': {'english': 'jap naanak naam nidhaan sukh pooraa gur paiaa ||4||33||63||',\n",
       "    'hindi': 'जपि नानक नामु निधान सुख पूरा गुरु पाइआ ॥४॥३३॥६३॥',\n",
       "    'en': 'jap naanak naam nidhaan sukh pooraa gur paiaa ||4||33||63||',\n",
       "    'hi': 'जपि नानक नामु निधान सुख पूरा गुरु पाइआ ॥४॥३३॥६३॥',\n",
       "    'ipa': 'd͡ʒəp nɑnək nɑm nɪt̪ɑn sʊkʰ purɑ Gʊr pɑɪɑ.4.3ə3.6ə3.',\n",
       "    'ur': 'جپ نانک نام ندھان سُکھ پُورا گُر پاایا ۔۔۴۔۔۳۳۔۔۶۳۔۔'}}]}"
      ]
     },
     "execution_count": 4,
     "metadata": {},
     "output_type": "execute_result"
    }
   ],
   "source": [
    "shabad"
   ]
  },
  {
   "cell_type": "code",
   "execution_count": 5,
   "id": "45526bee-d7b9-4764-9b5d-e4a831f3c876",
   "metadata": {},
   "outputs": [
    {
     "data": {
      "text/plain": [
       "dict_keys(['shabad_id', 'source_uni', 'source_eng', 'writer', 'ang', 'verses'])"
      ]
     },
     "execution_count": 5,
     "metadata": {},
     "output_type": "execute_result"
    }
   ],
   "source": [
    "shabad.keys()"
   ]
  },
  {
   "cell_type": "code",
   "execution_count": 6,
   "id": "2cbbd271-45df-4d97-a032-443a4591a4cc",
   "metadata": {},
   "outputs": [
    {
     "name": "stdout",
     "output_type": "stream",
     "text": [
      "3069\n"
     ]
    }
   ],
   "source": [
    "print(shabad['shabad_id'])"
   ]
  },
  {
   "cell_type": "code",
   "execution_count": 7,
   "id": "5c083439-171c-4202-9ad8-df55e016d868",
   "metadata": {},
   "outputs": [
    {
     "name": "stdout",
     "output_type": "stream",
     "text": [
      "ਸ੍ਰੀ ਗੁਰੂ ਗ੍ਰੰਥ ਸਾਹਿਬ ਜੀ\n"
     ]
    }
   ],
   "source": [
    "print(shabad['source_uni'])"
   ]
  },
  {
   "cell_type": "code",
   "execution_count": 8,
   "id": "e095d1bc-d0d9-4586-8313-a257c6f97a1c",
   "metadata": {},
   "outputs": [
    {
     "name": "stdout",
     "output_type": "stream",
     "text": [
      "Guru Arjan Dev Ji\n"
     ]
    }
   ],
   "source": [
    "print(shabad['writer'])"
   ]
  },
  {
   "cell_type": "code",
   "execution_count": 9,
   "id": "ea6e64fc-3284-4a30-af4b-ec53128465a5",
   "metadata": {},
   "outputs": [
    {
     "name": "stdout",
     "output_type": "stream",
     "text": [
      "816\n"
     ]
    }
   ],
   "source": [
    "print(shabad['ang'])"
   ]
  },
  {
   "cell_type": "code",
   "execution_count": 10,
   "id": "dc663164-2a98-4f78-bcf2-44c37d8466a3",
   "metadata": {},
   "outputs": [
    {
     "data": {
      "text/plain": [
       "{'verse_id': 34703,\n",
       " 'verse': 'ਬਿਲਾਵਲੁ ਮਹਲਾ ੫ ॥',\n",
       " 'steek': {'en': {'bdb': 'Bilaaval, Fifth Mehla:',\n",
       "   'ms': 'Bilawal 5th Guru.',\n",
       "   'ssk': 'Bilaaval, Fifth Mehl:'},\n",
       "  'pu': {'ss': {'gurmukhi': None, 'unicode': None},\n",
       "   'ft': {'gurmukhi': '', 'unicode': ''},\n",
       "   'bdb': {'gurmukhi': None, 'unicode': None},\n",
       "   'ms': {'gurmukhi': 'iblwvl pMjvIN pwiqSwhI[',\n",
       "    'unicode': 'ਬਿਲਾਵਲ ਪੰਜਵੀਂ ਪਾਤਿਸ਼ਾਹੀ।'}},\n",
       "  'es': {'sn': 'Bilawal, Mejl Guru Aryan, Quinto Canal Divino'},\n",
       "  'hi': {'ss': '', 'sts': 'बिलावलु महला ५ ॥'}},\n",
       " 'transliteration': {'english': 'bilaaval mahalaa panjavaa ||',\n",
       "  'hindi': 'बिलावलु महला ५ ॥',\n",
       "  'en': 'bilaaval mahalaa panjavaa ||',\n",
       "  'hi': 'बिलावलु महला ५ ॥',\n",
       "  'ipa': 'bɪlɑʋəl məhəlɑ pəŋd͡ʒʋɑ.',\n",
       "  'ur': 'بِلاول مهلا ۵ ۔۔'}}"
      ]
     },
     "execution_count": 10,
     "metadata": {},
     "output_type": "execute_result"
    }
   ],
   "source": [
    "shabad['verses'][0]"
   ]
  },
  {
   "cell_type": "code",
   "execution_count": 11,
   "id": "6b0a2ca4-6544-4e8b-9c58-4304f8521dc9",
   "metadata": {},
   "outputs": [
    {
     "data": {
      "text/plain": [
       "{'verse_id': 34704,\n",
       " 'verse': 'ਸਿਮਰਿ ਸਿਮਰਿ ਪੂਰਨ ਪ੍ਰਭੂ ਕਾਰਜ ਭਏ ਰਾਸਿ ॥',\n",
       " 'steek': {'en': {'bdb': 'Meditate, meditate in remembrance of the Perfect Lord God, and your affairs shall be perfectly resolved.',\n",
       "   'ms': 'Remembering and contemplating the Perfect Lord, mine affairs are all arranged.',\n",
       "   'ssk': 'Meditate, meditate in remembrance of the Perfect Lord God, and your affairs shall be perfectly resolved.'},\n",
       "  'pu': {'ss': {'gurmukhi': 'hy BweI! swD sMgiq ivc prmwqmw (Awp) v`sdw hY, Awpxy sMq jnW dy AMg-sMg v`sdw hY [ ',\n",
       "    'unicode': 'ਹੇ ਭਾਈ! ਸਾਧ ਸੰਗਤਿ ਵਿਚ ਪਰਮਾਤਮਾ (ਆਪ) ਵੱਸਦਾ ਹੈ, ਆਪਣੇ ਸੰਤ ਜਨਾਂ ਦੇ ਅੰਗ-ਸੰਗ ਵੱਸਦਾ ਹੈ । '},\n",
       "   'ft': {'gurmukhi': 'pUrn pRBU kO mn bwxI sy ismrn krny sy BgqoN ky srb kwrj rws hoey hYN]',\n",
       "    'unicode': 'ਪੂਰਨ ਪ੍ਰਭੂ ਕੌ ਮਨ ਬਾਣੀ ਸੇ ਸਿਮਰਨ ਕਰਨੇ ਸੇ ਭਗਤੋਂ ਕੇ ਸਰਬ ਕਾਰਜ ਰਾਸ ਹੋਏ ਹੈਂ॥'},\n",
       "   'bdb': {'gurmukhi': 'hy BweI! swD sMgiq ivc prmwqmw (Awp) v`sdw hY, Awpxy sMq jnW dy AMg-sMg v`sdw hY [ ',\n",
       "    'unicode': 'ਹੇ ਭਾਈ! ਸਾਧ ਸੰਗਤਿ ਵਿਚ ਪਰਮਾਤਮਾ (ਆਪ) ਵੱਸਦਾ ਹੈ, ਆਪਣੇ ਸੰਤ ਜਨਾਂ ਦੇ ਅੰਗ-ਸੰਗ ਵੱਸਦਾ ਹੈ । '},\n",
       "   'ms': {'gurmukhi': 'pUry swihb dw AwrwDn Aqy icMqn krn duAwrw myry swry kMm-kwj Sor h gey hn[',\n",
       "    'unicode': 'ਪੂਰੇ ਸਾਹਿਬ ਦਾ ਆਰਾਧਨ ਅਤੇ ਚਿੰਤਨ ਕਰਨ ਦੁਆਰਾ ਮੇਰੇ ਸਾਰੇ ਕੰਮ-ਕਾਜ ਸ਼ੋਰ ਹ ਗਏ ਹਨ।'}},\n",
       "  'es': {'sn': 'Contemplando al Señor Perfecto vivo en verdad satisfecho, '},\n",
       "  'hi': {'ss': 'हे भाई ! साध-संगति में परमात्मा (स्वयं) बसता है। अपने संतजनों के अंग संग बसता है।',\n",
       "   'sts': 'पूर्ण प्रभु का सिमरन करने से सभी कार्य सम्पन्न हो गए हैं।'}},\n",
       " 'transliteration': {'english': 'simar simar pooran prabhoo kaaraj bhe raas ||',\n",
       "  'hindi': 'सिमरि सिमरि पूरन प्रभू कारज भए रासि ॥',\n",
       "  'en': 'simar simar pooran prabhoo kaaraj bhe raas ||',\n",
       "  'hi': 'सिमरि सिमरि पूरन प्रभू कारज भए रासि ॥',\n",
       "  'ipa': 'sɪmər sɪmər purən pɹəɓu kɑrəd͡ʒ ɓee rɑs.',\n",
       "  'ur': 'سِمر سمر پُورن پربھُو کارج بھاے راس ۔۔'}}"
      ]
     },
     "execution_count": 11,
     "metadata": {},
     "output_type": "execute_result"
    }
   ],
   "source": [
    "shabad['verses'][1] # starting verse of the shabad"
   ]
  },
  {
   "cell_type": "code",
   "execution_count": 12,
   "id": "0adc0925-bd01-4606-8b9d-7f76bd54074d",
   "metadata": {},
   "outputs": [
    {
     "data": {
      "text/plain": [
       "{'verse_id': 34713,\n",
       " 'verse': 'ਜਪਿ ਨਾਨਕ ਨਾਮੁ ਨਿਧਾਨ ਸੁਖ ਪੂਰਾ ਗੁਰੁ ਪਾਇਆ ॥੪॥੩੩॥੬੩॥',\n",
       " 'steek': {'en': {'bdb': 'Nanak chants the Naam, the Name of the Lord, the treasure of peace; I have found the Perfect Guru. ||4||33||63||',\n",
       "   'ms': \"Obtaining the Perfect Guru, Nanak utter the Lord's Name, the treasure of peace.\",\n",
       "   'ssk': 'Nanak chants the Naam, the Name of the Lord, the treasure of peace; I have found the Perfect Guru. ||4||33||63||'},\n",
       "  'pu': {'ss': {'gurmukhi': ' hy nwnk! (swD sMgiq dI brkiq nwl) swry suKW dy ^zwny hir-nwm ƒ jp ky pUry gurU dw (sdw leI) imlwp pRwpq kr leIdw hY [4[33[63[',\n",
       "    'unicode': ' ਹੇ ਨਾਨਕ! (ਸਾਧ ਸੰਗਤਿ ਦੀ ਬਰਕਤਿ ਨਾਲ) ਸਾਰੇ ਸੁਖਾਂ ਦੇ ਖ਼ਜ਼ਾਨੇ ਹਰਿ-ਨਾਮ ਨੂੰ ਜਪ ਕੇ ਪੂਰੇ ਗੁਰੂ ਦਾ (ਸਦਾ ਲਈ) ਮਿਲਾਪ ਪ੍ਰਾਪਤ ਕਰ ਲਈਦਾ ਹੈ ।੪।੩੩।੬੩।'},\n",
       "   'ft': {'gurmukhi': 'sRI gurU jI khqy hYN: ijs ko pUrw gurU imilAw hY iqs ny nwm inDwn ko jp ky suK pwieAw hY]4]33]63]ÇvwihgurU kI AO sMqW kI mihmw aucwrn krqy hYN:',\n",
       "    'unicode': 'ਸ੍ਰੀ ਗੁਰੂ ਜੀ ਕਹਤੇ ਹੈਂ: ਜਿਸ ਕੋ ਪੂਰਾ ਗੁਰੂ ਮਿਲਿਆ ਹੈ ਤਿਸ ਨੇ ਨਾਮ ਨਿਧਾਨ ਕੋ ਜਪ ਕੇ ਸੁਖ ਪਾਇਆ ਹੈ॥੪॥੩੩॥੬੩॥☬ਵਾਹਿਗੁਰੂ ਕੀ ਔ ਸੰਤਾਂ ਕੀ ਮਹਿਮਾ ਉਚਾਰਨ ਕਰਤੇ ਹੈਂ:'},\n",
       "   'bdb': {'gurmukhi': ' hy nwnk! (swD sMgiq dI brkiq nwl) swry suKW dy ^zwny hir-nwm ƒ jp ky pUry gurU dw (sdw leI) imlwp pRwpq kr leIdw hY [4[33[63[',\n",
       "    'unicode': ' ਹੇ ਨਾਨਕ! (ਸਾਧ ਸੰਗਤਿ ਦੀ ਬਰਕਤਿ ਨਾਲ) ਸਾਰੇ ਸੁਖਾਂ ਦੇ ਖ਼ਜ਼ਾਨੇ ਹਰਿ-ਨਾਮ ਨੂੰ ਜਪ ਕੇ ਪੂਰੇ ਗੁਰੂ ਦਾ (ਸਦਾ ਲਈ) ਮਿਲਾਪ ਪ੍ਰਾਪਤ ਕਰ ਲਈਦਾ ਹੈ ।੪।੩੩।੬੩।'},\n",
       "   'ms': {'gurmukhi': 'pUrn gurW ƒ prwpq krn, nwnk TMF-cYn dy Kjwny suAwmI dy nwm dw aucwrn krdw hY[',\n",
       "    'unicode': 'ਪੂਰਨ ਗੁਰਾਂ ਨੂੰ ਪਰਾਪਤ ਕਰਨ, ਨਾਨਕ ਠੰਢ-ਚੈਨ ਦੇ ਖਜਾਨੇ ਸੁਆਮੀ ਦੇ ਨਾਮ ਦਾ ਉਚਾਰਨ ਕਰਦਾ ਹੈ।'}},\n",
       "  'es': {'sn': 'Nanak ha contemplado el Nombre del Señor, el Tesoro de Paz, y ha logrado al Guru Perfecto. (4-33-63)'},\n",
       "  'hi': {'ss': 'हे नानक ! (साध-संगति की बरकति से) सारे सुखों के खजाने हरी-नाम को जप के पूरे गुरू का (सदा के लिए) मिलाप हासिल कर लेते हैं। 4। 33। 63।',\n",
       "   'sts': 'हे नानक ! सुखों के भण्डार प्रभु -नाम को जपकर पूर्ण गुरु को पा लिया है॥ ४ ॥ ३३ ॥ ६३ ॥'}},\n",
       " 'transliteration': {'english': 'jap naanak naam nidhaan sukh pooraa gur paiaa ||4||33||63||',\n",
       "  'hindi': 'जपि नानक नामु निधान सुख पूरा गुरु पाइआ ॥४॥३३॥६३॥',\n",
       "  'en': 'jap naanak naam nidhaan sukh pooraa gur paiaa ||4||33||63||',\n",
       "  'hi': 'जपि नानक नामु निधान सुख पूरा गुरु पाइआ ॥४॥३३॥६३॥',\n",
       "  'ipa': 'd͡ʒəp nɑnək nɑm nɪt̪ɑn sʊkʰ purɑ Gʊr pɑɪɑ.4.3ə3.6ə3.',\n",
       "  'ur': 'جپ نانک نام ندھان سُکھ پُورا گُر پاایا ۔۔۴۔۔۳۳۔۔۶۳۔۔'}}"
      ]
     },
     "execution_count": 12,
     "metadata": {},
     "output_type": "execute_result"
    }
   ],
   "source": [
    "shabad['verses'][-1] # ending verse of the shabad"
   ]
  },
  {
   "cell_type": "markdown",
   "id": "f5e6e56d-0f6c-41b4-9f01-739dd6e71bc0",
   "metadata": {},
   "source": [
    "**Searching a shabad**"
   ]
  },
  {
   "cell_type": "code",
   "execution_count": 13,
   "id": "d3124a0b-25f3-463c-ad56-f15202dd96f5",
   "metadata": {},
   "outputs": [],
   "source": [
    "gurbani_text = \"ਥਿਰੁ ਘਰਿ ਬੈਸਹੁ ਹਰਿ ਜਨ ਪਿਆਰੇ\" # Thir ghar baiso har jan piaare"
   ]
  },
  {
   "cell_type": "code",
   "execution_count": 14,
   "id": "5b1a4b22-eaf7-469c-a790-3402b6dd0226",
   "metadata": {},
   "outputs": [
    {
     "name": "stdout",
     "output_type": "stream",
     "text": [
      "CPU times: total: 188 ms\n",
      "Wall time: 13.2 s\n"
     ]
    }
   ],
   "source": [
    "%%time\n",
    "# Try searching 10 times across all sources, all angs, all angs, and all writers\n",
    "# The default search options for banidb.search() are:\n",
    "# banidb.search(query, searchtype=1, source='all', larivaar=False,\n",
    "#              ang=None, raag=None, writer='all', page=1, results=None)\n",
    "for i in range(10):\n",
    "    ascii_query = firstLetters(gurbani_text)\n",
    "    shabad_data = banidb.search(ascii_query)"
   ]
  },
  {
   "cell_type": "code",
   "execution_count": 15,
   "id": "c594a811-62f9-44e2-bbf5-f5d71d730b5f",
   "metadata": {},
   "outputs": [
    {
     "name": "stdout",
     "output_type": "stream",
     "text": [
      "ਥਘਬਹਜਪ\n"
     ]
    },
    {
     "data": {
      "text/plain": [
       "{'total_results': 1,\n",
       " 'total_pages': 1,\n",
       " 'pages_data': {'page_1': [{'shabad_id': 628,\n",
       "    'verse': 'ਥਿਰੁ ਘਰਿ ਬੈਸਹੁ ਹਰਿ ਜਨ ਪਿਆਰੇ ॥',\n",
       "    'steek': {'en': 'Remain steady in the home of your own self, O beloved servant of the Lord.',\n",
       "     'pu': 'ਹੇ ਪਿਆਰੇ ਭਗਤ ਜਨੋ! ਆਪਣੇ ਹਿਰਦੇ ਵਿਚ ਇਹ ਪੂਰੀ ਸਰਧਾ ਬਣਾਓ'},\n",
       "    'source': {'pu': 'ਸ੍ਰੀ ਗੁਰੂ ਗ੍ਰੰਥ ਸਾਹਿਬ ਜੀ',\n",
       "     'en': 'Sri Guru Granth Sahib Ji',\n",
       "     'ang': 201,\n",
       "     'raagpu': 'ਰਾਗੁ ਗਉੜੀ',\n",
       "     'raagen': 'Raag Gauree',\n",
       "     'writer': 'Guru Arjan Dev Ji'}}]}}"
      ]
     },
     "execution_count": 15,
     "metadata": {},
     "output_type": "execute_result"
    }
   ],
   "source": [
    "print(ascii_query)\n",
    "shabad_data"
   ]
  },
  {
   "cell_type": "markdown",
   "id": "bae8602b-ec7c-438b-80ff-496e39caa652",
   "metadata": {},
   "source": [
    "Now, let's find a shabad using a restricted search space"
   ]
  },
  {
   "cell_type": "code",
   "execution_count": 16,
   "id": "050be5f9-5565-4251-8676-a61b2a702ec5",
   "metadata": {},
   "outputs": [
    {
     "data": {
      "text/plain": [
       "{'shabad_id': 628,\n",
       " 'verse': 'ਥਿਰੁ ਘਰਿ ਬੈਸਹੁ ਹਰਿ ਜਨ ਪਿਆਰੇ ॥',\n",
       " 'steek': {'en': 'Remain steady in the home of your own self, O beloved servant of the Lord.',\n",
       "  'pu': 'ਹੇ ਪਿਆਰੇ ਭਗਤ ਜਨੋ! ਆਪਣੇ ਹਿਰਦੇ ਵਿਚ ਇਹ ਪੂਰੀ ਸਰਧਾ ਬਣਾਓ'},\n",
       " 'source': {'pu': 'ਸ੍ਰੀ ਗੁਰੂ ਗ੍ਰੰਥ ਸਾਹਿਬ ਜੀ',\n",
       "  'en': 'Sri Guru Granth Sahib Ji',\n",
       "  'ang': 201,\n",
       "  'raagpu': 'ਰਾਗੁ ਗਉੜੀ',\n",
       "  'raagen': 'Raag Gauree',\n",
       "  'writer': 'Guru Arjan Dev Ji'}}"
      ]
     },
     "execution_count": 16,
     "metadata": {},
     "output_type": "execute_result"
    }
   ],
   "source": [
    "shabad_data['pages_data']['page_1'][0]"
   ]
  },
  {
   "cell_type": "markdown",
   "id": "caf54705-5d94-4c35-914a-9c7834db7f21",
   "metadata": {},
   "source": [
    "To restrict search space, the options in banidb.search are:\n",
    "1. source\n",
    "2. ang\n",
    "3. raag\n",
    "4. writer<br>\n",
    "Let's try to extract these from shabad_data"
   ]
  },
  {
   "cell_type": "markdown",
   "id": "f60ed71a-838f-44b9-a6c0-598c232c1fe8",
   "metadata": {},
   "source": [
    "*Source*"
   ]
  },
  {
   "cell_type": "code",
   "execution_count": 17,
   "id": "4fb3b24d-8e2e-4d7c-98c0-16c731c366d4",
   "metadata": {},
   "outputs": [
    {
     "data": {
      "text/plain": [
       "[{'source_id': 'A',\n",
       "  'source_uni': 'ਅੰਮ੍ਰਿਤ ਕੀਰਤਨ',\n",
       "  'source_eng': 'Amrit Keertan'},\n",
       " {'source_id': 'B',\n",
       "  'source_uni': 'ਭਾਈ ਗੁਰਦਾਸ ਜੀ ਵਾਰਾਂ',\n",
       "  'source_eng': 'Bhai Gurdas Ji Vaaran'},\n",
       " {'source_id': 'D', 'source_uni': 'ਦਸਮ ਬਾਣੀ', 'source_eng': 'Dasam Bani'},\n",
       " {'source_id': 'G',\n",
       "  'source_uni': 'ਸ੍ਰੀ ਗੁਰੂ ਗ੍ਰੰਥ ਸਾਹਿਬ ਜੀ',\n",
       "  'source_eng': 'Sri Guru Granth Sahib Ji'},\n",
       " {'source_id': 'N',\n",
       "  'source_uni': 'ਭਾਈ ਨੰਦ ਲਾਲ ਜੀ ਵਾਰਾਂ',\n",
       "  'source_eng': 'Bhai Nand Lal Ji Vaaran'},\n",
       " {'source_id': 'R',\n",
       "  'source_uni': 'ਰਹਿਤਨਾਮੇ ਅਤੇ ਪੰਥਕ ਲਿਖ਼ਤਾਂ',\n",
       "  'source_eng': 'Codes of Conduct and Other Panthic Sources'},\n",
       " {'source_id': 'S',\n",
       "  'source_uni': 'ਭਾਈ ਗੁਰਦਾਸ ਸਿੰਘ ਜੀ ਵਾਰਾਂ',\n",
       "  'source_eng': 'Bhai Gurdas Singh Ji Vaaran'}]"
      ]
     },
     "execution_count": 17,
     "metadata": {},
     "output_type": "execute_result"
    }
   ],
   "source": [
    "banidb.sources()"
   ]
  },
  {
   "cell_type": "markdown",
   "id": "30f61478-6bb6-4a3c-921f-034dc271484b",
   "metadata": {},
   "source": [
    "I think that the search space can be universally restricted to B (I don't know how this is different from S), D, G, N from https://banidbpy.readthedocs.io/en/latest/sources.html but it seems that the search function only allows for a string i.e. a single source instead of multiple ones: https://banidbpy.readthedocs.io/en/latest/searchdb.html"
   ]
  },
  {
   "cell_type": "code",
   "execution_count": 18,
   "id": "2e24cdbc-f7df-405e-8533-cf9512658c4e",
   "metadata": {},
   "outputs": [
    {
     "data": {
      "text/plain": [
       "{'Amrit Keertan': 'A',\n",
       " 'Bhai Gurdas Ji Vaaran': 'B',\n",
       " 'Dasam Bani': 'D',\n",
       " 'Sri Guru Granth Sahib Ji': 'G',\n",
       " 'Bhai Nand Lal Ji Vaaran': 'N',\n",
       " 'Codes of Conduct and Other Panthic Sources': 'R',\n",
       " 'Bhai Gurdas Singh Ji Vaaran': 'S'}"
      ]
     },
     "execution_count": 18,
     "metadata": {},
     "output_type": "execute_result"
    }
   ],
   "source": [
    "# banidb.search() accepts source ID, not the source in english or unicode (https://banidbpy.readthedocs.io/en/latest/sources.html)\n",
    "# Map 'source_eng', which is what we get from banidb.search()'s output back to source ID so that we can use that in subsequent\n",
    "# calls to banidb.search()\n",
    "source_to_id_dict = {}\n",
    "for item in banidb.sources():\n",
    "    source_to_id_dict[item['source_eng']] = item['source_id']\n",
    "source_to_id_dict"
   ]
  },
  {
   "cell_type": "code",
   "execution_count": 19,
   "id": "efa501fc-e24e-4007-b3b2-5e523bfadb1c",
   "metadata": {},
   "outputs": [
    {
     "data": {
      "text/plain": [
       "{'pu': 'ਸ੍ਰੀ ਗੁਰੂ ਗ੍ਰੰਥ ਸਾਹਿਬ ਜੀ',\n",
       " 'en': 'Sri Guru Granth Sahib Ji',\n",
       " 'ang': 201,\n",
       " 'raagpu': 'ਰਾਗੁ ਗਉੜੀ',\n",
       " 'raagen': 'Raag Gauree',\n",
       " 'writer': 'Guru Arjan Dev Ji'}"
      ]
     },
     "execution_count": 19,
     "metadata": {},
     "output_type": "execute_result"
    }
   ],
   "source": [
    "# Extract source for the shabad\n",
    "shabad_data['pages_data']['page_1'][0]['source']"
   ]
  },
  {
   "cell_type": "code",
   "execution_count": 20,
   "id": "e8e5ef26-a447-40a6-9a7a-9bbc44ea6745",
   "metadata": {},
   "outputs": [
    {
     "name": "stdout",
     "output_type": "stream",
     "text": [
      "Sri Guru Granth Sahib Ji\n"
     ]
    },
    {
     "data": {
      "text/plain": [
       "{'total_results': 1,\n",
       " 'total_pages': 1,\n",
       " 'pages_data': {'page_1': [{'shabad_id': 628,\n",
       "    'verse': 'ਥਿਰੁ ਘਰਿ ਬੈਸਹੁ ਹਰਿ ਜਨ ਪਿਆਰੇ ॥',\n",
       "    'steek': {'en': 'Remain steady in the home of your own self, O beloved servant of the Lord.',\n",
       "     'pu': 'ਹੇ ਪਿਆਰੇ ਭਗਤ ਜਨੋ! ਆਪਣੇ ਹਿਰਦੇ ਵਿਚ ਇਹ ਪੂਰੀ ਸਰਧਾ ਬਣਾਓ'},\n",
       "    'source': {'pu': 'ਸ੍ਰੀ ਗੁਰੂ ਗ੍ਰੰਥ ਸਾਹਿਬ ਜੀ',\n",
       "     'en': 'Sri Guru Granth Sahib Ji',\n",
       "     'ang': 201,\n",
       "     'raagpu': 'ਰਾਗੁ ਗਉੜੀ',\n",
       "     'raagen': 'Raag Gauree',\n",
       "     'writer': 'Guru Arjan Dev Ji'}}]}}"
      ]
     },
     "execution_count": 20,
     "metadata": {},
     "output_type": "execute_result"
    }
   ],
   "source": [
    "# Sanity check\n",
    "shabad_source = shabad_data['pages_data']['page_1'][0]['source']['en']\n",
    "print(shabad_source)\n",
    "banidb.search(ascii_query, source = source_to_id_dict.get(shabad_source))"
   ]
  },
  {
   "cell_type": "markdown",
   "id": "3b3009f4-ada3-49de-9c57-7cfb44dcff13",
   "metadata": {},
   "source": [
    "*Ang*"
   ]
  },
  {
   "cell_type": "code",
   "execution_count": 21,
   "id": "9d17ecba-bdbb-4095-9448-bf6df573aa61",
   "metadata": {},
   "outputs": [
    {
     "name": "stdout",
     "output_type": "stream",
     "text": [
      "201\n"
     ]
    },
    {
     "data": {
      "text/plain": [
       "{'total_results': 1,\n",
       " 'total_pages': 1,\n",
       " 'pages_data': {'page_1': [{'shabad_id': 628,\n",
       "    'verse': 'ਥਿਰੁ ਘਰਿ ਬੈਸਹੁ ਹਰਿ ਜਨ ਪਿਆਰੇ ॥',\n",
       "    'steek': {'en': 'Remain steady in the home of your own self, O beloved servant of the Lord.',\n",
       "     'pu': 'ਹੇ ਪਿਆਰੇ ਭਗਤ ਜਨੋ! ਆਪਣੇ ਹਿਰਦੇ ਵਿਚ ਇਹ ਪੂਰੀ ਸਰਧਾ ਬਣਾਓ'},\n",
       "    'source': {'pu': 'ਸ੍ਰੀ ਗੁਰੂ ਗ੍ਰੰਥ ਸਾਹਿਬ ਜੀ',\n",
       "     'en': 'Sri Guru Granth Sahib Ji',\n",
       "     'ang': 201,\n",
       "     'raagpu': 'ਰਾਗੁ ਗਉੜੀ',\n",
       "     'raagen': 'Raag Gauree',\n",
       "     'writer': 'Guru Arjan Dev Ji'}}]}}"
      ]
     },
     "execution_count": 21,
     "metadata": {},
     "output_type": "execute_result"
    }
   ],
   "source": [
    "shabad_ang = shabad_data['pages_data']['page_1'][0]['source']['ang']\n",
    "print(shabad_ang)\n",
    "# Sanity check\n",
    "banidb.search(ascii_query, ang = shabad_ang)"
   ]
  },
  {
   "cell_type": "markdown",
   "id": "8143fa25-b414-4e74-846f-f60a18d95f50",
   "metadata": {},
   "source": [
    "*Raag*"
   ]
  },
  {
   "cell_type": "code",
   "execution_count": 22,
   "id": "64e0996a-5ad1-43fa-b7a8-45bd799ffbb3",
   "metadata": {},
   "outputs": [
    {
     "name": "stdout",
     "output_type": "stream",
     "text": [
      "banidb.raags() doesn't work. Retrieving raags directly from the API\n",
      "Successfully retrieved:\n",
      "{'raag_id': 1, 'raag_uni': 'ਜਪ', 'raag_eng': 'Jap'}\n",
      "{'raag_id': 2, 'raag_uni': 'ਸੋ ਦਰ', 'raag_eng': 'So Dar'}\n",
      "{'raag_id': 3, 'raag_uni': 'ਸੋ ਪੁਰਖ', 'raag_eng': 'So Purakh'}\n",
      "{'raag_id': 4, 'raag_uni': 'ਸੋਹਿਲਾ', 'raag_eng': 'Sohila'}\n",
      "{'raag_id': 5, 'raag_uni': 'ਸਿਰੀ ਰਾਗੁ', 'raag_eng': 'Siree Raag'}\n",
      "{'raag_id': 6, 'raag_uni': 'ਰਾਗੁ ਮਾਝ', 'raag_eng': 'Raag Maajh'}\n",
      "{'raag_id': 7, 'raag_uni': 'ਰਾਗੁ ਗਉੜੀ', 'raag_eng': 'Raag Gauree'}\n",
      "{'raag_id': 8, 'raag_uni': 'ਰਾਗੁ ਆਸਾ', 'raag_eng': 'Raag Aasaa'}\n",
      "{'raag_id': 9, 'raag_uni': 'ਰਾਗੁ ਗੂਜਰੀ', 'raag_eng': 'Raag Gujri'}\n",
      "{'raag_id': 10, 'raag_uni': 'ਰਾਗੁ ਦੇਵਗੰਧਾਰੀ', 'raag_eng': 'Raag Dayv Gandhaaree'}\n",
      "{'raag_id': 11, 'raag_uni': 'ਰਾਗੁ ਬਿਹਾਗੜਾ', 'raag_eng': 'Raag Bihaagraa'}\n",
      "{'raag_id': 12, 'raag_uni': 'ਰਾਗੁ ਵਡਹੰਸੁ', 'raag_eng': 'Raag Vadhans'}\n",
      "{'raag_id': 13, 'raag_uni': 'ਰਾਗੁ ਸੋਰਠਿ', 'raag_eng': 'Raag Sorath'}\n",
      "{'raag_id': 14, 'raag_uni': 'ਰਾਗੁ ਧਨਾਸਰੀ', 'raag_eng': 'Raag Dhanaasree'}\n",
      "{'raag_id': 15, 'raag_uni': 'ਰਾਗੁ ਜੈਤਸਰੀ', 'raag_eng': 'Raag Jaithsree'}\n",
      "{'raag_id': 16, 'raag_uni': 'ਰਾਗੁ ਟੋਡੀ', 'raag_eng': 'Raag Todee'}\n",
      "{'raag_id': 17, 'raag_uni': 'ਰਾਗੁ ਬੈਰਾੜੀ', 'raag_eng': 'Raag Baihaaree'}\n",
      "{'raag_id': 18, 'raag_uni': 'ਰਾਗੁ ਤਿਲੰਗ', 'raag_eng': 'Raag Tilang'}\n",
      "{'raag_id': 19, 'raag_uni': 'ਰਾਗੁ ਸੂਹੀ', 'raag_eng': 'Raag Soohee'}\n",
      "{'raag_id': 20, 'raag_uni': 'ਰਾਗੁ ਬਿਲਾਵਲ', 'raag_eng': 'Raag Bilaaval'}\n",
      "{'raag_id': 21, 'raag_uni': 'ਰਾਗੁ ਗੋਂਡ', 'raag_eng': 'Raag Gond'}\n",
      "{'raag_id': 22, 'raag_uni': 'ਰਾਗੁ ਰਾਮਕਲੀ', 'raag_eng': 'Raag Raamkalee'}\n",
      "{'raag_id': 23, 'raag_uni': 'ਰਾਗੁ ਨਟ ਨਾਰਾਇਨ', 'raag_eng': 'Raag Nat Naaraayan'}\n",
      "{'raag_id': 24, 'raag_uni': 'ਰਾਗੁ ਮਾਲੀ ਗਉੜਾ', 'raag_eng': 'Raag Maalee Gauraa'}\n",
      "{'raag_id': 25, 'raag_uni': 'ਰਾਗੁ ਮਾਰੂ', 'raag_eng': 'Raag Maaroo'}\n",
      "{'raag_id': 26, 'raag_uni': 'ਰਾਗੁ ਤੁਖਾਰੀ', 'raag_eng': 'Raag Tukhaari'}\n",
      "{'raag_id': 27, 'raag_uni': 'ਰਾਗੁ ਕੇਦਾਰਾ', 'raag_eng': 'Raag Kaydaaraa'}\n",
      "{'raag_id': 28, 'raag_uni': 'ਰਾਗੁ  ਭੈਰੳ', 'raag_eng': 'Raag Bhairao'}\n",
      "{'raag_id': 29, 'raag_uni': 'ਰਾਗੁ ਬਸੰਤ', 'raag_eng': 'Raag Basant'}\n",
      "{'raag_id': 30, 'raag_uni': 'ਰਾਗੁ ਸਾਰੰਗ', 'raag_eng': 'Raag Saarang'}\n",
      "{'raag_id': 31, 'raag_uni': 'ਰਾਗੁ ਮਲਾਰ', 'raag_eng': 'Raag Malaar'}\n",
      "{'raag_id': 32, 'raag_uni': 'ਰਾਗੁ ਕਾਨੜਾ', 'raag_eng': 'Raag Kaanraa'}\n",
      "{'raag_id': 33, 'raag_uni': 'ਰਾਗੁ ਕਲਿਆਨ', 'raag_eng': 'Raag Kalyaan'}\n",
      "{'raag_id': 34, 'raag_uni': 'ਰਾਗੁ ਪ੍ਰਭਾਤੀ', 'raag_eng': 'Raag Prabhaatee'}\n",
      "{'raag_id': 35, 'raag_uni': 'ਰਾਗੁ ਜੈਜਾਵੰਤੀ', 'raag_eng': 'Raag Jaijaavantee'}\n",
      "{'raag_id': 36, 'raag_uni': 'ਸਲੋਕ ਸਹਸਕ੍ਰਿਤੀ', 'raag_eng': 'Salok Sehskritee'}\n",
      "{'raag_id': 37, 'raag_uni': 'ਮਹਲਾ ੫ ਗਾਥਾ', 'raag_eng': 'Fifth Mehl, Gaathaa'}\n",
      "{'raag_id': 38, 'raag_uni': 'ਫੁਨਹੇ ਮਹਲਾ ੫', 'raag_eng': 'Phunhay Fifth Mehl'}\n",
      "{'raag_id': 39, 'raag_uni': 'ਚਉਬੋਲੇ ਮਹਲਾ ੫', 'raag_eng': 'Chaubolas Fifth Mehl'}\n",
      "{'raag_id': 40, 'raag_uni': 'ਸਲੋਕ ਭਗਤ ਕਬੀਰ ਜੀਉ ਕੇ', 'raag_eng': 'Salok Kabeer Jee'}\n",
      "{'raag_id': 41, 'raag_uni': 'ਸਲੋਕ ਸੇਖ ਫਰੀਦ ਕ', 'raag_eng': 'Salok Fareed Jee'}\n",
      "{'raag_id': 42, 'raag_uni': 'ਸਵਯੇ ਸ੍ਰੀ ਮੁਖ ਬਾਕ ਮਹਲਾ ੫', 'raag_eng': 'Svaiyay Mehl 5'}\n",
      "{'raag_id': 43, 'raag_uni': 'ਸਲੋਕ ਵਾਰਾਂ ਤੇ ਵਧੀਕ', 'raag_eng': 'Salok Vaaraan Thay Vadheek'}\n",
      "{'raag_id': 44, 'raag_uni': 'ਸਲੋਕ ਮਹਲਾ ੯', 'raag_eng': 'Salok Mehl 9'}\n",
      "{'raag_id': 45, 'raag_uni': 'ਮੁੰਦਾਵਣੀ ਮਹਲਾ ੫', 'raag_eng': 'Mundhaavanee Fifth Mehl'}\n",
      "{'raag_id': 46, 'raag_uni': 'ਰਾਗ ਮਾਲਾ', 'raag_eng': 'Raag Maalaa'}\n",
      "{'raag_id': 47, 'raag_uni': 'ਵਾਰ', 'raag_eng': 'Vaaran'}\n",
      "{'raag_id': 48, 'raag_uni': 'ਦਸਮ ਗ੍ਰੰਥ', 'raag_eng': 'Dasam Granth'}\n",
      "{'raag_id': 50, 'raag_uni': '', 'raag_eng': 'Amrit Keertan'}\n"
     ]
    }
   ],
   "source": [
    "try:\n",
    "    raags = banidb.raags() # If this fails, try the one below\n",
    "except:\n",
    "    print(\"banidb.raags() doesn't work. Retrieving raags directly from the API\")\n",
    "    def get_raags_directly():\n",
    "        \"\"\"\n",
    "        Fetches the list of raags directly from the BaniDB API,\n",
    "        bypassing the banidb.raags() function.\n",
    "        \"\"\"\n",
    "        # The API endpoint that the banidb library uses for raags\n",
    "        url = \"https://api.banidb.com/v2/raags\"\n",
    "        \n",
    "        try:\n",
    "            response = requests.get(url)\n",
    "            # Raise an exception if the request returned an error (e.g., 404, 500)\n",
    "            response.raise_for_status()\n",
    "            \n",
    "            # Convert the JSON response to a Python dictionary\n",
    "            data = response.json()\n",
    "            \n",
    "            # The actual raag data is in the 'rows' key, skipping the header row\n",
    "            raags_list = []\n",
    "            for row in data['rows'][1:]:\n",
    "                raag = {\n",
    "                    'raag_id': row.get('RaagID'),\n",
    "                    'raag_uni': row.get('RaagUnicode'),\n",
    "                    'raag_eng': row.get('RaagEnglish')\n",
    "                }\n",
    "                raags_list.append(raag)\n",
    "                \n",
    "            return raags_list\n",
    "    \n",
    "        except requests.exceptions.RequestException as e:\n",
    "            print(f\"A network error occurred: {e}\")\n",
    "            return None\n",
    "        except (KeyError, IndexError) as e:\n",
    "            print(f\"The API response format may have changed. Error: {e}\")\n",
    "            return None\n",
    "\n",
    "        # --- Usage ---\n",
    "    raags = get_raags_directly()\n",
    "        \n",
    "if raags:\n",
    "    print(\"Successfully retrieved:\")\n",
    "    # Print the first 5 raags as an example\n",
    "    for raag in raags:\n",
    "        print(raag)"
   ]
  },
  {
   "cell_type": "code",
   "execution_count": 23,
   "id": "3d97cddb-4e6c-4faf-8770-e5f6d696dc23",
   "metadata": {},
   "outputs": [
    {
     "data": {
      "text/plain": [
       "{'Jap': 1,\n",
       " 'So Dar': 2,\n",
       " 'So Purakh': 3,\n",
       " 'Sohila': 4,\n",
       " 'Siree Raag': 5,\n",
       " 'Raag Maajh': 6,\n",
       " 'Raag Gauree': 7,\n",
       " 'Raag Aasaa': 8,\n",
       " 'Raag Gujri': 9,\n",
       " 'Raag Dayv Gandhaaree': 10,\n",
       " 'Raag Bihaagraa': 11,\n",
       " 'Raag Vadhans': 12,\n",
       " 'Raag Sorath': 13,\n",
       " 'Raag Dhanaasree': 14,\n",
       " 'Raag Jaithsree': 15,\n",
       " 'Raag Todee': 16,\n",
       " 'Raag Baihaaree': 17,\n",
       " 'Raag Tilang': 18,\n",
       " 'Raag Soohee': 19,\n",
       " 'Raag Bilaaval': 20,\n",
       " 'Raag Gond': 21,\n",
       " 'Raag Raamkalee': 22,\n",
       " 'Raag Nat Naaraayan': 23,\n",
       " 'Raag Maalee Gauraa': 24,\n",
       " 'Raag Maaroo': 25,\n",
       " 'Raag Tukhaari': 26,\n",
       " 'Raag Kaydaaraa': 27,\n",
       " 'Raag Bhairao': 28,\n",
       " 'Raag Basant': 29,\n",
       " 'Raag Saarang': 30,\n",
       " 'Raag Malaar': 31,\n",
       " 'Raag Kaanraa': 32,\n",
       " 'Raag Kalyaan': 33,\n",
       " 'Raag Prabhaatee': 34,\n",
       " 'Raag Jaijaavantee': 35,\n",
       " 'Salok Sehskritee': 36,\n",
       " 'Fifth Mehl, Gaathaa': 37,\n",
       " 'Phunhay Fifth Mehl': 38,\n",
       " 'Chaubolas Fifth Mehl': 39,\n",
       " 'Salok Kabeer Jee': 40,\n",
       " 'Salok Fareed Jee': 41,\n",
       " 'Svaiyay Mehl 5': 42,\n",
       " 'Salok Vaaraan Thay Vadheek': 43,\n",
       " 'Salok Mehl 9': 44,\n",
       " 'Mundhaavanee Fifth Mehl': 45,\n",
       " 'Raag Maalaa': 46,\n",
       " 'Vaaran': 47,\n",
       " 'Dasam Granth': 48,\n",
       " 'Amrit Keertan': 50}"
      ]
     },
     "execution_count": 23,
     "metadata": {},
     "output_type": "execute_result"
    }
   ],
   "source": [
    "# banidb.search() accepts source ID, not the source in english or unicode (https://banidbpy.readthedocs.io/en/latest/sources.html)\n",
    "# Map 'raag_eng', which is what we get from banidb.search()'s output back to 'raag_id' so that we can use that in subsequent\n",
    "# calls to banidb.search()\n",
    "raag_to_id_dict = {}\n",
    "for item in raags: # or banidb.raags() if it doesn't fail\n",
    "    raag_to_id_dict[item['raag_eng']] = item['raag_id']\n",
    "raag_to_id_dict"
   ]
  },
  {
   "cell_type": "code",
   "execution_count": 24,
   "id": "2d4b71c7-43e4-43dd-92ca-d558de9978cd",
   "metadata": {},
   "outputs": [
    {
     "name": "stdout",
     "output_type": "stream",
     "text": [
      "Raag Gauree\n"
     ]
    },
    {
     "data": {
      "text/plain": [
       "{'total_results': 1,\n",
       " 'total_pages': 1,\n",
       " 'pages_data': {'page_1': [{'shabad_id': 628,\n",
       "    'verse': 'ਥਿਰੁ ਘਰਿ ਬੈਸਹੁ ਹਰਿ ਜਨ ਪਿਆਰੇ ॥',\n",
       "    'steek': {'en': 'Remain steady in the home of your own self, O beloved servant of the Lord.',\n",
       "     'pu': 'ਹੇ ਪਿਆਰੇ ਭਗਤ ਜਨੋ! ਆਪਣੇ ਹਿਰਦੇ ਵਿਚ ਇਹ ਪੂਰੀ ਸਰਧਾ ਬਣਾਓ'},\n",
       "    'source': {'pu': 'ਸ੍ਰੀ ਗੁਰੂ ਗ੍ਰੰਥ ਸਾਹਿਬ ਜੀ',\n",
       "     'en': 'Sri Guru Granth Sahib Ji',\n",
       "     'ang': 201,\n",
       "     'raagpu': 'ਰਾਗੁ ਗਉੜੀ',\n",
       "     'raagen': 'Raag Gauree',\n",
       "     'writer': 'Guru Arjan Dev Ji'}}]}}"
      ]
     },
     "execution_count": 24,
     "metadata": {},
     "output_type": "execute_result"
    }
   ],
   "source": [
    "shabad_raag = shabad_data['pages_data']['page_1'][0]['source']['raagen']\n",
    "print(shabad_raag)\n",
    "# Sanity check\n",
    "banidb.search(ascii_query, raag = raag_to_id_dict.get(shabad_raag))"
   ]
  },
  {
   "cell_type": "markdown",
   "id": "1c87f152-3f68-4c6a-a4d1-441d2f624a84",
   "metadata": {},
   "source": [
    "*Writer*"
   ]
  },
  {
   "cell_type": "code",
   "execution_count": 25,
   "id": "885e0fc3-f51f-4d3e-813b-289baef0b700",
   "metadata": {},
   "outputs": [
    {
     "data": {
      "text/plain": [
       "[{'writer_id': 1, 'writer_name': 'Guru Nanak Dev Ji'},\n",
       " {'writer_id': 2, 'writer_name': 'Guru Angad Dev Ji'},\n",
       " {'writer_id': 3, 'writer_name': 'Guru Amar Daas Ji'},\n",
       " {'writer_id': 4, 'writer_name': 'Guru Raam Daas Ji'},\n",
       " {'writer_id': 5, 'writer_name': 'Guru Arjan Dev Ji'},\n",
       " {'writer_id': 6, 'writer_name': 'Guru Tegh Bahaadur Ji'},\n",
       " {'writer_id': 7, 'writer_name': 'Bhagat Bheekhan Ji'},\n",
       " {'writer_id': 8, 'writer_name': 'Bhagat Beni Ji'},\n",
       " {'writer_id': 9, 'writer_name': 'Bhagat Dhannaa Ji'},\n",
       " {'writer_id': 10, 'writer_name': 'Bhagat Trilochan Ji'},\n",
       " {'writer_id': 11, 'writer_name': 'Bhagat Jaidev Ji'},\n",
       " {'writer_id': 12, 'writer_name': 'Bhagat Kabeer Ji'},\n",
       " {'writer_id': 13, 'writer_name': 'Bhagat Naam Dev Ji'},\n",
       " {'writer_id': 14, 'writer_name': 'Bhagat Peepaa Ji'},\n",
       " {'writer_id': 15, 'writer_name': 'Bhagat Parmaanand Ji'},\n",
       " {'writer_id': 16, 'writer_name': 'Bhagat Ravi Daas Ji'},\n",
       " {'writer_id': 17, 'writer_name': 'Bhagat Raamaanand Ji'},\n",
       " {'writer_id': 18, 'writer_name': 'Bhagat Surdaas Ji'},\n",
       " {'writer_id': 19, 'writer_name': 'Bhagat Saadhnaa Ji'},\n",
       " {'writer_id': 20, 'writer_name': 'Bhagat Sain Ji'},\n",
       " {'writer_id': 21, 'writer_name': 'Bhagat Sheikh Fareed Ji'},\n",
       " {'writer_id': 22, 'writer_name': 'Bhai Gurdaas Ji'},\n",
       " {'writer_id': 30, 'writer_name': 'Bhatt Bal'},\n",
       " {'writer_id': 31, 'writer_name': 'Bhatt Sathaa & Balvand'},\n",
       " {'writer_id': 32, 'writer_name': 'Bhatt (Baba) Sundar'},\n",
       " {'writer_id': 33, 'writer_name': 'Bhatt Gayandh'},\n",
       " {'writer_id': 34, 'writer_name': 'Bhatt Harbans'},\n",
       " {'writer_id': 35, 'writer_name': 'Bhatt Bhikhaa'},\n",
       " {'writer_id': 37, 'writer_name': 'Bhatt Jal Jaalap'},\n",
       " {'writer_id': 38, 'writer_name': 'Bhatt Keerath '},\n",
       " {'writer_id': 39, 'writer_name': 'Bhatt Kal'},\n",
       " {'writer_id': 40, 'writer_name': 'Bhatt Kall Sahaar'},\n",
       " {'writer_id': 41, 'writer_name': 'Bhatt Kal'},\n",
       " {'writer_id': 42, 'writer_name': 'Bhatt Mathuraa'},\n",
       " {'writer_id': 43, 'writer_name': 'Bhai Mardana'},\n",
       " {'writer_id': 44, 'writer_name': 'Bhatt Nal'},\n",
       " {'writer_id': 45, 'writer_name': 'Bhatt Sal'},\n",
       " {'writer_id': 46, 'writer_name': 'Bhatt Tal'},\n",
       " {'writer_id': 47, 'writer_name': 'Guru Gobind Singh Ji'},\n",
       " {'writer_id': 48, 'writer_name': 'Bhai Nand Lal Ji'},\n",
       " {'writer_id': 49, 'writer_name': 'Bhai Gurdas Singh Ji'},\n",
       " {'writer_id': 50, 'writer_name': 'Bhai Daya Singh Ji'},\n",
       " {'writer_id': 51, 'writer_name': 'Bhai Jeevan Singh Ji (Bhai Jaita Ji)'},\n",
       " {'writer_id': 52, 'writer_name': 'Bhai Prahilad Singh Ji'},\n",
       " {'writer_id': 53, 'writer_name': 'Bhai Desa Singh'},\n",
       " {'writer_id': 54, 'writer_name': 'Giani Gian Singh'}]"
      ]
     },
     "execution_count": 25,
     "metadata": {},
     "output_type": "execute_result"
    }
   ],
   "source": [
    "banidb.writers()"
   ]
  },
  {
   "cell_type": "code",
   "execution_count": 26,
   "id": "04a6ce6e-271a-42c4-8a53-c326f1759443",
   "metadata": {},
   "outputs": [
    {
     "data": {
      "text/plain": [
       "{'Guru Nanak Dev Ji': 1,\n",
       " 'Guru Angad Dev Ji': 2,\n",
       " 'Guru Amar Daas Ji': 3,\n",
       " 'Guru Raam Daas Ji': 4,\n",
       " 'Guru Arjan Dev Ji': 5,\n",
       " 'Guru Tegh Bahaadur Ji': 6,\n",
       " 'Bhagat Bheekhan Ji': 7,\n",
       " 'Bhagat Beni Ji': 8,\n",
       " 'Bhagat Dhannaa Ji': 9,\n",
       " 'Bhagat Trilochan Ji': 10,\n",
       " 'Bhagat Jaidev Ji': 11,\n",
       " 'Bhagat Kabeer Ji': 12,\n",
       " 'Bhagat Naam Dev Ji': 13,\n",
       " 'Bhagat Peepaa Ji': 14,\n",
       " 'Bhagat Parmaanand Ji': 15,\n",
       " 'Bhagat Ravi Daas Ji': 16,\n",
       " 'Bhagat Raamaanand Ji': 17,\n",
       " 'Bhagat Surdaas Ji': 18,\n",
       " 'Bhagat Saadhnaa Ji': 19,\n",
       " 'Bhagat Sain Ji': 20,\n",
       " 'Bhagat Sheikh Fareed Ji': 21,\n",
       " 'Bhai Gurdaas Ji': 22,\n",
       " 'Bhatt Bal': 30,\n",
       " 'Bhatt Sathaa & Balvand': 31,\n",
       " 'Bhatt (Baba) Sundar': 32,\n",
       " 'Bhatt Gayandh': 33,\n",
       " 'Bhatt Harbans': 34,\n",
       " 'Bhatt Bhikhaa': 35,\n",
       " 'Bhatt Jal Jaalap': 37,\n",
       " 'Bhatt Keerath ': 38,\n",
       " 'Bhatt Kal': 41,\n",
       " 'Bhatt Kall Sahaar': 40,\n",
       " 'Bhatt Mathuraa': 42,\n",
       " 'Bhai Mardana': 43,\n",
       " 'Bhatt Nal': 44,\n",
       " 'Bhatt Sal': 45,\n",
       " 'Bhatt Tal': 46,\n",
       " 'Guru Gobind Singh Ji': 47,\n",
       " 'Bhai Nand Lal Ji': 48,\n",
       " 'Bhai Gurdas Singh Ji': 49,\n",
       " 'Bhai Daya Singh Ji': 50,\n",
       " 'Bhai Jeevan Singh Ji (Bhai Jaita Ji)': 51,\n",
       " 'Bhai Prahilad Singh Ji': 52,\n",
       " 'Bhai Desa Singh': 53,\n",
       " 'Giani Gian Singh': 54}"
      ]
     },
     "execution_count": 26,
     "metadata": {},
     "output_type": "execute_result"
    }
   ],
   "source": [
    "# banidb.search() accepts writer ID, not the writer name or unicode (https://banidbpy.readthedocs.io/en/latest/writers.html)\n",
    "# Map 'writer_name', which is what we get from banidb.search()'s output back to 'writer_id' so that we can use that in subsequent\n",
    "# calls to banidb.search()\n",
    "writer_to_id_dict = {}\n",
    "for item in banidb.writers():\n",
    "    writer_to_id_dict[item['writer_name']] = item['writer_id']\n",
    "writer_to_id_dict"
   ]
  },
  {
   "cell_type": "code",
   "execution_count": 27,
   "id": "25004bf4-186d-4d1c-834b-2be228628456",
   "metadata": {},
   "outputs": [
    {
     "name": "stdout",
     "output_type": "stream",
     "text": [
      "Guru Arjan Dev Ji\n"
     ]
    },
    {
     "data": {
      "text/plain": [
       "{'total_results': 1,\n",
       " 'total_pages': 1,\n",
       " 'pages_data': {'page_1': [{'shabad_id': 628,\n",
       "    'verse': 'ਥਿਰੁ ਘਰਿ ਬੈਸਹੁ ਹਰਿ ਜਨ ਪਿਆਰੇ ॥',\n",
       "    'steek': {'en': 'Remain steady in the home of your own self, O beloved servant of the Lord.',\n",
       "     'pu': 'ਹੇ ਪਿਆਰੇ ਭਗਤ ਜਨੋ! ਆਪਣੇ ਹਿਰਦੇ ਵਿਚ ਇਹ ਪੂਰੀ ਸਰਧਾ ਬਣਾਓ'},\n",
       "    'source': {'pu': 'ਸ੍ਰੀ ਗੁਰੂ ਗ੍ਰੰਥ ਸਾਹਿਬ ਜੀ',\n",
       "     'en': 'Sri Guru Granth Sahib Ji',\n",
       "     'ang': 201,\n",
       "     'raagpu': 'ਰਾਗੁ ਗਉੜੀ',\n",
       "     'raagen': 'Raag Gauree',\n",
       "     'writer': 'Guru Arjan Dev Ji'}}]}}"
      ]
     },
     "execution_count": 27,
     "metadata": {},
     "output_type": "execute_result"
    }
   ],
   "source": [
    "shabad_writer = shabad_data['pages_data']['page_1'][0]['source']['writer']\n",
    "print(shabad_writer)\n",
    "# Sanity check\n",
    "banidb.search(ascii_query, writer = writer_to_id_dict.get(shabad_writer))"
   ]
  },
  {
   "cell_type": "markdown",
   "id": "ff5e0a87-a8d6-4307-ad6f-3b48ac58ab10",
   "metadata": {},
   "source": [
    "*Checking speed for restricted space search*"
   ]
  },
  {
   "cell_type": "code",
   "execution_count": 28,
   "id": "fc6ca12e-39bd-41b4-884e-70555aacbb27",
   "metadata": {},
   "outputs": [],
   "source": [
    "shabad_source_id = source_to_id_dict.get(shabad_source)\n",
    "shabad_raag_id   = raag_to_id_dict.get(shabad_raag)\n",
    "shabad_writer_id = writer_to_id_dict.get(shabad_writer)"
   ]
  },
  {
   "cell_type": "code",
   "execution_count": 29,
   "id": "39424021-5720-4c5a-9103-682d47a65e71",
   "metadata": {},
   "outputs": [
    {
     "name": "stdout",
     "output_type": "stream",
     "text": [
      "CPU times: total: 203 ms\n",
      "Wall time: 13.2 s\n"
     ]
    }
   ],
   "source": [
    "%%time\n",
    "for i in range(10):\n",
    "    ascii_query = firstLetters(gurbani_text)\n",
    "    shabad_data = banidb.search(ascii_query, source=shabad_source_id, ang=shabad_ang, raag=shabad_raag_id, writer=shabad_writer_id)"
   ]
  },
  {
   "cell_type": "code",
   "execution_count": 30,
   "id": "a1a6685b-6d3c-4316-826c-3e0e2e2ebf95",
   "metadata": {},
   "outputs": [
    {
     "data": {
      "text/plain": [
       "{'total_results': 1,\n",
       " 'total_pages': 1,\n",
       " 'pages_data': {'page_1': [{'shabad_id': 628,\n",
       "    'verse': 'ਥਿਰੁ ਘਰਿ ਬੈਸਹੁ ਹਰਿ ਜਨ ਪਿਆਰੇ ॥',\n",
       "    'steek': {'en': 'Remain steady in the home of your own self, O beloved servant of the Lord.',\n",
       "     'pu': 'ਹੇ ਪਿਆਰੇ ਭਗਤ ਜਨੋ! ਆਪਣੇ ਹਿਰਦੇ ਵਿਚ ਇਹ ਪੂਰੀ ਸਰਧਾ ਬਣਾਓ'},\n",
       "    'source': {'pu': 'ਸ੍ਰੀ ਗੁਰੂ ਗ੍ਰੰਥ ਸਾਹਿਬ ਜੀ',\n",
       "     'en': 'Sri Guru Granth Sahib Ji',\n",
       "     'ang': 201,\n",
       "     'raagpu': 'ਰਾਗੁ ਗਉੜੀ',\n",
       "     'raagen': 'Raag Gauree',\n",
       "     'writer': 'Guru Arjan Dev Ji'}}]}}"
      ]
     },
     "execution_count": 30,
     "metadata": {},
     "output_type": "execute_result"
    }
   ],
   "source": [
    "banidb.search(ascii_query, source=shabad_source_id, ang=shabad_ang, raag=shabad_raag_id, writer=shabad_writer_id)"
   ]
  },
  {
   "cell_type": "code",
   "execution_count": 31,
   "id": "07cacc5a-46c7-46e6-9f0c-4360b1a6209d",
   "metadata": {},
   "outputs": [
    {
     "data": {
      "text/plain": [
       "'Sri Guru Granth Sahib Ji'"
      ]
     },
     "execution_count": 31,
     "metadata": {},
     "output_type": "execute_result"
    }
   ],
   "source": [
    "shabad_source"
   ]
  },
  {
   "cell_type": "markdown",
   "id": "e0bbc1d2-b97a-402a-8085-5be2b8e09981",
   "metadata": {},
   "source": [
    "Wow. Seems like this didn't help at all. Also, while it is good to see how to improve the tuk/line retrieval time, at the end of the day, we don't even know if we can get ASR correct. If the ASR is incorrect, then the first letters would be incorrect too, and doing a banidb.search() would be futile no matter how optimized it is. So, a better approach is to take the ASR output and convert that into an embedding that can then be compared against the verses of the shabad. To do so, we first need to get all the verses of the shabad."
   ]
  },
  {
   "cell_type": "markdown",
   "id": "23e64f98-e799-4e5a-945f-b039d0c5db52",
   "metadata": {},
   "source": [
    "**Shabad verses and embeddings**"
   ]
  },
  {
   "cell_type": "markdown",
   "id": "300d4247-a054-48ff-b6d9-39673ea2c378",
   "metadata": {},
   "source": [
    "It is great that we can identify a shabad from across all Sikh scriptures. \n",
    "1. We have also found that restricting the search space in banidb.search() doesn't seem to improve the time required to identify.\n",
    "2. In addition, banidb would require us to have the correct search query to find a shabad. Since we will rely on ASR for getting the text for the gurbani tuk/line, we can't be certain of that. <br>\n",
    "\n",
    "So, we need to find a new method. Here is the proposed approach:\n",
    "1. Identify the shabad by using banidb search via skip-gram approach. That is, take the whole text sequence and split it into multiple parts. Then, pass this into banidb.search(). If the text sequence's first letters using ASR turn out to be \"tgvhjp\" (\"thir ghar baiso har jan piaare\"), where \"baiso\" is incorrectly identified as \"vaiso\", then we can pass multiple queries by splitting - \"tgvhjp\", \"gvhj\", \"tvhj\", \"vhjp\" etc. The return from these queries can be used to identify shabad IDs. The median of these results can be picked as the relevant shabad. We can also store other results in memory in case the search query fails in the future.\n",
    "2. Once the shabad is identified, we will get all its verses using banidb.shabad(). Then, we will no longer use the skip-gram approach for subsequent searches. Instead, we will use the more powerful method of embeddings. We will embed the ASR output as embeddings and compare them to the embeddings of the verses for that shabad. This search space should be quite small and we hope to be able to identify the verse fairly quickly.\n",
    "3. We need to continuously monitor the words being sung and ensure that the verse/tuk identified is same as the previous one. If it changes (with high confidence), we need to switch to giving a new verse as the output."
   ]
  },
  {
   "cell_type": "code",
   "execution_count": 32,
   "id": "115275c0-b857-4f71-9423-c1550b3384c1",
   "metadata": {},
   "outputs": [],
   "source": [
    "import re"
   ]
  },
  {
   "cell_type": "code",
   "execution_count": 33,
   "id": "9c34cb89-4910-4cc3-9fb9-a50f3f92b271",
   "metadata": {},
   "outputs": [],
   "source": [
    "def clean_gurbani_verse(text):\n",
    "    \"\"\"\n",
    "    Removes verse numbers, punctuation, and the word 'Rahaao' from a Gurbani line.\n",
    "    This is needed because in ASR, we will never get these in the output as no raagi\n",
    "    sings these.\n",
    "    \"\"\"\n",
    "    # Remove numbers (both Gurmukhi and Arabic)\n",
    "    text = re.sub(r'[\\u0A66-\\u0A6F0-9]+', '', text)\n",
    "    # Remove the word 'Rahaao' (ਰਹਾਉ)\n",
    "    text = text.replace('ਰਹਾਉ', '')\n",
    "    # Remove Danda (॥), Visarg (ਃ), and other common punctuation\n",
    "    text = re.sub(r'[॥।☬ਃ|]', '', text)\n",
    "    # Remove extra spaces and strip whitespace from ends\n",
    "    text = ' '.join(text.split())\n",
    "    return text"
   ]
  },
  {
   "cell_type": "code",
   "execution_count": 34,
   "id": "e0c23633-a2a8-4ba2-99fb-7e172341d271",
   "metadata": {},
   "outputs": [
    {
     "data": {
      "text/plain": [
       "[('ਗਉੜੀ ਮਹਲਾ', 'ਗਉੜੀ ਮਹਲਾ ੫ ॥'),\n",
       " ('ਥਿਰੁ ਘਰਿ ਬੈਸਹੁ ਹਰਿ ਜਨ ਪਿਆਰੇ', 'ਥਿਰੁ ਘਰਿ ਬੈਸਹੁ ਹਰਿ ਜਨ ਪਿਆਰੇ ॥'),\n",
       " ('ਸਤਿਗੁਰਿ ਤੁਮਰੇ ਕਾਜ ਸਵਾਰੇ', 'ਸਤਿਗੁਰਿ ਤੁਮਰੇ ਕਾਜ ਸਵਾਰੇ ॥੧॥ ਰਹਾਉ ॥'),\n",
       " ('ਦੁਸਟ ਦੂਤ ਪਰਮੇਸਰਿ ਮਾਰੇ', 'ਦੁਸਟ ਦੂਤ ਪਰਮੇਸਰਿ ਮਾਰੇ ॥'),\n",
       " ('ਜਨ ਕੀ ਪੈਜ ਰਖੀ ਕਰਤਾਰੇ', 'ਜਨ ਕੀ ਪੈਜ ਰਖੀ ਕਰਤਾਰੇ ॥੧॥'),\n",
       " ('ਬਾਦਿਸਾਹ ਸਾਹ ਸਭ ਵਸਿ ਕਰਿ ਦੀਨੇ', 'ਬਾਦਿਸਾਹ ਸਾਹ ਸਭ ਵਸਿ ਕਰਿ ਦੀਨੇ ॥'),\n",
       " ('ਅੰਮ੍ਰਿਤ ਨਾਮ ਮਹਾ ਰਸ ਪੀਨੇ', 'ਅੰਮ੍ਰਿਤ ਨਾਮ ਮਹਾ ਰਸ ਪੀਨੇ ॥੨॥'),\n",
       " ('ਨਿਰਭਉ ਹੋਇ ਭਜਹੁ ਭਗਵਾਨ', 'ਨਿਰਭਉ ਹੋਇ ਭਜਹੁ ਭਗਵਾਨ ॥'),\n",
       " ('ਸਾਧਸੰਗਤਿ ਮਿਲਿ ਕੀਨੋ ਦਾਨੁ', 'ਸਾਧਸੰਗਤਿ ਮਿਲਿ ਕੀਨੋ ਦਾਨੁ ॥੩॥'),\n",
       " ('ਸਰਣਿ ਪਰੇ ਪ੍ਰਭ ਅੰਤਰਜਾਮੀ', 'ਸਰਣਿ ਪਰੇ ਪ੍ਰਭ ਅੰਤਰਜਾਮੀ ॥'),\n",
       " ('ਨਾਨਕ ਓਟ ਪਕਰੀ ਪ੍ਰਭ ਸੁਆਮੀ', 'ਨਾਨਕ ਓਟ ਪਕਰੀ ਪ੍ਰਭ ਸੁਆਮੀ ॥੪॥੧੦੮॥')]"
      ]
     },
     "execution_count": 34,
     "metadata": {},
     "output_type": "execute_result"
    }
   ],
   "source": [
    "# Sanity check\n",
    "shabad_id = shabad_data['pages_data']['page_1'][0]['shabad_id']\n",
    "shabad_data2 = banidb.shabad(shabad_id)\n",
    "[(clean_gurbani_verse(item['verse']), item['verse']) for item in shabad_data2['verses']]"
   ]
  },
  {
   "cell_type": "code",
   "execution_count": 41,
   "id": "52b5679c-e026-4ff7-bbec-ae59d5ee0b69",
   "metadata": {},
   "outputs": [
    {
     "name": "stderr",
     "output_type": "stream",
     "text": [
      "No sentence-transformers model found with name bert-base-multilingual-cased. Creating a new one with mean pooling.\n"
     ]
    },
    {
     "name": "stdout",
     "output_type": "stream",
     "text": [
      "Best match found: 'ਸਤਿਗੁਰਿ ਤੁਮਰੇ ਕਾਜ ਸਵਾਰੇ'\n",
      "Similarity score: 0.8482\n"
     ]
    }
   ],
   "source": [
    "# --- Step 1: Initialization (Done once) ---\n",
    "# Load a pre-trained model suitable for multilingual text including Gurmukhi\n",
    "model = SentenceTransformer('bert-base-multilingual-cased')\n",
    "# from transformers import AutoModel, AutoTokenizer\n",
    "# from sentence_transformers import SentenceTransformer, models\n",
    "\n",
    "# # Step 1: Load components manually\n",
    "# word_embedding_model = models.Transformer('bert-base-multilingual-cased', max_seq_length=128)\n",
    "# pooling_model = models.Pooling(\n",
    "#     word_embedding_model.get_word_embedding_dimension(),\n",
    "#     pooling_mode_mean_tokens=True,\n",
    "#     pooling_mode_cls_token=True, # False for large phrases (> 3 words)\n",
    "#     pooling_mode_max_tokens=False\n",
    "# )\n",
    "\n",
    "# Step 2: Wrap them into a SentenceTransformer object\n",
    "model = SentenceTransformer(modules=[word_embedding_model, pooling_model])\n",
    "\n",
    "\n",
    "# --- Step 2: Get Shabad and Pre-compute Embeddings ---\n",
    "all_verses_text = [clean_gurbani_verse(item['verse']) for item in shabad_data2['verses']]\n",
    "\n",
    "# Pre-compute the embeddings for every line in the shabad (very fast)\n",
    "shabad_embeddings = model.encode(all_verses_text, convert_to_tensor=True)\n",
    "\n",
    "# --- Step 3: Match a Subsequent Line ---\n",
    "# Imagine this is the new, possibly flawed output from your ASR\n",
    "asr_output_phrase = \"ਸਤਗੁਰ\" # Example phrase, imperfectly converted from text to speech\n",
    "# asr_output_phrase = \"ਸਤਗੁਰ ਤੁਮਰੇ ਕਜ ਸਵਾਰ\" # Example phrase, imperfectly converted from text to speech\n",
    "\n",
    "# Encode the ASR phrase into a vector\n",
    "asr_embedding = model.encode(asr_output_phrase, convert_to_tensor=True)\n",
    "\n",
    "# Compute cosine similarity between the ASR phrase and all lines in the shabad\n",
    "cosine_scores = util.cos_sim(asr_embedding, shabad_embeddings)\n",
    "\n",
    "# Find the line with the highest score\n",
    "best_match_index = cosine_scores.argmax()\n",
    "best_match_verse = all_verses_text[best_match_index]\n",
    "best_match_score = cosine_scores[0][best_match_index]\n",
    "\n",
    "print(f\"Best match found: '{best_match_verse}'\")\n",
    "print(f\"Similarity score: {best_match_score:.4f}\")"
   ]
  },
  {
   "cell_type": "code",
   "execution_count": 42,
   "id": "060eb090-824e-4fab-b8fb-1a64be3ce172",
   "metadata": {},
   "outputs": [
    {
     "name": "stdout",
     "output_type": "stream",
     "text": [
      "Best match found: 'ਸਤਿਗੁਰਿ ਤੁਮਰੇ ਕਾਜ ਸਵਾਰੇ'\n",
      "Similarity score: 0.9976\n"
     ]
    }
   ],
   "source": [
    "# --- Step 1: Initialization (Done once) ---\n",
    "from transformers import AutoTokenizer, AutoModel\n",
    "import torch\n",
    "import torch.nn.functional as F\n",
    "\n",
    "# Load ai4bharat model and slow tokenizer explicitly\n",
    "tokenizer = AutoTokenizer.from_pretrained(\"ai4bharat/indic-bert\", use_fast=False)\n",
    "model = AutoModel.from_pretrained(\"ai4bharat/indic-bert\")\n",
    "\n",
    "def encode(texts):\n",
    "    if isinstance(texts, str):\n",
    "        texts = [texts]\n",
    "    inputs = tokenizer(texts, padding=True, truncation=True, max_length=128, return_tensors=\"pt\")\n",
    "    with torch.no_grad():\n",
    "        outputs = model(**inputs)\n",
    "    cls_embeddings = outputs.last_hidden_state[:, 0]  # CLS token\n",
    "    return F.normalize(cls_embeddings, p=2, dim=1)\n",
    "\n",
    "\n",
    "# --- Step 2: Get Shabad and Pre-compute Embeddings ---\n",
    "all_verses_text = [clean_gurbani_verse(item['verse']) for item in shabad_data2['verses']]\n",
    "shabad_embeddings = encode(all_verses_text)\n",
    "\n",
    "# --- Step 3: Match a Subsequent Line ---\n",
    "asr_output_phrase = \"ਸਤਗੁਰ\"  # Example phrase from ASR\n",
    "asr_embedding = encode(asr_output_phrase)\n",
    "\n",
    "# Compute cosine similarity between the ASR phrase and all lines in the shabad\n",
    "cosine_scores = torch.nn.functional.cosine_similarity(asr_embedding, shabad_embeddings)\n",
    "\n",
    "# Find the line with the highest score\n",
    "best_match_index = cosine_scores.argmax()\n",
    "best_match_verse = all_verses_text[best_match_index]\n",
    "best_match_score = cosine_scores[best_match_index]\n",
    "\n",
    "print(f\"Best match found: '{best_match_verse}'\")\n",
    "print(f\"Similarity score: {best_match_score:.4f}\")\n"
   ]
  },
  {
   "cell_type": "markdown",
   "id": "8c0bb0bd-5419-4a32-8dd2-f6eff484069e",
   "metadata": {},
   "source": [
    "Using sentence-transformers/distiluse-base-multilingual-cased-v2 gives poor results. Same with ai4bharat/indic-bert' but that's because it is not a sentence transformer."
   ]
  },
  {
   "cell_type": "code",
   "execution_count": 63,
   "id": "8c4396ef-677e-4780-bd45-17b2f5781a80",
   "metadata": {},
   "outputs": [],
   "source": [
    "from sentence_transformers import SentenceTransformer, util, models\n",
    "from transformers import AutoTokenizer, AutoModel\n",
    "import torch\n",
    "import torch.nn.functional as F\n",
    "\n",
    "class ShabadMatcher:\n",
    "    def __init__(self, model_name: str, pooling: str = 'cls', use_cls: bool = False):\n",
    "        self.model_name = model_name\n",
    "        self.pooling = pooling\n",
    "        self.use_cls = use_cls\n",
    "\n",
    "        if model_name == \"ai4bharat/indic-bert\":\n",
    "            self.tokenizer = AutoTokenizer.from_pretrained(model_name, use_fast=False)\n",
    "            self.model = AutoModel.from_pretrained(model_name)\n",
    "            self.encode_fn = self._encode_indic_bert\n",
    "\n",
    "        elif model_name == \"bert-base-multilingual-cased\":\n",
    "            word_embedding_model = models.Transformer(model_name, max_seq_length=128)\n",
    "            pooling_model = models.Pooling(\n",
    "                word_embedding_model.get_word_embedding_dimension(),\n",
    "                pooling_mode_mean_tokens=(pooling == 'mean'),\n",
    "                pooling_mode_cls_token=(pooling == 'cls'),\n",
    "                pooling_mode_max_tokens=False\n",
    "            )\n",
    "            self.model = SentenceTransformer(modules=[word_embedding_model, pooling_model])\n",
    "            self.encode_fn = self._encode_sbert\n",
    "\n",
    "        elif model_name in [\n",
    "            \"l3cube-pune/indic-sentence-similarity-sbert\",\n",
    "            \"sentence-transformers/LaBSE\",\n",
    "            \"sentence-transformers/paraphrase-multilingual-MiniLM-L12-v2\"\n",
    "        ]:\n",
    "            self.model = SentenceTransformer(model_name)\n",
    "            self.encode_fn = self._encode_sbert\n",
    "\n",
    "        else:\n",
    "            raise ValueError(f\"Unsupported model: {model_name}\")\n",
    "\n",
    "    def _encode_sbert(self, texts):\n",
    "        return self.model.encode(texts, convert_to_tensor=True)\n",
    "\n",
    "    def _encode_indic_bert(self, texts):\n",
    "        if isinstance(texts, str):\n",
    "            texts = [texts]\n",
    "        inputs = self.tokenizer(texts, padding=True, truncation=True, max_length=128, return_tensors=\"pt\")\n",
    "        with torch.no_grad():\n",
    "            outputs = self.model(**inputs)\n",
    "        if self.use_cls:\n",
    "            embeddings = outputs.last_hidden_state[:, 0]\n",
    "        else:\n",
    "            mask = inputs['attention_mask'].unsqueeze(-1).expand(outputs.last_hidden_state.size())\n",
    "            masked_embeddings = outputs.last_hidden_state * mask\n",
    "            summed = masked_embeddings.sum(dim=1)\n",
    "            counts = mask.sum(dim=1)\n",
    "            embeddings = summed / counts\n",
    "        return F.normalize(embeddings, p=2, dim=1)\n",
    "\n",
    "    def match(self, shabad_data, asr_output_phrase, min_words=3):\n",
    "        if len(asr_output_phrase.strip().split()) < min_words:\n",
    "            print(f\"[Skipping] Phrase too short (min_words={min_words}): '{asr_output_phrase}'\")\n",
    "            return None\n",
    "            \n",
    "        verses = [clean_gurbani_verse(item['verse']) for item in shabad_data['verses']]\n",
    "        shabad_embeddings = self.encode_fn(verses)\n",
    "        asr_embedding = self.encode_fn(asr_output_phrase)\n",
    "\n",
    "        if isinstance(shabad_embeddings, torch.Tensor):\n",
    "            scores = F.cosine_similarity(asr_embedding, shabad_embeddings)\n",
    "            best_idx = scores.argmax()\n",
    "            best_score = scores[best_idx]\n",
    "        else:\n",
    "            scores = util.cos_sim(asr_embedding, shabad_embeddings)\n",
    "            best_idx = scores.argmax()\n",
    "            best_score = scores[0][best_idx]\n",
    "\n",
    "        return {\n",
    "            'best_verse': verses[best_idx],\n",
    "            'score': round(float(best_score), 2),\n",
    "            'index': int(best_idx)\n",
    "        }"
   ]
  },
  {
   "cell_type": "code",
   "execution_count": 85,
   "id": "14144ff4-ea08-4336-abb8-31937be10609",
   "metadata": {},
   "outputs": [],
   "source": [
    "models_to_test = {\n",
    "    \"BBMC\": ShabadMatcher(\"bert-base-multilingual-cased\", pooling=\"cls\"),\n",
    "    \"L3Cube\": ShabadMatcher(\"l3cube-pune/indic-sentence-similarity-sbert\"),\n",
    "    \"LaBSE\": ShabadMatcher(\"sentence-transformers/LaBSE\"),\n",
    "    \"MiniLM\": ShabadMatcher(\"sentence-transformers/paraphrase-multilingual-MiniLM-L12-v2\"),\n",
    "    \"IndicBERT (CLS)\": ShabadMatcher(\"ai4bharat/indic-bert\", use_cls=True),\n",
    "    \"IndicBERT (Mean)\": ShabadMatcher(\"ai4bharat/indic-bert\", use_cls=False)\n",
    "}"
   ]
  },
  {
   "cell_type": "code",
   "execution_count": 158,
   "id": "0f030e34-c188-419c-85cc-994a6a004e86",
   "metadata": {},
   "outputs": [],
   "source": [
    "def test_phrases(asr_phrases, correct_indices):\n",
    "    results_verse =  {key:[] for key in models_to_test.keys()}\n",
    "    results_status =  {key:[] for key in models_to_test.keys()}\n",
    "    results_score =  {key:[] for key in models_to_test.keys()}\n",
    "    assert(len(asr_phrases) == len(correct_indices))\n",
    "    for i, phrase in enumerate(asr_phrases):\n",
    "        print(f\"\\n------For {phrase}------\")\n",
    "        for name, matcher in models_to_test.items():\n",
    "            result = matcher.match(shabad_data2, phrase)\n",
    "            status = False if result is None else int(result['index'] == correct_indices[i])\n",
    "            results_status[name].append(status)\n",
    "            verse = None if result is None else result['best_verse']\n",
    "            results_verse[name].append(verse)\n",
    "            score = None if result is None else result['score']\n",
    "            results_score[name].append(score)\n",
    "            print(f\"{name}: {result}. Correct? {bool(status) if status is not None else status}\")\n",
    "    return results_status, results_verse, results_score"
   ]
  },
  {
   "cell_type": "code",
   "execution_count": 156,
   "id": "99a975c9-8ef3-43b2-9260-cf05bf3b64cf",
   "metadata": {},
   "outputs": [],
   "source": [
    "def plot_similarity_by_status(models_to_test, statuses, scores):\n",
    "    \"\"\"\n",
    "    Creates a 3x2 grid of bar plots showing similarity scores,\n",
    "    grouped and sorted by status, with a clear legend.\n",
    "    \"\"\"\n",
    "    fig, axs = plt.subplots(3, 2, figsize=(15, 13))\n",
    "    axs = axs.flatten()\n",
    "\n",
    "    for i, model in enumerate(models_to_test):\n",
    "        status_list = statuses.get(model, [])\n",
    "        score_list = scores.get(model, [])\n",
    "\n",
    "        # Separate data by status\n",
    "        status_1_data = sorted(\n",
    "            [(score_list[j], f'Inst {j}') for j, s in enumerate(status_list) if s == 1],\n",
    "            key=lambda x: x[0], reverse=True\n",
    "        )\n",
    "        status_0_data = sorted(\n",
    "            [(score_list[j], f'Inst {j}') for j, s in enumerate(status_list) if s == 0],\n",
    "            key=lambda x: x[0], reverse=True\n",
    "        )\n",
    "        \n",
    "        # Unzip sorted data, handling cases where a status might be missing\n",
    "        scores_1, labels_1 = zip(*status_1_data) if status_1_data else ([], [])\n",
    "        scores_0, labels_0 = zip(*status_0_data) if status_0_data else ([], [])\n",
    "\n",
    "        # Combine for plotting\n",
    "        combined_scores = list(scores_1) + list(scores_0)\n",
    "        combined_labels = list(labels_1) + list(labels_0)\n",
    "        combined_colors = ['tab:blue'] * len(scores_1) + ['tab:orange'] * len(scores_0)\n",
    "        \n",
    "        ax = axs[i]\n",
    "        if combined_scores:\n",
    "            ax.bar(range(len(combined_scores)), combined_scores, color=combined_colors)\n",
    "        \n",
    "        ax.set_title(model)\n",
    "        ax.set_xlabel('Instance')\n",
    "        ax.set_ylabel('Similarity Score')\n",
    "        ax.set_ylim(np.min(combined_scores)-0.01, np.max(combined_scores)+0.01)\n",
    "        ax.set_xticks(range(len(combined_labels)))\n",
    "        ax.set_xticklabels(combined_labels, rotation=45, ha='right')\n",
    "\n",
    "    # Create legend handles and add them to the figure just once\n",
    "    legend_patch_1 = mpatches.Patch(color='tab:blue', label='Status 1 (True)')\n",
    "    legend_patch_0 = mpatches.Patch(color='tab:orange', label='Status 0 (False)')\n",
    "    fig.legend(handles=[legend_patch_1, legend_patch_0], loc='upper right')\n",
    "\n",
    "    plt.tight_layout(rect=[0, 0, 1, 0.98]) # Adjust layout to make space for the legend\n",
    "    plt.show()"
   ]
  },
  {
   "cell_type": "code",
   "execution_count": 115,
   "id": "b60754de-da4f-4cc0-9175-334d95c2f913",
   "metadata": {},
   "outputs": [
    {
     "name": "stdout",
     "output_type": "stream",
     "text": [
      "\n",
      "------For ਦੁਸਟ------\n",
      "[Skipping] Phrase too short (min_words=3): 'ਦੁਸਟ'\n",
      "BBMC: None. Correct? False\n",
      "[Skipping] Phrase too short (min_words=3): 'ਦੁਸਟ'\n",
      "L3Cube: None. Correct? False\n",
      "[Skipping] Phrase too short (min_words=3): 'ਦੁਸਟ'\n",
      "LaBSE: None. Correct? False\n",
      "[Skipping] Phrase too short (min_words=3): 'ਦੁਸਟ'\n",
      "MiniLM: None. Correct? False\n",
      "[Skipping] Phrase too short (min_words=3): 'ਦੁਸਟ'\n",
      "IndicBERT (CLS): None. Correct? False\n",
      "[Skipping] Phrase too short (min_words=3): 'ਦੁਸਟ'\n",
      "IndicBERT (Mean): None. Correct? False\n",
      "\n",
      "------For ਦੁਸ਼ਟ------\n",
      "[Skipping] Phrase too short (min_words=3): 'ਦੁਸ਼ਟ'\n",
      "BBMC: None. Correct? False\n",
      "[Skipping] Phrase too short (min_words=3): 'ਦੁਸ਼ਟ'\n",
      "L3Cube: None. Correct? False\n",
      "[Skipping] Phrase too short (min_words=3): 'ਦੁਸ਼ਟ'\n",
      "LaBSE: None. Correct? False\n",
      "[Skipping] Phrase too short (min_words=3): 'ਦੁਸ਼ਟ'\n",
      "MiniLM: None. Correct? False\n",
      "[Skipping] Phrase too short (min_words=3): 'ਦੁਸ਼ਟ'\n",
      "IndicBERT (CLS): None. Correct? False\n",
      "[Skipping] Phrase too short (min_words=3): 'ਦੁਸ਼ਟ'\n",
      "IndicBERT (Mean): None. Correct? False\n",
      "\n",
      "------For ਦੁਸਟ ਦੂਤ------\n",
      "[Skipping] Phrase too short (min_words=3): 'ਦੁਸਟ ਦੂਤ'\n",
      "BBMC: None. Correct? False\n",
      "[Skipping] Phrase too short (min_words=3): 'ਦੁਸਟ ਦੂਤ'\n",
      "L3Cube: None. Correct? False\n",
      "[Skipping] Phrase too short (min_words=3): 'ਦੁਸਟ ਦੂਤ'\n",
      "LaBSE: None. Correct? False\n",
      "[Skipping] Phrase too short (min_words=3): 'ਦੁਸਟ ਦੂਤ'\n",
      "MiniLM: None. Correct? False\n",
      "[Skipping] Phrase too short (min_words=3): 'ਦੁਸਟ ਦੂਤ'\n",
      "IndicBERT (CLS): None. Correct? False\n",
      "[Skipping] Phrase too short (min_words=3): 'ਦੁਸਟ ਦੂਤ'\n",
      "IndicBERT (Mean): None. Correct? False\n",
      "\n",
      "------For ਕਰ ਦੀਨੇ------\n",
      "[Skipping] Phrase too short (min_words=3): 'ਕਰ ਦੀਨੇ'\n",
      "BBMC: None. Correct? False\n",
      "[Skipping] Phrase too short (min_words=3): 'ਕਰ ਦੀਨੇ'\n",
      "L3Cube: None. Correct? False\n",
      "[Skipping] Phrase too short (min_words=3): 'ਕਰ ਦੀਨੇ'\n",
      "LaBSE: None. Correct? False\n",
      "[Skipping] Phrase too short (min_words=3): 'ਕਰ ਦੀਨੇ'\n",
      "MiniLM: None. Correct? False\n",
      "[Skipping] Phrase too short (min_words=3): 'ਕਰ ਦੀਨੇ'\n",
      "IndicBERT (CLS): None. Correct? False\n",
      "[Skipping] Phrase too short (min_words=3): 'ਕਰ ਦੀਨੇ'\n",
      "IndicBERT (Mean): None. Correct? False\n",
      "\n",
      "------For ਕਰਤਾਰੇ------\n",
      "[Skipping] Phrase too short (min_words=3): 'ਕਰਤਾਰੇ'\n",
      "BBMC: None. Correct? False\n",
      "[Skipping] Phrase too short (min_words=3): 'ਕਰਤਾਰੇ'\n",
      "L3Cube: None. Correct? False\n",
      "[Skipping] Phrase too short (min_words=3): 'ਕਰਤਾਰੇ'\n",
      "LaBSE: None. Correct? False\n",
      "[Skipping] Phrase too short (min_words=3): 'ਕਰਤਾਰੇ'\n",
      "MiniLM: None. Correct? False\n",
      "[Skipping] Phrase too short (min_words=3): 'ਕਰਤਾਰੇ'\n",
      "IndicBERT (CLS): None. Correct? False\n",
      "[Skipping] Phrase too short (min_words=3): 'ਕਰਤਾਰੇ'\n",
      "IndicBERT (Mean): None. Correct? False\n",
      "\n",
      "------For ਕੀਨੋ ਦਾਨ------\n",
      "[Skipping] Phrase too short (min_words=3): 'ਕੀਨੋ ਦਾਨ'\n",
      "BBMC: None. Correct? False\n",
      "[Skipping] Phrase too short (min_words=3): 'ਕੀਨੋ ਦਾਨ'\n",
      "L3Cube: None. Correct? False\n",
      "[Skipping] Phrase too short (min_words=3): 'ਕੀਨੋ ਦਾਨ'\n",
      "LaBSE: None. Correct? False\n",
      "[Skipping] Phrase too short (min_words=3): 'ਕੀਨੋ ਦਾਨ'\n",
      "MiniLM: None. Correct? False\n",
      "[Skipping] Phrase too short (min_words=3): 'ਕੀਨੋ ਦਾਨ'\n",
      "IndicBERT (CLS): None. Correct? False\n",
      "[Skipping] Phrase too short (min_words=3): 'ਕੀਨੋ ਦਾਨ'\n",
      "IndicBERT (Mean): None. Correct? False\n",
      "\n",
      "------For ਦਾਨ------\n",
      "[Skipping] Phrase too short (min_words=3): 'ਦਾਨ'\n",
      "BBMC: None. Correct? False\n",
      "[Skipping] Phrase too short (min_words=3): 'ਦਾਨ'\n",
      "L3Cube: None. Correct? False\n",
      "[Skipping] Phrase too short (min_words=3): 'ਦਾਨ'\n",
      "LaBSE: None. Correct? False\n",
      "[Skipping] Phrase too short (min_words=3): 'ਦਾਨ'\n",
      "MiniLM: None. Correct? False\n",
      "[Skipping] Phrase too short (min_words=3): 'ਦਾਨ'\n",
      "IndicBERT (CLS): None. Correct? False\n",
      "[Skipping] Phrase too short (min_words=3): 'ਦਾਨ'\n",
      "IndicBERT (Mean): None. Correct? False\n",
      "\n",
      "------For ਨਿਰਭੌ------\n",
      "[Skipping] Phrase too short (min_words=3): 'ਨਿਰਭੌ'\n",
      "BBMC: None. Correct? False\n",
      "[Skipping] Phrase too short (min_words=3): 'ਨਿਰਭੌ'\n",
      "L3Cube: None. Correct? False\n",
      "[Skipping] Phrase too short (min_words=3): 'ਨਿਰਭੌ'\n",
      "LaBSE: None. Correct? False\n",
      "[Skipping] Phrase too short (min_words=3): 'ਨਿਰਭੌ'\n",
      "MiniLM: None. Correct? False\n",
      "[Skipping] Phrase too short (min_words=3): 'ਨਿਰਭੌ'\n",
      "IndicBERT (CLS): None. Correct? False\n",
      "[Skipping] Phrase too short (min_words=3): 'ਨਿਰਭੌ'\n",
      "IndicBERT (Mean): None. Correct? False\n",
      "\n",
      "------For ਸਾਧ ਸੰਗ------\n",
      "[Skipping] Phrase too short (min_words=3): 'ਸਾਧ ਸੰਗ'\n",
      "BBMC: None. Correct? False\n",
      "[Skipping] Phrase too short (min_words=3): 'ਸਾਧ ਸੰਗ'\n",
      "L3Cube: None. Correct? False\n",
      "[Skipping] Phrase too short (min_words=3): 'ਸਾਧ ਸੰਗ'\n",
      "LaBSE: None. Correct? False\n",
      "[Skipping] Phrase too short (min_words=3): 'ਸਾਧ ਸੰਗ'\n",
      "MiniLM: None. Correct? False\n",
      "[Skipping] Phrase too short (min_words=3): 'ਸਾਧ ਸੰਗ'\n",
      "IndicBERT (CLS): None. Correct? False\n",
      "[Skipping] Phrase too short (min_words=3): 'ਸਾਧ ਸੰਗ'\n",
      "IndicBERT (Mean): None. Correct? False\n",
      "\n",
      "------For ਸਾਧ------\n",
      "[Skipping] Phrase too short (min_words=3): 'ਸਾਧ'\n",
      "BBMC: None. Correct? False\n",
      "[Skipping] Phrase too short (min_words=3): 'ਸਾਧ'\n",
      "L3Cube: None. Correct? False\n",
      "[Skipping] Phrase too short (min_words=3): 'ਸਾਧ'\n",
      "LaBSE: None. Correct? False\n",
      "[Skipping] Phrase too short (min_words=3): 'ਸਾਧ'\n",
      "MiniLM: None. Correct? False\n",
      "[Skipping] Phrase too short (min_words=3): 'ਸਾਧ'\n",
      "IndicBERT (CLS): None. Correct? False\n",
      "[Skipping] Phrase too short (min_words=3): 'ਸਾਧ'\n",
      "IndicBERT (Mean): None. Correct? False\n",
      "\n",
      "------For ਅੰਤਰ------\n",
      "[Skipping] Phrase too short (min_words=3): 'ਅੰਤਰ'\n",
      "BBMC: None. Correct? False\n",
      "[Skipping] Phrase too short (min_words=3): 'ਅੰਤਰ'\n",
      "L3Cube: None. Correct? False\n",
      "[Skipping] Phrase too short (min_words=3): 'ਅੰਤਰ'\n",
      "LaBSE: None. Correct? False\n",
      "[Skipping] Phrase too short (min_words=3): 'ਅੰਤਰ'\n",
      "MiniLM: None. Correct? False\n",
      "[Skipping] Phrase too short (min_words=3): 'ਅੰਤਰ'\n",
      "IndicBERT (CLS): None. Correct? False\n",
      "[Skipping] Phrase too short (min_words=3): 'ਅੰਤਰ'\n",
      "IndicBERT (Mean): None. Correct? False\n",
      "\n",
      "------For ਜਾਮੀ------\n",
      "[Skipping] Phrase too short (min_words=3): 'ਜਾਮੀ'\n",
      "BBMC: None. Correct? False\n",
      "[Skipping] Phrase too short (min_words=3): 'ਜਾਮੀ'\n",
      "L3Cube: None. Correct? False\n",
      "[Skipping] Phrase too short (min_words=3): 'ਜਾਮੀ'\n",
      "LaBSE: None. Correct? False\n",
      "[Skipping] Phrase too short (min_words=3): 'ਜਾਮੀ'\n",
      "MiniLM: None. Correct? False\n",
      "[Skipping] Phrase too short (min_words=3): 'ਜਾਮੀ'\n",
      "IndicBERT (CLS): None. Correct? False\n",
      "[Skipping] Phrase too short (min_words=3): 'ਜਾਮੀ'\n",
      "IndicBERT (Mean): None. Correct? False\n",
      "\n",
      "------For ਪਕੜੀ ਪ੍ਰਭ------\n",
      "[Skipping] Phrase too short (min_words=3): 'ਪਕੜੀ ਪ੍ਰਭ'\n",
      "BBMC: None. Correct? False\n",
      "[Skipping] Phrase too short (min_words=3): 'ਪਕੜੀ ਪ੍ਰਭ'\n",
      "L3Cube: None. Correct? False\n",
      "[Skipping] Phrase too short (min_words=3): 'ਪਕੜੀ ਪ੍ਰਭ'\n",
      "LaBSE: None. Correct? False\n",
      "[Skipping] Phrase too short (min_words=3): 'ਪਕੜੀ ਪ੍ਰਭ'\n",
      "MiniLM: None. Correct? False\n",
      "[Skipping] Phrase too short (min_words=3): 'ਪਕੜੀ ਪ੍ਰਭ'\n",
      "IndicBERT (CLS): None. Correct? False\n",
      "[Skipping] Phrase too short (min_words=3): 'ਪਕੜੀ ਪ੍ਰਭ'\n",
      "IndicBERT (Mean): None. Correct? False\n"
     ]
    }
   ],
   "source": [
    "short_asr_phrases = [\n",
    "    'ਦੁਸਟ', 'ਦੁਸ਼ਟ', 'ਦੁਸਟ ਦੂਤ', 'ਕਰ ਦੀਨੇ', 'ਕਰਤਾਰੇ', 'ਕੀਨੋ ਦਾਨ',\n",
    "    'ਦਾਨ', 'ਨਿਰਭੌ', 'ਸਾਧ ਸੰਗ', 'ਸਾਧ', 'ਅੰਤਰ', 'ਜਾਮੀ', 'ਪਕੜੀ ਪ੍ਰਭ'\n",
    "]\n",
    "short_asr_correct = [3, 3, 3, 5, 4, 8,\n",
    "                     8, 7, 8, 8, 9, 9, 10]\n",
    "statuses, verses, scores = test_phrases(short_asr_phrases, short_asr_correct)"
   ]
  },
  {
   "cell_type": "code",
   "execution_count": 160,
   "id": "4af4d8d2-4501-44ea-a753-31f640d90e51",
   "metadata": {},
   "outputs": [
    {
     "name": "stdout",
     "output_type": "stream",
     "text": [
      "\n",
      "------For ਸਤਗੁਰ ਤੁਮਰੇ ਕਾਜ------\n",
      "BBMC: {'best_verse': 'ਸਤਿਗੁਰਿ ਤੁਮਰੇ ਕਾਜ ਸਵਾਰੇ', 'score': 0.98, 'index': 2}. Correct? True\n",
      "L3Cube: {'best_verse': 'ਸਤਿਗੁਰਿ ਤੁਮਰੇ ਕਾਜ ਸਵਾਰੇ', 'score': 0.86, 'index': 2}. Correct? True\n",
      "LaBSE: {'best_verse': 'ਸਤਿਗੁਰਿ ਤੁਮਰੇ ਕਾਜ ਸਵਾਰੇ', 'score': 0.76, 'index': 2}. Correct? True\n",
      "MiniLM: {'best_verse': 'ਨਿਰਭਉ ਹੋਇ ਭਜਹੁ ਭਗਵਾਨ', 'score': 0.95, 'index': 7}. Correct? False\n",
      "IndicBERT (CLS): {'best_verse': 'ਸਤਿਗੁਰਿ ਤੁਮਰੇ ਕਾਜ ਸਵਾਰੇ', 'score': 1.0, 'index': 2}. Correct? True\n",
      "IndicBERT (Mean): {'best_verse': 'ਨਿਰਭਉ ਹੋਇ ਭਜਹੁ ਭਗਵਾਨ', 'score': 0.82, 'index': 7}. Correct? False\n",
      "\n",
      "------For ਤੁਮਰੇ ਕਾਜ ਸਵਾਰੇ------\n",
      "BBMC: {'best_verse': 'ਸਤਿਗੁਰਿ ਤੁਮਰੇ ਕਾਜ ਸਵਾਰੇ', 'score': 0.98, 'index': 2}. Correct? True\n",
      "L3Cube: {'best_verse': 'ਸਤਿਗੁਰਿ ਤੁਮਰੇ ਕਾਜ ਸਵਾਰੇ', 'score': 0.78, 'index': 2}. Correct? True\n",
      "LaBSE: {'best_verse': 'ਸਤਿਗੁਰਿ ਤੁਮਰੇ ਕਾਜ ਸਵਾਰੇ', 'score': 0.62, 'index': 2}. Correct? True\n",
      "MiniLM: {'best_verse': 'ਸਤਿਗੁਰਿ ਤੁਮਰੇ ਕਾਜ ਸਵਾਰੇ', 'score': 0.88, 'index': 2}. Correct? True\n",
      "IndicBERT (CLS): {'best_verse': 'ਸਤਿਗੁਰਿ ਤੁਮਰੇ ਕਾਜ ਸਵਾਰੇ', 'score': 1.0, 'index': 2}. Correct? True\n",
      "IndicBERT (Mean): {'best_verse': 'ਸਤਿਗੁਰਿ ਤੁਮਰੇ ਕਾਜ ਸਵਾਰੇ', 'score': 0.88, 'index': 2}. Correct? True\n",
      "\n",
      "------For ਦੁਸ਼ਟ ਦੂਤ ਪਰਮੇਸਰ------\n",
      "BBMC: {'best_verse': 'ਦੁਸਟ ਦੂਤ ਪਰਮੇਸਰਿ ਮਾਰੇ', 'score': 0.97, 'index': 3}. Correct? True\n",
      "L3Cube: {'best_verse': 'ਦੁਸਟ ਦੂਤ ਪਰਮੇਸਰਿ ਮਾਰੇ', 'score': 0.85, 'index': 3}. Correct? True\n",
      "LaBSE: {'best_verse': 'ਦੁਸਟ ਦੂਤ ਪਰਮੇਸਰਿ ਮਾਰੇ', 'score': 0.78, 'index': 3}. Correct? True\n",
      "MiniLM: {'best_verse': 'ਗਉੜੀ ਮਹਲਾ', 'score': 0.87, 'index': 0}. Correct? False\n",
      "IndicBERT (CLS): {'best_verse': 'ਅੰਮ੍ਰਿਤ ਨਾਮ ਮਹਾ ਰਸ ਪੀਨੇ', 'score': 1.0, 'index': 6}. Correct? False\n",
      "IndicBERT (Mean): {'best_verse': 'ਦੁਸਟ ਦੂਤ ਪਰਮੇਸਰਿ ਮਾਰੇ', 'score': 0.79, 'index': 3}. Correct? True\n",
      "\n",
      "------For ਦੂਤ ਪਰਮੇਸਰ ਮਾਰੇ------\n",
      "BBMC: {'best_verse': 'ਦੁਸਟ ਦੂਤ ਪਰਮੇਸਰਿ ਮਾਰੇ', 'score': 0.98, 'index': 3}. Correct? True\n",
      "L3Cube: {'best_verse': 'ਦੁਸਟ ਦੂਤ ਪਰਮੇਸਰਿ ਮਾਰੇ', 'score': 0.95, 'index': 3}. Correct? True\n",
      "LaBSE: {'best_verse': 'ਦੁਸਟ ਦੂਤ ਪਰਮੇਸਰਿ ਮਾਰੇ', 'score': 0.94, 'index': 3}. Correct? True\n",
      "MiniLM: {'best_verse': 'ਗਉੜੀ ਮਹਲਾ', 'score': 0.85, 'index': 0}. Correct? False\n",
      "IndicBERT (CLS): {'best_verse': 'ਸਤਿਗੁਰਿ ਤੁਮਰੇ ਕਾਜ ਸਵਾਰੇ', 'score': 1.0, 'index': 2}. Correct? False\n",
      "IndicBERT (Mean): {'best_verse': 'ਦੁਸਟ ਦੂਤ ਪਰਮੇਸਰਿ ਮਾਰੇ', 'score': 0.7, 'index': 3}. Correct? True\n",
      "\n",
      "------For ਜਨ ਕੀ ਪੈਜ------\n",
      "BBMC: {'best_verse': 'ਜਨ ਕੀ ਪੈਜ ਰਖੀ ਕਰਤਾਰੇ', 'score': 0.96, 'index': 4}. Correct? True\n",
      "L3Cube: {'best_verse': 'ਜਨ ਕੀ ਪੈਜ ਰਖੀ ਕਰਤਾਰੇ', 'score': 0.87, 'index': 4}. Correct? True\n",
      "LaBSE: {'best_verse': 'ਜਨ ਕੀ ਪੈਜ ਰਖੀ ਕਰਤਾਰੇ', 'score': 0.77, 'index': 4}. Correct? True\n",
      "MiniLM: {'best_verse': 'ਗਉੜੀ ਮਹਲਾ', 'score': 0.85, 'index': 0}. Correct? False\n",
      "IndicBERT (CLS): {'best_verse': 'ਸਤਿਗੁਰਿ ਤੁਮਰੇ ਕਾਜ ਸਵਾਰੇ', 'score': 1.0, 'index': 2}. Correct? False\n",
      "IndicBERT (Mean): {'best_verse': 'ਜਨ ਕੀ ਪੈਜ ਰਖੀ ਕਰਤਾਰੇ', 'score': 0.79, 'index': 4}. Correct? True\n",
      "\n",
      "------For ਕੀ ਪੈਜ ਰਖੀ------\n",
      "BBMC: {'best_verse': 'ਜਨ ਕੀ ਪੈਜ ਰਖੀ ਕਰਤਾਰੇ', 'score': 0.97, 'index': 4}. Correct? True\n",
      "L3Cube: {'best_verse': 'ਜਨ ਕੀ ਪੈਜ ਰਖੀ ਕਰਤਾਰੇ', 'score': 0.82, 'index': 4}. Correct? True\n",
      "LaBSE: {'best_verse': 'ਜਨ ਕੀ ਪੈਜ ਰਖੀ ਕਰਤਾਰੇ', 'score': 0.64, 'index': 4}. Correct? True\n",
      "MiniLM: {'best_verse': 'ਗਉੜੀ ਮਹਲਾ', 'score': 0.84, 'index': 0}. Correct? False\n",
      "IndicBERT (CLS): {'best_verse': 'ਸਤਿਗੁਰਿ ਤੁਮਰੇ ਕਾਜ ਸਵਾਰੇ', 'score': 1.0, 'index': 2}. Correct? False\n",
      "IndicBERT (Mean): {'best_verse': 'ਜਨ ਕੀ ਪੈਜ ਰਖੀ ਕਰਤਾਰੇ', 'score': 0.8, 'index': 4}. Correct? True\n",
      "\n",
      "------For ਪੈਜ ਰਖੀ ਕਰਤਾਰੇ------\n",
      "BBMC: {'best_verse': 'ਜਨ ਕੀ ਪੈਜ ਰਖੀ ਕਰਤਾਰੇ', 'score': 0.98, 'index': 4}. Correct? True\n",
      "L3Cube: {'best_verse': 'ਜਨ ਕੀ ਪੈਜ ਰਖੀ ਕਰਤਾਰੇ', 'score': 0.69, 'index': 4}. Correct? True\n",
      "LaBSE: {'best_verse': 'ਜਨ ਕੀ ਪੈਜ ਰਖੀ ਕਰਤਾਰੇ', 'score': 0.65, 'index': 4}. Correct? True\n",
      "MiniLM: {'best_verse': 'ਜਨ ਕੀ ਪੈਜ ਰਖੀ ਕਰਤਾਰੇ', 'score': 0.89, 'index': 4}. Correct? True\n",
      "IndicBERT (CLS): {'best_verse': 'ਜਨ ਕੀ ਪੈਜ ਰਖੀ ਕਰਤਾਰੇ', 'score': 1.0, 'index': 4}. Correct? True\n",
      "IndicBERT (Mean): {'best_verse': 'ਜਨ ਕੀ ਪੈਜ ਰਖੀ ਕਰਤਾਰੇ', 'score': 0.92, 'index': 4}. Correct? True\n",
      "\n",
      "------For ਨਿਰਭੌ ਹੋ ਭਜੋ------\n",
      "BBMC: {'best_verse': 'ਨਿਰਭਉ ਹੋਇ ਭਜਹੁ ਭਗਵਾਨ', 'score': 0.97, 'index': 7}. Correct? True\n",
      "L3Cube: {'best_verse': 'ਨਿਰਭਉ ਹੋਇ ਭਜਹੁ ਭਗਵਾਨ', 'score': 0.71, 'index': 7}. Correct? True\n",
      "LaBSE: {'best_verse': 'ਨਿਰਭਉ ਹੋਇ ਭਜਹੁ ਭਗਵਾਨ', 'score': 0.62, 'index': 7}. Correct? True\n",
      "MiniLM: {'best_verse': 'ਸਾਧਸੰਗਤਿ ਮਿਲਿ ਕੀਨੋ ਦਾਨੁ', 'score': 0.94, 'index': 8}. Correct? False\n",
      "IndicBERT (CLS): {'best_verse': 'ਸਤਿਗੁਰਿ ਤੁਮਰੇ ਕਾਜ ਸਵਾਰੇ', 'score': 1.0, 'index': 2}. Correct? False\n",
      "IndicBERT (Mean): {'best_verse': 'ਸਤਿਗੁਰਿ ਤੁਮਰੇ ਕਾਜ ਸਵਾਰੇ', 'score': 0.79, 'index': 2}. Correct? False\n",
      "\n",
      "------For ਹੋ ਭਜੋ ਭਗਵਾਨ------\n",
      "BBMC: {'best_verse': 'ਨਿਰਭਉ ਹੋਇ ਭਜਹੁ ਭਗਵਾਨ', 'score': 0.98, 'index': 7}. Correct? True\n",
      "L3Cube: {'best_verse': 'ਨਿਰਭਉ ਹੋਇ ਭਜਹੁ ਭਗਵਾਨ', 'score': 0.8, 'index': 7}. Correct? True\n",
      "LaBSE: {'best_verse': 'ਨਿਰਭਉ ਹੋਇ ਭਜਹੁ ਭਗਵਾਨ', 'score': 0.83, 'index': 7}. Correct? True\n",
      "MiniLM: {'best_verse': 'ਨਿਰਭਉ ਹੋਇ ਭਜਹੁ ਭਗਵਾਨ', 'score': 0.94, 'index': 7}. Correct? True\n",
      "IndicBERT (CLS): {'best_verse': 'ਅੰਮ੍ਰਿਤ ਨਾਮ ਮਹਾ ਰਸ ਪੀਨੇ', 'score': 1.0, 'index': 6}. Correct? False\n",
      "IndicBERT (Mean): {'best_verse': 'ਨਿਰਭਉ ਹੋਇ ਭਜਹੁ ਭਗਵਾਨ', 'score': 0.79, 'index': 7}. Correct? True\n",
      "\n",
      "------For ਹੋ ਭਜੋ ਪਗਵਾਨ------\n",
      "BBMC: {'best_verse': 'ਨਿਰਭਉ ਹੋਇ ਭਜਹੁ ਭਗਵਾਨ', 'score': 0.98, 'index': 7}. Correct? True\n",
      "L3Cube: {'best_verse': 'ਨਾਨਕ ਓਟ ਪਕਰੀ ਪ੍ਰਭ ਸੁਆਮੀ', 'score': 0.63, 'index': 10}. Correct? False\n",
      "LaBSE: {'best_verse': 'ਨਿਰਭਉ ਹੋਇ ਭਜਹੁ ਭਗਵਾਨ', 'score': 0.83, 'index': 7}. Correct? True\n",
      "MiniLM: {'best_verse': 'ਨਿਰਭਉ ਹੋਇ ਭਜਹੁ ਭਗਵਾਨ', 'score': 0.91, 'index': 7}. Correct? True\n",
      "IndicBERT (CLS): {'best_verse': 'ਅੰਮ੍ਰਿਤ ਨਾਮ ਮਹਾ ਰਸ ਪੀਨੇ', 'score': 1.0, 'index': 6}. Correct? False\n",
      "IndicBERT (Mean): {'best_verse': 'ਦੁਸਟ ਦੂਤ ਪਰਮੇਸਰਿ ਮਾਰੇ', 'score': 0.74, 'index': 3}. Correct? False\n",
      "\n",
      "------For ਬਾਦ ਸ਼ਾਹ ਸ਼ਾਹ------\n",
      "BBMC: {'best_verse': 'ਬਾਦਿਸਾਹ ਸਾਹ ਸਭ ਵਸਿ ਕਰਿ ਦੀਨੇ', 'score': 0.89, 'index': 5}. Correct? True\n",
      "L3Cube: {'best_verse': 'ਬਾਦਿਸਾਹ ਸਾਹ ਸਭ ਵਸਿ ਕਰਿ ਦੀਨੇ', 'score': 0.6, 'index': 5}. Correct? True\n",
      "LaBSE: {'best_verse': 'ਨਿਰਭਉ ਹੋਇ ਭਜਹੁ ਭਗਵਾਨ', 'score': 0.38, 'index': 7}. Correct? False\n",
      "MiniLM: {'best_verse': 'ਸਾਧਸੰਗਤਿ ਮਿਲਿ ਕੀਨੋ ਦਾਨੁ', 'score': 0.83, 'index': 8}. Correct? False\n",
      "IndicBERT (CLS): {'best_verse': 'ਸਤਿਗੁਰਿ ਤੁਮਰੇ ਕਾਜ ਸਵਾਰੇ', 'score': 1.0, 'index': 2}. Correct? False\n",
      "IndicBERT (Mean): {'best_verse': 'ਅੰਮ੍ਰਿਤ ਨਾਮ ਮਹਾ ਰਸ ਪੀਨੇ', 'score': 0.6, 'index': 6}. Correct? False\n",
      "\n",
      "------For ਸ਼ਾਹ ਸ਼ਾਹ ਸਬ------\n",
      "BBMC: {'best_verse': 'ਦੁਸਟ ਦੂਤ ਪਰਮੇਸਰਿ ਮਾਰੇ', 'score': 0.92, 'index': 3}. Correct? False\n",
      "L3Cube: {'best_verse': 'ਬਾਦਿਸਾਹ ਸਾਹ ਸਭ ਵਸਿ ਕਰਿ ਦੀਨੇ', 'score': 0.7, 'index': 5}. Correct? True\n",
      "LaBSE: {'best_verse': 'ਥਿਰੁ ਘਰਿ ਬੈਸਹੁ ਹਰਿ ਜਨ ਪਿਆਰੇ', 'score': 0.39, 'index': 1}. Correct? False\n",
      "MiniLM: {'best_verse': 'ਸਾਧਸੰਗਤਿ ਮਿਲਿ ਕੀਨੋ ਦਾਨੁ', 'score': 0.82, 'index': 8}. Correct? False\n",
      "IndicBERT (CLS): {'best_verse': 'ਸਤਿਗੁਰਿ ਤੁਮਰੇ ਕਾਜ ਸਵਾਰੇ', 'score': 1.0, 'index': 2}. Correct? False\n",
      "IndicBERT (Mean): {'best_verse': 'ਦੁਸਟ ਦੂਤ ਪਰਮੇਸਰਿ ਮਾਰੇ', 'score': 0.62, 'index': 3}. Correct? False\n",
      "\n",
      "------For ਵੱਸ ਕਰ ਦੀਨੇ------\n",
      "BBMC: {'best_verse': 'ਜਨ ਕੀ ਪੈਜ ਰਖੀ ਕਰਤਾਰੇ', 'score': 0.96, 'index': 4}. Correct? False\n",
      "L3Cube: {'best_verse': 'ਥਿਰੁ ਘਰਿ ਬੈਸਹੁ ਹਰਿ ਜਨ ਪਿਆਰੇ', 'score': 0.66, 'index': 1}. Correct? False\n",
      "LaBSE: {'best_verse': 'ਜਨ ਕੀ ਪੈਜ ਰਖੀ ਕਰਤਾਰੇ', 'score': 0.34, 'index': 4}. Correct? False\n",
      "MiniLM: {'best_verse': 'ਗਉੜੀ ਮਹਲਾ', 'score': 0.88, 'index': 0}. Correct? False\n",
      "IndicBERT (CLS): {'best_verse': 'ਸਤਿਗੁਰਿ ਤੁਮਰੇ ਕਾਜ ਸਵਾਰੇ', 'score': 1.0, 'index': 2}. Correct? False\n",
      "IndicBERT (Mean): {'best_verse': 'ਬਾਦਿਸਾਹ ਸਾਹ ਸਭ ਵਸਿ ਕਰਿ ਦੀਨੇ', 'score': 0.65, 'index': 5}. Correct? True\n",
      "\n",
      "------For ਅੰਮ੍ਰਿਤ ਨਾਮ ਮਹਾ------\n",
      "BBMC: {'best_verse': 'ਅੰਮ੍ਰਿਤ ਨਾਮ ਮਹਾ ਰਸ ਪੀਨੇ', 'score': 0.98, 'index': 6}. Correct? True\n",
      "L3Cube: {'best_verse': 'ਅੰਮ੍ਰਿਤ ਨਾਮ ਮਹਾ ਰਸ ਪੀਨੇ', 'score': 0.72, 'index': 6}. Correct? True\n",
      "LaBSE: {'best_verse': 'ਅੰਮ੍ਰਿਤ ਨਾਮ ਮਹਾ ਰਸ ਪੀਨੇ', 'score': 0.84, 'index': 6}. Correct? True\n",
      "MiniLM: {'best_verse': 'ਨਾਨਕ ਓਟ ਪਕਰੀ ਪ੍ਰਭ ਸੁਆਮੀ', 'score': 0.96, 'index': 10}. Correct? False\n",
      "IndicBERT (CLS): {'best_verse': 'ਅੰਮ੍ਰਿਤ ਨਾਮ ਮਹਾ ਰਸ ਪੀਨੇ', 'score': 1.0, 'index': 6}. Correct? True\n",
      "IndicBERT (Mean): {'best_verse': 'ਅੰਮ੍ਰਿਤ ਨਾਮ ਮਹਾ ਰਸ ਪੀਨੇ', 'score': 0.77, 'index': 6}. Correct? True\n"
     ]
    }
   ],
   "source": [
    "# 3 word phrases, all beginning and ending within the same verse (ideal use case)\n",
    "long_asr_phrases = [\n",
    "    'ਸਤਗੁਰ ਤੁਮਰੇ ਕਾਜ', 'ਤੁਮਰੇ ਕਾਜ ਸਵਾਰੇ', 'ਦੁਸ਼ਟ ਦੂਤ ਪਰਮੇਸਰ', 'ਦੂਤ ਪਰਮੇਸਰ ਮਾਰੇ', 'ਜਨ ਕੀ ਪੈਜ', 'ਕੀ ਪੈਜ ਰਖੀ', 'ਪੈਜ ਰਖੀ ਕਰਤਾਰੇ',\n",
    "    'ਨਿਰਭੌ ਹੋ ਭਜੋ', 'ਹੋ ਭਜੋ ਭਗਵਾਨ', 'ਹੋ ਭਜੋ ਪਗਵਾਨ', 'ਬਾਦ ਸ਼ਾਹ ਸ਼ਾਹ', 'ਸ਼ਾਹ ਸ਼ਾਹ ਸਬ', 'ਵੱਸ ਕਰ ਦੀਨੇ', 'ਅੰਮ੍ਰਿਤ ਨਾਮ ਮਹਾ']\n",
    "long_asr_correct = [2, 2, 3, 3, 4, 4, 4,\n",
    "                       7, 7, 7, 5, 5, 5, 6]\n",
    "    \n",
    "statuses, verses, scores = test_phrases(long_asr_phrases, long_asr_correct)"
   ]
  },
  {
   "cell_type": "code",
   "execution_count": 159,
   "id": "5400c60d-47e0-4c17-8a89-df76343bdc13",
   "metadata": {},
   "outputs": [
    {
     "data": {
      "image/png": "[encoded data removed]",
      "text/plain": [
       "<Figure size 1500x1300 with 6 Axes>"
      ]
     },
     "metadata": {},
     "output_type": "display_data"
    }
   ],
   "source": [
    "plot_similarity_by_status(models_to_test, statuses, scores)"
   ]
  },
  {
   "cell_type": "code",
   "execution_count": null,
   "id": "da6e6c3f-f045-4696-886d-0aeff2c77ecb",
   "metadata": {},
   "outputs": [],
   "source": [
    "0 'ਗਉੜੀ ਮਹਲਾ',\n",
    "1 'ਥਿਰੁ ਘਰਿ ਬੈਸਹੁ ਹਰਿ ਜਨ ਪਿਆਰੇ',\n",
    "2 'ਸਤਿਗੁਰਿ ਤੁਮਰੇ ਕਾਜ ਸਵਾਰੇ',\n",
    "3 'ਦੁਸਟ ਦੂਤ ਪਰਮੇਸਰਿ ਮਾਰੇ',\n",
    "4 'ਜਨ ਕੀ ਪੈਜ ਰਖੀ ਕਰਤਾਰੇ',\n",
    "5 'ਬਾਦਿਸਾਹ ਸਾਹ ਸਭ ਵਸਿ ਕਰਿ ਦੀਨੇ',\n",
    "6 'ਅੰਮ੍ਰਿਤ ਨਾਮ ਮਹਾ ਰਸ ਪੀਨੇ',\n",
    "7 'ਨਿਰਭਉ ਹੋਇ ਭਜਹੁ ਭਗਵਾਨ',\n",
    "8 'ਸਾਧਸੰਗਤਿ ਮਿਲਿ ਕੀਨੋ ਦਾਨੁ',\n",
    "9 'ਸਰਣਿ ਪਰੇ ਪ੍ਰਭ ਅੰਤਰਜਾਮੀ',\n",
    "10 'ਨਾਨਕ ਓਟ ਪਕਰੀ ਪ੍ਰਭ ਸੁਆਮੀ'"
   ]
  },
  {
   "cell_type": "code",
   "execution_count": 161,
   "id": "2254a1b0-c878-4092-8f7a-c05b18311fba",
   "metadata": {},
   "outputs": [
    {
     "name": "stdout",
     "output_type": "stream",
     "text": [
      "\n",
      "------For ਜਨ ਪਿਆਰੇ ਸਤਗੁਰ------\n",
      "BBMC: {'best_verse': 'ਸਤਿਗੁਰਿ ਤੁਮਰੇ ਕਾਜ ਸਵਾਰੇ', 'score': 0.97, 'index': 2}. Correct? False\n",
      "L3Cube: {'best_verse': 'ਸਤਿਗੁਰਿ ਤੁਮਰੇ ਕਾਜ ਸਵਾਰੇ', 'score': 0.75, 'index': 2}. Correct? False\n",
      "LaBSE: {'best_verse': 'ਥਿਰੁ ਘਰਿ ਬੈਸਹੁ ਹਰਿ ਜਨ ਪਿਆਰੇ', 'score': 0.62, 'index': 1}. Correct? True\n",
      "MiniLM: {'best_verse': 'ਨਾਨਕ ਓਟ ਪਕਰੀ ਪ੍ਰਭ ਸੁਆਮੀ', 'score': 0.89, 'index': 10}. Correct? False\n",
      "IndicBERT (CLS): {'best_verse': 'ਸਤਿਗੁਰਿ ਤੁਮਰੇ ਕਾਜ ਸਵਾਰੇ', 'score': 1.0, 'index': 2}. Correct? False\n",
      "IndicBERT (Mean): {'best_verse': 'ਥਿਰੁ ਘਰਿ ਬੈਸਹੁ ਹਰਿ ਜਨ ਪਿਆਰੇ', 'score': 0.75, 'index': 1}. Correct? True\n",
      "\n",
      "------For ਪਿਆਰੇ ਸਤਗੁਰ ਤੁਮਰੇ------\n",
      "BBMC: {'best_verse': 'ਸਤਿਗੁਰਿ ਤੁਮਰੇ ਕਾਜ ਸਵਾਰੇ', 'score': 0.97, 'index': 2}. Correct? True\n",
      "L3Cube: {'best_verse': 'ਸਤਿਗੁਰਿ ਤੁਮਰੇ ਕਾਜ ਸਵਾਰੇ', 'score': 0.77, 'index': 2}. Correct? True\n",
      "LaBSE: {'best_verse': 'ਥਿਰੁ ਘਰਿ ਬੈਸਹੁ ਹਰਿ ਜਨ ਪਿਆਰੇ', 'score': 0.56, 'index': 1}. Correct? False\n",
      "MiniLM: {'best_verse': 'ਨਾਨਕ ਓਟ ਪਕਰੀ ਪ੍ਰਭ ਸੁਆਮੀ', 'score': 0.93, 'index': 10}. Correct? False\n",
      "IndicBERT (CLS): {'best_verse': 'ਸਤਿਗੁਰਿ ਤੁਮਰੇ ਕਾਜ ਸਵਾਰੇ', 'score': 1.0, 'index': 2}. Correct? True\n",
      "IndicBERT (Mean): {'best_verse': 'ਥਿਰੁ ਘਰਿ ਬੈਸਹੁ ਹਰਿ ਜਨ ਪਿਆਰੇ', 'score': 0.79, 'index': 1}. Correct? False\n",
      "\n",
      "------For ਕਾਜ ਸਵਾਰੇ ਦੁਸ਼ਟ------\n",
      "BBMC: {'best_verse': 'ਸਤਿਗੁਰਿ ਤੁਮਰੇ ਕਾਜ ਸਵਾਰੇ', 'score': 0.97, 'index': 2}. Correct? True\n",
      "L3Cube: {'best_verse': 'ਸਤਿਗੁਰਿ ਤੁਮਰੇ ਕਾਜ ਸਵਾਰੇ', 'score': 0.73, 'index': 2}. Correct? True\n",
      "LaBSE: {'best_verse': 'ਦੁਸਟ ਦੂਤ ਪਰਮੇਸਰਿ ਮਾਰੇ', 'score': 0.48, 'index': 3}. Correct? False\n",
      "MiniLM: {'best_verse': 'ਸਤਿਗੁਰਿ ਤੁਮਰੇ ਕਾਜ ਸਵਾਰੇ', 'score': 0.84, 'index': 2}. Correct? True\n",
      "IndicBERT (CLS): {'best_verse': 'ਸਤਿਗੁਰਿ ਤੁਮਰੇ ਕਾਜ ਸਵਾਰੇ', 'score': 1.0, 'index': 2}. Correct? True\n",
      "IndicBERT (Mean): {'best_verse': 'ਦੁਸਟ ਦੂਤ ਪਰਮੇਸਰਿ ਮਾਰੇ', 'score': 0.88, 'index': 3}. Correct? False\n",
      "\n",
      "------For ਸਵਾਰੇ ਦੁਸ਼ਟ ਦੂਤ------\n",
      "BBMC: {'best_verse': 'ਦੁਸਟ ਦੂਤ ਪਰਮੇਸਰਿ ਮਾਰੇ', 'score': 0.98, 'index': 3}. Correct? True\n",
      "L3Cube: {'best_verse': 'ਦੁਸਟ ਦੂਤ ਪਰਮੇਸਰਿ ਮਾਰੇ', 'score': 0.66, 'index': 3}. Correct? True\n",
      "LaBSE: {'best_verse': 'ਦੁਸਟ ਦੂਤ ਪਰਮੇਸਰਿ ਮਾਰੇ', 'score': 0.71, 'index': 3}. Correct? True\n",
      "MiniLM: {'best_verse': 'ਸਤਿਗੁਰਿ ਤੁਮਰੇ ਕਾਜ ਸਵਾਰੇ', 'score': 0.82, 'index': 2}. Correct? False\n",
      "IndicBERT (CLS): {'best_verse': 'ਸਤਿਗੁਰਿ ਤੁਮਰੇ ਕਾਜ ਸਵਾਰੇ', 'score': 1.0, 'index': 2}. Correct? False\n",
      "IndicBERT (Mean): {'best_verse': 'ਦੁਸਟ ਦੂਤ ਪਰਮੇਸਰਿ ਮਾਰੇ', 'score': 0.84, 'index': 3}. Correct? True\n",
      "\n",
      "------For ਪਰਮੇਸਰ ਮਾਰੇ ਜਨ------\n",
      "BBMC: {'best_verse': 'ਦੁਸਟ ਦੂਤ ਪਰਮੇਸਰਿ ਮਾਰੇ', 'score': 0.98, 'index': 3}. Correct? True\n",
      "L3Cube: {'best_verse': 'ਸਰਣਿ ਪਰੇ ਪ੍ਰਭ ਅੰਤਰਜਾਮੀ', 'score': 0.63, 'index': 9}. Correct? False\n",
      "LaBSE: {'best_verse': 'ਦੁਸਟ ਦੂਤ ਪਰਮੇਸਰਿ ਮਾਰੇ', 'score': 0.68, 'index': 3}. Correct? True\n",
      "MiniLM: {'best_verse': 'ਨਾਨਕ ਓਟ ਪਕਰੀ ਪ੍ਰਭ ਸੁਆਮੀ', 'score': 0.86, 'index': 10}. Correct? False\n",
      "IndicBERT (CLS): {'best_verse': 'ਸਤਿਗੁਰਿ ਤੁਮਰੇ ਕਾਜ ਸਵਾਰੇ', 'score': 1.0, 'index': 2}. Correct? False\n",
      "IndicBERT (Mean): {'best_verse': 'ਦੁਸਟ ਦੂਤ ਪਰਮੇਸਰਿ ਮਾਰੇ', 'score': 0.7, 'index': 3}. Correct? True\n",
      "\n",
      "------For ਮਾਰੇ ਜਨ ਕੀ------\n",
      "BBMC: {'best_verse': 'ਜਨ ਕੀ ਪੈਜ ਰਖੀ ਕਰਤਾਰੇ', 'score': 0.96, 'index': 4}. Correct? True\n",
      "L3Cube: {'best_verse': 'ਜਨ ਕੀ ਪੈਜ ਰਖੀ ਕਰਤਾਰੇ', 'score': 0.62, 'index': 4}. Correct? True\n",
      "LaBSE: {'best_verse': 'ਜਨ ਕੀ ਪੈਜ ਰਖੀ ਕਰਤਾਰੇ', 'score': 0.46, 'index': 4}. Correct? True\n",
      "MiniLM: {'best_verse': 'ਗਉੜੀ ਮਹਲਾ', 'score': 0.94, 'index': 0}. Correct? False\n",
      "IndicBERT (CLS): {'best_verse': 'ਸਤਿਗੁਰਿ ਤੁਮਰੇ ਕਾਜ ਸਵਾਰੇ', 'score': 1.0, 'index': 2}. Correct? False\n",
      "IndicBERT (Mean): {'best_verse': 'ਦੁਸਟ ਦੂਤ ਪਰਮੇਸਰਿ ਮਾਰੇ', 'score': 0.65, 'index': 3}. Correct? False\n",
      "\n",
      "------For ਰਖੀ ਕਰਤਾਰੇ ਬਾਦ------\n",
      "BBMC: {'best_verse': 'ਜਨ ਕੀ ਪੈਜ ਰਖੀ ਕਰਤਾਰੇ', 'score': 0.98, 'index': 4}. Correct? True\n",
      "L3Cube: {'best_verse': 'ਨਾਨਕ ਓਟ ਪਕਰੀ ਪ੍ਰਭ ਸੁਆਮੀ', 'score': 0.6, 'index': 10}. Correct? False\n",
      "LaBSE: {'best_verse': 'ਜਨ ਕੀ ਪੈਜ ਰਖੀ ਕਰਤਾਰੇ', 'score': 0.41, 'index': 4}. Correct? True\n",
      "MiniLM: {'best_verse': 'ਜਨ ਕੀ ਪੈਜ ਰਖੀ ਕਰਤਾਰੇ', 'score': 0.88, 'index': 4}. Correct? True\n",
      "IndicBERT (CLS): {'best_verse': 'ਬਾਦਿਸਾਹ ਸਾਹ ਸਭ ਵਸਿ ਕਰਿ ਦੀਨੇ', 'score': 1.0, 'index': 5}. Correct? False\n",
      "IndicBERT (Mean): {'best_verse': 'ਜਨ ਕੀ ਪੈਜ ਰਖੀ ਕਰਤਾਰੇ', 'score': 0.86, 'index': 4}. Correct? True\n",
      "\n",
      "------For ਪੀਨੇ ਨਿਰਭੌ ਹੋ------\n",
      "BBMC: {'best_verse': 'ਸਾਧਸੰਗਤਿ ਮਿਲਿ ਕੀਨੋ ਦਾਨੁ', 'score': 0.96, 'index': 8}. Correct? False\n",
      "L3Cube: {'best_verse': 'ਨਿਰਭਉ ਹੋਇ ਭਜਹੁ ਭਗਵਾਨ', 'score': 0.6, 'index': 7}. Correct? True\n",
      "LaBSE: {'best_verse': 'ਨਿਰਭਉ ਹੋਇ ਭਜਹੁ ਭਗਵਾਨ', 'score': 0.43, 'index': 7}. Correct? True\n",
      "MiniLM: {'best_verse': 'ਨਿਰਭਉ ਹੋਇ ਭਜਹੁ ਭਗਵਾਨ', 'score': 0.93, 'index': 7}. Correct? True\n",
      "IndicBERT (CLS): {'best_verse': 'ਅੰਮ੍ਰਿਤ ਨਾਮ ਮਹਾ ਰਸ ਪੀਨੇ', 'score': 1.0, 'index': 6}. Correct? False\n",
      "IndicBERT (Mean): {'best_verse': 'ਨਿਰਭਉ ਹੋਇ ਭਜਹੁ ਭਗਵਾਨ', 'score': 0.79, 'index': 7}. Correct? True\n",
      "\n",
      "------For ਭਜੋ ਪਗਵਾਨ ਸਾਧ------\n",
      "BBMC: {'best_verse': 'ਨਿਰਭਉ ਹੋਇ ਭਜਹੁ ਭਗਵਾਨ', 'score': 0.97, 'index': 7}. Correct? True\n",
      "L3Cube: {'best_verse': 'ਗਉੜੀ ਮਹਲਾ', 'score': 0.58, 'index': 0}. Correct? False\n",
      "LaBSE: {'best_verse': 'ਨਿਰਭਉ ਹੋਇ ਭਜਹੁ ਭਗਵਾਨ', 'score': 0.8, 'index': 7}. Correct? True\n",
      "MiniLM: {'best_verse': 'ਨਾਨਕ ਓਟ ਪਕਰੀ ਪ੍ਰਭ ਸੁਆਮੀ', 'score': 0.87, 'index': 10}. Correct? False\n",
      "IndicBERT (CLS): {'best_verse': 'ਅੰਮ੍ਰਿਤ ਨਾਮ ਮਹਾ ਰਸ ਪੀਨੇ', 'score': 1.0, 'index': 6}. Correct? False\n",
      "IndicBERT (Mean): {'best_verse': 'ਅੰਮ੍ਰਿਤ ਨਾਮ ਮਹਾ ਰਸ ਪੀਨੇ', 'score': 0.8, 'index': 6}. Correct? False\n",
      "\n",
      "------For ਕੀਨੋ ਦਾਨ ਸਰਣ------\n",
      "BBMC: {'best_verse': 'ਸਾਧਸੰਗਤਿ ਮਿਲਿ ਕੀਨੋ ਦਾਨੁ', 'score': 0.96, 'index': 8}. Correct? True\n",
      "L3Cube: {'best_verse': 'ਸਾਧਸੰਗਤਿ ਮਿਲਿ ਕੀਨੋ ਦਾਨੁ', 'score': 0.81, 'index': 8}. Correct? True\n",
      "LaBSE: {'best_verse': 'ਸਾਧਸੰਗਤਿ ਮਿਲਿ ਕੀਨੋ ਦਾਨੁ', 'score': 0.61, 'index': 8}. Correct? True\n",
      "MiniLM: {'best_verse': 'ਗਉੜੀ ਮਹਲਾ', 'score': 0.84, 'index': 0}. Correct? False\n",
      "IndicBERT (CLS): {'best_verse': 'ਸਤਿਗੁਰਿ ਤੁਮਰੇ ਕਾਜ ਸਵਾਰੇ', 'score': 1.0, 'index': 2}. Correct? False\n",
      "IndicBERT (Mean): {'best_verse': 'ਦੁਸਟ ਦੂਤ ਪਰਮੇਸਰਿ ਮਾਰੇ', 'score': 0.82, 'index': 3}. Correct? False\n",
      "\n",
      "------For ਦਾਨ ਸਰਣ ਪਰੇ------\n",
      "BBMC: {'best_verse': 'ਦੁਸਟ ਦੂਤ ਪਰਮੇਸਰਿ ਮਾਰੇ', 'score': 0.96, 'index': 3}. Correct? False\n",
      "L3Cube: {'best_verse': 'ਸਰਣਿ ਪਰੇ ਪ੍ਰਭ ਅੰਤਰਜਾਮੀ', 'score': 0.8, 'index': 9}. Correct? True\n",
      "LaBSE: {'best_verse': 'ਸਰਣਿ ਪਰੇ ਪ੍ਰਭ ਅੰਤਰਜਾਮੀ', 'score': 0.55, 'index': 9}. Correct? True\n",
      "MiniLM: {'best_verse': 'ਗਉੜੀ ਮਹਲਾ', 'score': 0.72, 'index': 0}. Correct? False\n",
      "IndicBERT (CLS): {'best_verse': 'ਸਤਿਗੁਰਿ ਤੁਮਰੇ ਕਾਜ ਸਵਾਰੇ', 'score': 1.0, 'index': 2}. Correct? False\n",
      "IndicBERT (Mean): {'best_verse': 'ਦੁਸਟ ਦੂਤ ਪਰਮੇਸਰਿ ਮਾਰੇ', 'score': 0.74, 'index': 3}. Correct? False\n",
      "\n",
      "------For ਦਾਨ ਸਰਣ ਭਰੇ------\n",
      "BBMC: {'best_verse': 'ਨਿਰਭਉ ਹੋਇ ਭਜਹੁ ਭਗਵਾਨ', 'score': 0.96, 'index': 7}. Correct? False\n",
      "L3Cube: {'best_verse': 'ਸਰਣਿ ਪਰੇ ਪ੍ਰਭ ਅੰਤਰਜਾਮੀ', 'score': 0.71, 'index': 9}. Correct? True\n",
      "LaBSE: {'best_verse': 'ਸਾਧਸੰਗਤਿ ਮਿਲਿ ਕੀਨੋ ਦਾਨੁ', 'score': 0.53, 'index': 8}. Correct? False\n",
      "MiniLM: {'best_verse': 'ਗਉੜੀ ਮਹਲਾ', 'score': 0.74, 'index': 0}. Correct? False\n",
      "IndicBERT (CLS): {'best_verse': 'ਸਤਿਗੁਰਿ ਤੁਮਰੇ ਕਾਜ ਸਵਾਰੇ', 'score': 1.0, 'index': 2}. Correct? False\n",
      "IndicBERT (Mean): {'best_verse': 'ਸਰਣਿ ਪਰੇ ਪ੍ਰਭ ਅੰਤਰਜਾਮੀ', 'score': 0.68, 'index': 9}. Correct? True\n"
     ]
    }
   ],
   "source": [
    "# 3 word phrases, beginning in one verse and ending in another (edge case)\n",
    "mixed_asr_phrases = [\n",
    "    'ਜਨ ਪਿਆਰੇ ਸਤਗੁਰ', 'ਪਿਆਰੇ ਸਤਗੁਰ ਤੁਮਰੇ', 'ਕਾਜ ਸਵਾਰੇ ਦੁਸ਼ਟ', 'ਸਵਾਰੇ ਦੁਸ਼ਟ ਦੂਤ', 'ਪਰਮੇਸਰ ਮਾਰੇ ਜਨ', \n",
    "    'ਮਾਰੇ ਜਨ ਕੀ',  'ਰਖੀ ਕਰਤਾਰੇ ਬਾਦ', 'ਪੀਨੇ ਨਿਰਭੌ ਹੋ', 'ਭਜੋ ਪਗਵਾਨ ਸਾਧ', 'ਕੀਨੋ ਦਾਨ ਸਰਣ', 'ਦਾਨ ਸਰਣ ਪਰੇ', 'ਦਾਨ ਸਰਣ ਭਰੇ']\n",
    "# detect the correct phrase/index as the one with the dominant number of words\n",
    "mixed_asr_correct = [1, 2, 2, 3, 3, \n",
    "                     4, 4, 7, 7, 8, 9, 9]\n",
    "statuses, verses, scores = test_phrases(mixed_asr_phrases, mixed_asr_correct)"
   ]
  },
  {
   "cell_type": "code",
   "execution_count": 162,
   "id": "bc76c467-b91c-4e1d-ab8a-0cdd45475f7e",
   "metadata": {},
   "outputs": [
    {
     "data": {
      "image/png": "[encoded data removed]",
      "text/plain": [
       "<Figure size 1500x1300 with 6 Axes>"
      ]
     },
     "metadata": {},
     "output_type": "display_data"
    }
   ],
   "source": [
    "plot_similarity_by_status(models_to_test, statuses, scores)"
   ]
  },
  {
   "cell_type": "code",
   "execution_count": 67,
   "id": "23cf7f55-6c6b-48a3-9ba2-234e87096752",
   "metadata": {},
   "outputs": [
    {
     "data": {
      "text/plain": [
       "['ਗਉੜੀ ਮਹਲਾ',\n",
       " 'ਥਿਰੁ ਘਰਿ ਬੈਸਹੁ ਹਰਿ ਜਨ ਪਿਆਰੇ',\n",
       " 'ਸਤਿਗੁਰਿ ਤੁਮਰੇ ਕਾਜ ਸਵਾਰੇ',\n",
       " 'ਦੁਸਟ ਦੂਤ ਪਰਮੇਸਰਿ ਮਾਰੇ',\n",
       " 'ਜਨ ਕੀ ਪੈਜ ਰਖੀ ਕਰਤਾਰੇ',\n",
       " 'ਬਾਦਿਸਾਹ ਸਾਹ ਸਭ ਵਸਿ ਕਰਿ ਦੀਨੇ',\n",
       " 'ਅੰਮ੍ਰਿਤ ਨਾਮ ਮਹਾ ਰਸ ਪੀਨੇ',\n",
       " 'ਨਿਰਭਉ ਹੋਇ ਭਜਹੁ ਭਗਵਾਨ',\n",
       " 'ਸਾਧਸੰਗਤਿ ਮਿਲਿ ਕੀਨੋ ਦਾਨੁ',\n",
       " 'ਸਰਣਿ ਪਰੇ ਪ੍ਰਭ ਅੰਤਰਜਾਮੀ',\n",
       " 'ਨਾਨਕ ਓਟ ਪਕਰੀ ਪ੍ਰਭ ਸੁਆਮੀ']"
      ]
     },
     "execution_count": 67,
     "metadata": {},
     "output_type": "execute_result"
    }
   ],
   "source": [
    "shabad_data['pages_data']['page_1'][0]['shabad_id']"
   ]
  },
  {
   "cell_type": "code",
   "execution_count": null,
   "id": "97e64dda-23d7-469c-b08d-05e2f60fafc0",
   "metadata": {},
   "outputs": [],
   "source": [
    "#TODO:\n",
    "# Create plots depicting confidence levels of each model when it's right and wrong\n",
    "# Create separate plots for regular and mixed ASR outputs\n",
    "# Add logic so that if all the words of a verse have not been spoken, we will not switch to the next verse\n",
    "# Think of other ways of improving verse identification\n",
    "# Make the initial shabad identification method more robust if need be"
   ]
  },
  {
   "cell_type": "markdown",
   "id": "00e0094e-f2d8-4cb8-8eae-59d963964d98",
   "metadata": {},
   "source": [
    "**Automatic Speech Recognition**"
   ]
  },
  {
   "cell_type": "code",
   "execution_count": null,
   "id": "961f8df5-2c16-4514-8344-adf4959411cf",
   "metadata": {},
   "outputs": [],
   "source": [
    "# TODO:\n",
    "# Try https://huggingface.co/gagan3012/wav2vec2-xlsr-punjabi\n",
    "# Need to search more for other models. Google speech to text is amazing and we can leverage their $300 free credits as well."
   ]
  }
 ],
 "metadata": {
  "kernelspec": {
   "display_name": "Python (gurbani_ai)",
   "language": "python",
   "name": "gurbani_ai"
  },
  "language_info": {
   "codemirror_mode": {
    "name": "ipython",
    "version": 3
   },
   "file_extension": ".py",
   "mimetype": "text/x-python",
   "name": "python",
   "nbconvert_exporter": "python",
   "pygments_lexer": "ipython3",
   "version": "3.11.9"
  }
 },
 "nbformat": 4,
 "nbformat_minor": 5
}
