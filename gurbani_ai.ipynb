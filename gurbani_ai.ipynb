{
 "cells": [
  {
   "cell_type": "code",
   "execution_count": 1,
   "id": "bd40dd71-aab2-4062-9548-6707f13332a8",
   "metadata": {},
   "outputs": [
    {
     "name": "stderr",
     "output_type": "stream",
     "text": [
      "C:\\Users\\sarvp\\anaconda3\\envs\\gurbani_ai\\Lib\\site-packages\\tqdm\\auto.py:21: TqdmWarning: IProgress not found. Please update jupyter and ipywidgets. See https://ipywidgets.readthedocs.io/en/stable/user_install.html\n",
      "  from .autonotebook import tqdm as notebook_tqdm\n"
     ]
    }
   ],
   "source": [
    "# SikhiToTheMax/Khalis libraries\n",
    "import banidb\n",
    "from anvaad_py import firstLetters\n",
    "import requests # to get raags\n",
    "from sentence_transformers import SentenceTransformer, util # for embeddings\n",
    "import numpy as np\n",
    "import matplotlib.pyplot as plt\n",
    "import matplotlib.patches as mpatches # Import for creating legend patches\n",
    "import time\n",
    "import pyaudio\n",
    "from google.cloud import speech\n",
    "\n",
    "# Google Speech-to-Text can be set up using https://www.assemblyai.com/blog/google-speech-to-text-api-python\n",
    "# For Windows, write the following in the command window from which you launch the jupyter notebook, and then launch the notebook:\n",
    "# set GOOGLE_APPLICATION_CREDENTIALS=\"path to json file\""
   ]
  },
  {
   "cell_type": "code",
   "execution_count": 2,
   "id": "ac4f1090-8666-4425-8df3-b8c8aa22c348",
   "metadata": {},
   "outputs": [],
   "source": [
    "import os\n",
    "os.environ['HF_HUB_DISABLE_SYMLINKS_WARNING'] = '1'\n",
    "# Supress Hugging Face's Symlinks warning. It wants to use Symlinks to save disk space\n",
    "# But that requires you to turn on Windows developer mode, which comes with its own risks."
   ]
  },
  {
   "cell_type": "markdown",
   "id": "72d55457-171f-4e79-ab3f-196fc9fcc2ec",
   "metadata": {},
   "source": [
    "**ASR**"
   ]
  },
  {
   "cell_type": "code",
   "execution_count": 3,
   "id": "44d3e470-b006-490b-95dc-dbe6b9080fd6",
   "metadata": {},
   "outputs": [],
   "source": [
    "import time\n",
    "import pyaudio\n",
    "from google.cloud import speech\n",
    "\n",
    "# --- Configuration ---\n",
    "MIN_WORDS_PER_CHUNK = 3 # minimum number of words to process for identifying shabad verse\n",
    "\n",
    "# Audio recording parameters\n",
    "RATE = 16000 # Sample rate [Hz]. 16000 samples/second is the industry standard for speech recognition tasks\n",
    "CHUNK = int(RATE / 10)  # 100ms"
   ]
  },
  {
   "cell_type": "code",
   "execution_count": 4,
   "id": "5f2be145-2523-48d2-9d45-efaf4c8ab26d",
   "metadata": {},
   "outputs": [],
   "source": [
    "# --- Microphone Stream Class ---\n",
    "\n",
    "class MicrophoneStream:\n",
    "    \"\"\"Opens a recording stream from a PyAudio microphone and acts as a Python generator\n",
    "    that yields audio chunks. It uses a context manager (`with` statement) to\n",
    "    ensure the microphone is properly closed after use.\"\"\"\n",
    "    def __init__(self, rate, chunk):\n",
    "        self._rate = rate\n",
    "        self._chunk = chunk\n",
    "        self._audio_interface = pyaudio.PyAudio()\n",
    "        self._audio_stream = self._audio_interface.open(\n",
    "            format=pyaudio.paInt16, # 16 bit integer audio format (standard for speech recognition)\n",
    "            channels=1, # audio = mono, stereo is not needed for our case\n",
    "            rate=self._rate,\n",
    "            input=True, # designate this as an input stream\n",
    "            frames_per_buffer=self._chunk, # microphone will deliver audio in chunks of this size\n",
    "            stream_callback=self._fill_buffer, # fill_buffer is called in a background thread when a new audio chunk is ready\n",
    "        )\n",
    "        self.closed = False # stream open or closed\n",
    "        self._buff = [] # a buffer to temporarily store audio chunks from the callback.\n",
    "\n",
    "    def __enter__(self):\n",
    "        \"\"\"Called when entering the 'with' block.\"\"\"\n",
    "        return self\n",
    "\n",
    "    def __exit__(self, exc_type, exc_value, traceback):\n",
    "        \"\"\"Called when exiting the 'with' block to ensure cleanup.\"\"\"\n",
    "        self._audio_stream.stop_stream()\n",
    "        self._audio_stream.close()\n",
    "        self.closed = True\n",
    "        self._audio_interface.terminate()\n",
    "\n",
    "    def _fill_buffer(self, in_data, frame_count, time_info, status_flags):\n",
    "        \"\"\"Callback method to continuously collect data from the audio stream into the buffer.\n",
    "        The function needs only one argument, but this is a callback method and needs to conform\n",
    "        to pyaudio callback signature. See https://people.csail.mit.edu/hubert/pyaudio/docs/\"\"\"\n",
    "        self._buff.append(in_data) # append raw audio data chunk to our internal buffer\n",
    "        return None, pyaudio.paContinue # (audio to be sent to output = None, stream status = continue streaming)\n",
    "\n",
    "    # Data provider method\n",
    "    def generator(self):\n",
    "        \"\"\"Yields audio chunks from the buffer. This is the main interface for getting audio\n",
    "        chunks from this class.\"\"\"\n",
    "        while not self.closed: # while the microphone stream is active\n",
    "            if self._buff: # if the buffer has audio chunks\n",
    "                data = b\"\".join(self._buff) # join chunks into single block of audio data\n",
    "                self._buff = [] # clear buffer\n",
    "                yield data # yield data to the part of the script calling it. The method pauses until next block is requested.\n",
    "            else: # if buffer is empty\n",
    "                time.sleep(0.1) # sleep for 0.1 sec to prevent the loop from consuming CPU cycles while waiting for audio"
   ]
  },
  {
   "cell_type": "code",
   "execution_count": 5,
   "id": "7739f272-b9ca-4f31-af09-c8b3c1dd867a",
   "metadata": {},
   "outputs": [],
   "source": [
    "# --- API Response Processing (Word-Based Chunking) ---\n",
    "\n",
    "def listen_and_process(responses, min_words):\n",
    "    \"\"\"\n",
    "    Processes API responses, buffers final transcripts, and yields text chunks\n",
    "    based on a minimum word count.\n",
    "    responses: generator object provided by the Google Cloud client library. This is a live stream.\n",
    "    min_words: Minimum number of words per chunk\n",
    "    \"\"\"\n",
    "    print(f\"Listening... Will output transcribed text in chunks of at least {min_words} words.\")\n",
    "    phrase_buffer = [] # for holding transcribed text as it is received and processed\n",
    "\n",
    "    for response in responses: # Each response is a single data packet sent by the API\n",
    "        # The response data packet is a container. The transcription data is inside a list called\n",
    "        # results. It is possible for the Google API to send an empty results list (e.g. as a \n",
    "        # heartbeat). If that's the case, there is nothing to process. So, continue i.e. stop the\n",
    "        # current loop and jump back to the beginning of the for loop.\n",
    "        if not response.results:\n",
    "            continue\n",
    "\n",
    "        # To understand the following code, it is imperative to understand the structure of the \n",
    "        # response. For details, refer to \n",
    "        # https://cloud.google.com/speech-to-text/docs/speech-to-text-requests#time-offsets\n",
    "        # \"response\": {\n",
    "        #     \"@type\": \"type.googleapis.com/google.cloud.speech.v1.LongRunningRecognizeResponse\",\n",
    "        #     \"results\": [\n",
    "        #       {\n",
    "        #         \"alternatives\": [\n",
    "        #           {\n",
    "        #             \"transcript\": \"Four score and twenty...(etc)...\",\n",
    "        #             \"confidence\": 0.97186122,\n",
    "        #             \"words\": [\n",
    "        #               {\n",
    "        #                 \"startTime\": \"1.300s\",\n",
    "        #                 \"endTime\": \"1.400s\",\n",
    "        #                 \"word\": \"Four\"\n",
    "        #               },\n",
    "        #               {\n",
    "        #                 \"startTime\": \"1.400s\",\n",
    "        #                 \"endTime\": \"1.600s\",\n",
    "        #                 \"word\": \"score\"\n",
    "        #               },        \n",
    "        # So, we have response -> results -> multiple alternatives, and within each alternative\n",
    "        # alternatives[i] -> transcript, confidence, multiple words\n",
    "        \n",
    "        # If a speaker pauses, the API may send a response packet containing MULTIPLE results,\n",
    "        # one for the speech before the pause and one for after. This loop iterates through\n",
    "        # every result in the list to ensure that no part of the speech is missed. Without\n",
    "        # this, we would only ever process the first phrase and ignore the rest.\n",
    "        for result in response.results:\n",
    "            # For each result, we check if it contains any 'alternatives' (transcription guesses).\n",
    "            # If not, we skip to the next result in the list.\n",
    "            if not result.alternatives:\n",
    "                continue\n",
    "\n",
    "            # We take the first alternative, as it is the one with the highest confidence score.\n",
    "            transcript = result.alternatives[0].transcript\n",
    "\n",
    "            # Google API sends 2 types of results:\n",
    "            # 1. Interim results: Fast, low-latency guesses that might change as the speaker continues\n",
    "            #    e.g. \"ਵਾਹਿ\" which could be later changed to \"ਵਾਹਿਗੁਰੂ\"\n",
    "            # 2. Final results: High-confidence transcriptions confirmed by the API.\n",
    "            # We will process only the final results to build the chunks.\n",
    "            if result.is_final:\n",
    "                # Add the confirmed, cleaned phrase to our temporary buffer.\n",
    "                phrase_buffer.append(transcript.strip()) # strip() eliminates leading/trailing whitespaces\n",
    "                \n",
    "                # Combine all phrases currently in the buffer into a single string to check the word count.\n",
    "                chunk_text = \" \".join(phrase_buffer)\n",
    "                word_count = len(chunk_text.split())\n",
    "\n",
    "                # If the total word count meets our minimum requirement, we deliver the chunk.\n",
    "                if word_count >= min_words:\n",
    "                    print(\"-\" * 60)\n",
    "                    print(f\"Text Chunk (>= {min_words} words): {chunk_text}\")\n",
    "                    print(\"-\" * 60)\n",
    "                    \n",
    "                    # Reset the buffer to start collecting the next chunk from scratch.\n",
    "                    phrase_buffer = []"
   ]
  },
  {
   "cell_type": "code",
   "execution_count": null,
   "id": "9ab0337c-b152-4c42-98e3-902c0103c4a7",
   "metadata": {},
   "outputs": [
    {
     "name": "stdout",
     "output_type": "stream",
     "text": [
      "Listening... Will output transcribed text in chunks of at least 3 words.\n",
      "------------------------------------------------------------\n",
      "Text Chunk (>= 3 words): ਤੁਹਾਡਾ ਹਾਲ ਕਿਵੇਂ ਹੈ\n",
      "------------------------------------------------------------\n",
      "------------------------------------------------------------\n",
      "Text Chunk (>= 3 words): ਤੁਸੀਂ ਅੱਜ ਕਿੰਨੀ ਦੇਰ ਪੜ੍ਹਨਗੇ\n",
      "------------------------------------------------------------\n",
      "------------------------------------------------------------\n",
      "Text Chunk (>= 3 words): ਮੈਨੂੰ ਤੇ ਇਹ ਨਹੀਂ ਸਮਝ ਆਉਂਦਾ ਹੈ\n",
      "------------------------------------------------------------\n",
      "------------------------------------------------------------\n",
      "Text Chunk (>= 3 words): ਕੀ ਇਹ ਬੰਦੇ ਰੋਸ ਕੰਮ ਕਿਉਂ ਨਹੀਂ ਕਰਦੇ\n",
      "------------------------------------------------------------\n",
      "------------------------------------------------------------\n",
      "Text Chunk (>= 3 words): ਜੇ ਤੁਸੀਂ ਰੋਜ਼ ਦਾ ਕੰਮ ਰੋਜ਼ਗਾਰ ਨੂ\n",
      "------------------------------------------------------------\n",
      "------------------------------------------------------------\n",
      "Text Chunk (>= 3 words): ਤੇ ਕੋਈ ਪ੍ਰੇਸ਼ਾਨੀ ਨਾ ਹੋਵੇ\n",
      "------------------------------------------------------------\n"
     ]
    }
   ],
   "source": [
    "# --- Main Execution Logic ---\n",
    "# This is where the script is orchestrated.\n",
    "\n",
    "# Create the client object that will communicate with the Google Speech API.\n",
    "# It automatically finds credentials from the environment variable.\n",
    "client = speech.SpeechClient()\n",
    "\n",
    "# Create a list of common Gurbani phrases. For this to be effective,\n",
    "# you should expand this list with the tukhs (lines) you expect to hear most.\n",
    "# This is the \"cheat sheet\" for the model.\n",
    "gurbani_phrases = [\n",
    "    \"ਗੁਰੂ ਰਾਮਦਾਸ ਰਾਖਹੁ ਸਰਣਾਈ\", \"ਥਿਰੁ ਘਰਿ ਬੈਸਹੁ ਹਰਿ ਜਨ ਪਿਆਰੇ\", \"ਸਤਿਗੁਰੁ ਤੁਮਰਾ ਕਾਜੁ ਸਵਾਰੈ\",\n",
    "    \"ਵਾਹਿਗੁਰੂ\", \"ਸਤਿਨਾਮ\", \"ਇਕ ਓਅੰਕਾਰ\", \"ਜੀ ਕਾ ਖਾਲਸਾ\", \"ਜੀ ਕੀ ਫਤਿਹ\",\n",
    "    \"ਧੰਨ ਗੁਰੂ ਨਾਨਕ\", \"ਮੇਰਾ ਮਨੁ ਲੋਚੈ ਗੁਰ ਦਰਸਨ ਤਾਈ\", \"ਸੂਰਾ ਸੋ ਪਹਿਚਾਨੀਐ\"\n",
    "]\n",
    "\n",
    "# Create the adaptation object with a \"boost\" to give these phrases priority.\n",
    "phrase_set = speech.PhraseSet(phrases=[speech.PhraseSet.Phrase(value=p) for p in gurbani_phrases], boost=10.0)\n",
    "speech_adaptation = speech.SpeechAdaptation(phrase_sets=[phrase_set])\n",
    "\n",
    "# Create a configuration object telling the API how to process our audio.\n",
    "config = speech.RecognitionConfig(\n",
    "    encoding=speech.RecognitionConfig.AudioEncoding.LINEAR16,\n",
    "    sample_rate_hertz=RATE,\n",
    "    language_code=\"pa-Guru-IN\", # punjabi-Gurumukhi-India\n",
    "    adaptation=speech_adaptation\n",
    ")\n",
    "\n",
    "# Create a more specific configuration for streaming requests.\n",
    "streaming_config = speech.StreamingRecognitionConfig(\n",
    "    config=config,\n",
    "    interim_results=True  # We ask for interim results for potential low-latency use.\n",
    ")\n",
    "\n",
    "# A try/except block to gracefully handle stopping the script (e.g., with Ctrl+C).\n",
    "try:\n",
    "    # Use the MicrophoneStream as a context manager to handle setup/teardown.\n",
    "    with MicrophoneStream(RATE, CHUNK) as stream:\n",
    "        # Get the audio generator from the microphone stream.\n",
    "        audio_generator = stream.generator()\n",
    "        # Create a generator of API-formatted requests from our audio generator.\n",
    "        # This is memory-efficient as it doesn't create a giant list.\n",
    "        requests = (\n",
    "            speech.StreamingRecognizeRequest(audio_content=content)\n",
    "            for content in audio_generator\n",
    "        )\n",
    "\n",
    "        # This is the line that starts the two-way communication with the API.\n",
    "        # It sends the 'requests' generator and returns a 'responses' generator.\n",
    "        # This is a blocking call that will run as long as the microphone is open.\n",
    "        responses = client.streaming_recognize(streaming_config, requests)\n",
    "\n",
    "        # Pass the stream of API responses to our processing function.\n",
    "        listen_and_process(responses, MIN_WORDS_PER_CHUNK)\n",
    "\n",
    "except Exception as e:\n",
    "    # Catches exceptions, including when the user interrupts the script.\n",
    "    print(f\"\\nTranscription stopped or an error occurred: {e}\")"
   ]
  },
  {
   "cell_type": "markdown",
   "id": "a68d138f-cd20-47be-bd49-db99ba208b53",
   "metadata": {},
   "source": [
    "The above model does a great job when you are speaking Punjabi in general, but a horrible job when you play a kirtan recording. Also, the is_final flag is only set to true when a sentence is completed. This sometimes never happens in a kirtan as everything seems like a continious statement"
   ]
  },
  {
   "cell_type": "markdown",
   "id": "8a22f0eb-0caa-4191-b797-fefed485607d",
   "metadata": {},
   "source": [
    "**Exploration**"
   ]
  },
  {
   "cell_type": "code",
   "execution_count": 3,
   "id": "07e40fdc-032c-4ce4-9fdb-8a30f0710d0f",
   "metadata": {},
   "outputs": [],
   "source": [
    "shabad = banidb.random()"
   ]
  },
  {
   "cell_type": "code",
   "execution_count": 4,
   "id": "946a66fb-69ff-4b32-8c36-9ed72df1f16d",
   "metadata": {},
   "outputs": [
    {
     "data": {
      "text/plain": [
       "{'shabad_id': 3570,\n",
       " 'source_uni': 'ਸ੍ਰੀ ਗੁਰੂ ਗ੍ਰੰਥ ਸਾਹਿਬ ਜੀ',\n",
       " 'source_eng': 'Sri Guru Granth Sahib Ji',\n",
       " 'writer': 'Guru Arjan Dev Ji',\n",
       " 'ang': 965,\n",
       " 'verses': [{'verse_id': 41269,\n",
       "   'verse': 'ਮਃ ੫ ॥',\n",
       "   'steek': {'en': {'bdb': 'Fifth Mehla:',\n",
       "     'ms': '5th Guru.',\n",
       "     'ssk': 'Fifth Mehl:'},\n",
       "    'pu': {'ss': {'gurmukhi': None, 'unicode': None},\n",
       "     'ft': {'gurmukhi': '', 'unicode': ''},\n",
       "     'bdb': {'gurmukhi': None, 'unicode': None},\n",
       "     'ms': {'gurmukhi': 'pMjvIN pwqSwhI[', 'unicode': 'ਪੰਜਵੀਂ ਪਾਤਸ਼ਾਹੀ।'}},\n",
       "    'es': {'sn': 'Mejl Guru Aryan, Quinto Canal Divino.'},\n",
       "    'hi': {'ss': '', 'sts': 'महला ५॥'}},\n",
       "   'transliteration': {'english': 'mahalaa panjavaa ||',\n",
       "    'hindi': 'म: ५ ॥',\n",
       "    'en': 'mahalaa panjavaa ||',\n",
       "    'hi': 'म: ५ ॥',\n",
       "    'ipa': 'mahalaa pəŋd͡ʒʋɑ.',\n",
       "    'ur': 'مÚ ۵ ۔۔'}},\n",
       "  {'verse_id': 41270,\n",
       "   'verse': 'ਆਹਰ ਸਭਿ ਕਰਦਾ ਫਿਰੈ ਆਹਰੁ ਇਕੁ ਨ ਹੋਇ ॥',\n",
       "   'steek': {'en': {'bdb': 'Making all sorts of efforts, they wander around; but they do not make even one effort.',\n",
       "     'ms': 'Man goes about making all efforts, but he makes not one effort to meet the Lord.',\n",
       "     'ssk': 'Making all sorts of efforts, they wander around; but they do not make even one effort.'},\n",
       "    'pu': {'ss': {'gurmukhi': 'hy nwnk! mnu`K hor swry au~dm krdw iPrdw hY, pr iek pRBU ƒ ismrn dw au~dm nhIN krdw [',\n",
       "      'unicode': 'ਹੇ ਨਾਨਕ! ਮਨੁੱਖ ਹੋਰ ਸਾਰੇ ਉੱਦਮ ਕਰਦਾ ਫਿਰਦਾ ਹੈ, ਪਰ ਇਕ ਪ੍ਰਭੂ ਨੂੰ ਸਿਮਰਨ ਦਾ ਉੱਦਮ ਨਹੀਂ ਕਰਦਾ ।'},\n",
       "     'ft': {'gurmukhi': 'hy BweI! jIv audm qW sB kMmoN vwsqy krqw iPrqw hY, iek prmysr lIey audm nhIN hoqw]',\n",
       "      'unicode': 'ਹੇ ਭਾਈ! ਜੀਵ ਉਦਮ ਤਾਂ ਸਭ ਕੰਮੋਂ ਵਾਸਤੇ ਕਰਤਾ ਫਿਰਤਾ ਹੈ, ਇਕ ਪਰਮੇਸਰ ਲੀਏ ਉਦਮ ਨਹੀਂ ਹੋਤਾ॥'},\n",
       "     'bdb': {'gurmukhi': 'hy nwnk! mnu`K hor swry au~dm krdw iPrdw hY, pr iek pRBU ƒ ismrn dw au~dm nhIN krdw [',\n",
       "      'unicode': 'ਹੇ ਨਾਨਕ! ਮਨੁੱਖ ਹੋਰ ਸਾਰੇ ਉੱਦਮ ਕਰਦਾ ਫਿਰਦਾ ਹੈ, ਪਰ ਇਕ ਪ੍ਰਭੂ ਨੂੰ ਸਿਮਰਨ ਦਾ ਉੱਦਮ ਨਹੀਂ ਕਰਦਾ ।'},\n",
       "     'ms': {'gurmukhi': 'ienswn swry auprwly krdw quirAw iPrdw hY, pRMqU Awpxy suAwmI ƒ imlx dw auh iek auprwlw nhIN krdw[',\n",
       "      'unicode': 'ਇਨਸਾਨ ਸਾਰੇ ਉਪਰਾਲੇ ਕਰਦਾ ਤੁਰਿਆ ਫਿਰਦਾ ਹੈ, ਪ੍ਰੰਤੂ ਆਪਣੇ ਸੁਆਮੀ ਨੂੰ ਮਿਲਣ ਦਾ ਉਹ ਇਕ ਉਪਰਾਲਾ ਨਹੀਂ ਕਰਦਾ।'}},\n",
       "    'es': {'sn': 'Uno hace todo excepto dedicarse a Dios.'},\n",
       "    'hi': {'ss': 'हे नानक ! मनुष्य अन्य सारे उद्यम करता फिरता है। पर एक प्रभू के सिमरन का प्रयास नहीं करता।',\n",
       "     'sts': 'मनुष्य जीवन में सब प्रकार के उद्यम करता रहता है परन्तु उससे एक नाम जपने का उद्यम नहीं होता।'}},\n",
       "   'transliteration': {'english': 'aahar sabh karadhaa firai aahar ik na hoi ||',\n",
       "    'hindi': 'आहर सभि करदा फिरै आहरु इकु न होइ ॥',\n",
       "    'en': 'aahar sabh karadhaa firai aahar ik na hoi ||',\n",
       "    'hi': 'आहर सभि करदा फिरै आहरु इकु न होइ ॥',\n",
       "    'ipa': 'əɑhər səɓ kərəd̪ɑ fɪræ əɑhər eɪk nə hɔeɪ.',\n",
       "    'ur': 'آهر سبھ کردا پھرَے آهر اک ن هوا ۔۔'}},\n",
       "  {'verse_id': 41271,\n",
       "   'verse': 'ਨਾਨਕ ਜਿਤੁ ਆਹਰਿ ਜਗੁ ਉਧਰੈ ਵਿਰਲਾ ਬੂਝੈ ਕੋਇ ॥੨॥',\n",
       "   'steek': {'en': {'bdb': 'O Nanak, how rare are those who understand the effort which saves the world. ||2||',\n",
       "     'ms': 'Nanak, rare is the person, who realises the effort, by which the world is saved.',\n",
       "     'ssk': 'O Nanak, how rare are those who understand the effort which saves the world. ||2||'},\n",
       "    'pu': {'ss': {'gurmukhi': 'ijs au~dm dI rwhIN jgq ivkwrW qoN bc skdw hY (aus au~dm ƒ) koeI ivrlw mnu`K smJdw hY [',\n",
       "      'unicode': 'ਜਿਸ ਉੱਦਮ ਦੀ ਰਾਹੀਂ ਜਗਤ ਵਿਕਾਰਾਂ ਤੋਂ ਬਚ ਸਕਦਾ ਹੈ (ਉਸ ਉੱਦਮ ਨੂੰ) ਕੋਈ ਵਿਰਲਾ ਮਨੁੱਖ ਸਮਝਦਾ ਹੈ ।'},\n",
       "     'ft': {'gurmukhi': 'sRI gurU jI kihqy hYN: ijs moK ky swDno rUp audm kr ky jIv jnm mrn qy bc jwvy iqs audm ko koeI ivrlw hI jwnqw hY]2]',\n",
       "      'unicode': 'ਸ੍ਰੀ ਗੁਰੂ ਜੀ ਕਹਿਤੇ ਹੈਂ: ਜਿਸ ਮੋਖ ਕੇ ਸਾਧਨੋ ਰੂਪ ਉਦਮ ਕਰ ਕੇ ਜੀਵ ਜਨਮ ਮਰਨ ਤੇ ਬਚ ਜਾਵੇ ਤਿਸ ਉਦਮ ਕੋ ਕੋਈ ਵਿਰਲਾ ਹੀ ਜਾਨਤਾ ਹੈ॥੨॥'},\n",
       "     'bdb': {'gurmukhi': 'ijs au~dm dI rwhIN jgq ivkwrW qoN bc skdw hY (aus au~dm ƒ) koeI ivrlw mnu`K smJdw hY [',\n",
       "      'unicode': 'ਜਿਸ ਉੱਦਮ ਦੀ ਰਾਹੀਂ ਜਗਤ ਵਿਕਾਰਾਂ ਤੋਂ ਬਚ ਸਕਦਾ ਹੈ (ਉਸ ਉੱਦਮ ਨੂੰ) ਕੋਈ ਵਿਰਲਾ ਮਨੁੱਖ ਸਮਝਦਾ ਹੈ ।'},\n",
       "     'ms': {'gurmukhi': 'nwnk koeI twvW t`lw purS hI aus auprwly ƒ AnuBv krdw hY, ijs duAwrw jgq dw pwr auqwrw huMdw hY[',\n",
       "      'unicode': 'ਨਾਨਕ ਕੋਈ ਟਾਵਾਂ ਟੱਲਾ ਪੁਰਸ਼ ਹੀ ਉਸ ਉਪਰਾਲੇ ਨੂੰ ਅਨੁਭਵ ਕਰਦਾ ਹੈ, ਜਿਸ ਦੁਆਰਾ ਜਗਤ ਦਾ ਪਾਰ ਉਤਾਰਾ ਹੁੰਦਾ ਹੈ।'}},\n",
       "    'es': {'sn': 'Dice Nanak, extraordinario es aquél que concibe a Aquello que nos emancipa.(2)'},\n",
       "    'hi': {'ss': 'जिस उद्यम से जगत विकारों से बच सकता है (उस उद्यम को) कोई विरला मनुष्य ही समझता है।',\n",
       "     'sts': 'हे नानक ! कोई विरला मनुष्य ही इस तथ्य को बूझता है, जिस उद्यम द्वारा समूचे जगत् का उद्धार हो जाता है॥ २॥'}},\n",
       "   'transliteration': {'english': 'naanak jit aahar jag udharai viralaa boojhai koi ||2||',\n",
       "    'hindi': 'नानक जितु आहरि जगु उधरै विरला बूझै कोइ ॥२॥',\n",
       "    'en': 'naanak jit aahar jag udharai viralaa boojhai koi ||2||',\n",
       "    'hi': 'नानक जितु आहरि जगु उधरै विरला बूझै कोइ ॥२॥',\n",
       "    'ipa': 'nɑnək d͡ʒɪt̪ əɑhər d͡ʒəG oʊt̪əræ ʋɪrəlɑ buɖ͡ʐæ kɔeɪ.2.',\n",
       "    'ur': 'نانک جت آهر جگ اُدھرَے ورلا بُوجھَے کوا ۔۔۲۔۔'}}]}"
      ]
     },
     "execution_count": 4,
     "metadata": {},
     "output_type": "execute_result"
    }
   ],
   "source": [
    "shabad"
   ]
  },
  {
   "cell_type": "code",
   "execution_count": 5,
   "id": "45526bee-d7b9-4764-9b5d-e4a831f3c876",
   "metadata": {},
   "outputs": [
    {
     "data": {
      "text/plain": [
       "dict_keys(['shabad_id', 'source_uni', 'source_eng', 'writer', 'ang', 'verses'])"
      ]
     },
     "execution_count": 5,
     "metadata": {},
     "output_type": "execute_result"
    }
   ],
   "source": [
    "shabad.keys()"
   ]
  },
  {
   "cell_type": "code",
   "execution_count": 6,
   "id": "2cbbd271-45df-4d97-a032-443a4591a4cc",
   "metadata": {},
   "outputs": [
    {
     "name": "stdout",
     "output_type": "stream",
     "text": [
      "3570\n"
     ]
    }
   ],
   "source": [
    "print(shabad['shabad_id'])"
   ]
  },
  {
   "cell_type": "code",
   "execution_count": 7,
   "id": "5c083439-171c-4202-9ad8-df55e016d868",
   "metadata": {},
   "outputs": [
    {
     "name": "stdout",
     "output_type": "stream",
     "text": [
      "ਸ੍ਰੀ ਗੁਰੂ ਗ੍ਰੰਥ ਸਾਹਿਬ ਜੀ\n"
     ]
    }
   ],
   "source": [
    "print(shabad['source_uni'])"
   ]
  },
  {
   "cell_type": "code",
   "execution_count": 8,
   "id": "e095d1bc-d0d9-4586-8313-a257c6f97a1c",
   "metadata": {},
   "outputs": [
    {
     "name": "stdout",
     "output_type": "stream",
     "text": [
      "Guru Arjan Dev Ji\n"
     ]
    }
   ],
   "source": [
    "print(shabad['writer'])"
   ]
  },
  {
   "cell_type": "code",
   "execution_count": 9,
   "id": "ea6e64fc-3284-4a30-af4b-ec53128465a5",
   "metadata": {},
   "outputs": [
    {
     "name": "stdout",
     "output_type": "stream",
     "text": [
      "965\n"
     ]
    }
   ],
   "source": [
    "print(shabad['ang'])"
   ]
  },
  {
   "cell_type": "code",
   "execution_count": 10,
   "id": "dc663164-2a98-4f78-bcf2-44c37d8466a3",
   "metadata": {},
   "outputs": [
    {
     "data": {
      "text/plain": [
       "{'verse_id': 41269,\n",
       " 'verse': 'ਮਃ ੫ ॥',\n",
       " 'steek': {'en': {'bdb': 'Fifth Mehla:',\n",
       "   'ms': '5th Guru.',\n",
       "   'ssk': 'Fifth Mehl:'},\n",
       "  'pu': {'ss': {'gurmukhi': None, 'unicode': None},\n",
       "   'ft': {'gurmukhi': '', 'unicode': ''},\n",
       "   'bdb': {'gurmukhi': None, 'unicode': None},\n",
       "   'ms': {'gurmukhi': 'pMjvIN pwqSwhI[', 'unicode': 'ਪੰਜਵੀਂ ਪਾਤਸ਼ਾਹੀ।'}},\n",
       "  'es': {'sn': 'Mejl Guru Aryan, Quinto Canal Divino.'},\n",
       "  'hi': {'ss': '', 'sts': 'महला ५॥'}},\n",
       " 'transliteration': {'english': 'mahalaa panjavaa ||',\n",
       "  'hindi': 'म: ५ ॥',\n",
       "  'en': 'mahalaa panjavaa ||',\n",
       "  'hi': 'म: ५ ॥',\n",
       "  'ipa': 'mahalaa pəŋd͡ʒʋɑ.',\n",
       "  'ur': 'مÚ ۵ ۔۔'}}"
      ]
     },
     "execution_count": 10,
     "metadata": {},
     "output_type": "execute_result"
    }
   ],
   "source": [
    "shabad['verses'][0]"
   ]
  },
  {
   "cell_type": "code",
   "execution_count": 11,
   "id": "6b0a2ca4-6544-4e8b-9c58-4304f8521dc9",
   "metadata": {},
   "outputs": [
    {
     "data": {
      "text/plain": [
       "{'verse_id': 41270,\n",
       " 'verse': 'ਆਹਰ ਸਭਿ ਕਰਦਾ ਫਿਰੈ ਆਹਰੁ ਇਕੁ ਨ ਹੋਇ ॥',\n",
       " 'steek': {'en': {'bdb': 'Making all sorts of efforts, they wander around; but they do not make even one effort.',\n",
       "   'ms': 'Man goes about making all efforts, but he makes not one effort to meet the Lord.',\n",
       "   'ssk': 'Making all sorts of efforts, they wander around; but they do not make even one effort.'},\n",
       "  'pu': {'ss': {'gurmukhi': 'hy nwnk! mnu`K hor swry au~dm krdw iPrdw hY, pr iek pRBU ƒ ismrn dw au~dm nhIN krdw [',\n",
       "    'unicode': 'ਹੇ ਨਾਨਕ! ਮਨੁੱਖ ਹੋਰ ਸਾਰੇ ਉੱਦਮ ਕਰਦਾ ਫਿਰਦਾ ਹੈ, ਪਰ ਇਕ ਪ੍ਰਭੂ ਨੂੰ ਸਿਮਰਨ ਦਾ ਉੱਦਮ ਨਹੀਂ ਕਰਦਾ ।'},\n",
       "   'ft': {'gurmukhi': 'hy BweI! jIv audm qW sB kMmoN vwsqy krqw iPrqw hY, iek prmysr lIey audm nhIN hoqw]',\n",
       "    'unicode': 'ਹੇ ਭਾਈ! ਜੀਵ ਉਦਮ ਤਾਂ ਸਭ ਕੰਮੋਂ ਵਾਸਤੇ ਕਰਤਾ ਫਿਰਤਾ ਹੈ, ਇਕ ਪਰਮੇਸਰ ਲੀਏ ਉਦਮ ਨਹੀਂ ਹੋਤਾ॥'},\n",
       "   'bdb': {'gurmukhi': 'hy nwnk! mnu`K hor swry au~dm krdw iPrdw hY, pr iek pRBU ƒ ismrn dw au~dm nhIN krdw [',\n",
       "    'unicode': 'ਹੇ ਨਾਨਕ! ਮਨੁੱਖ ਹੋਰ ਸਾਰੇ ਉੱਦਮ ਕਰਦਾ ਫਿਰਦਾ ਹੈ, ਪਰ ਇਕ ਪ੍ਰਭੂ ਨੂੰ ਸਿਮਰਨ ਦਾ ਉੱਦਮ ਨਹੀਂ ਕਰਦਾ ।'},\n",
       "   'ms': {'gurmukhi': 'ienswn swry auprwly krdw quirAw iPrdw hY, pRMqU Awpxy suAwmI ƒ imlx dw auh iek auprwlw nhIN krdw[',\n",
       "    'unicode': 'ਇਨਸਾਨ ਸਾਰੇ ਉਪਰਾਲੇ ਕਰਦਾ ਤੁਰਿਆ ਫਿਰਦਾ ਹੈ, ਪ੍ਰੰਤੂ ਆਪਣੇ ਸੁਆਮੀ ਨੂੰ ਮਿਲਣ ਦਾ ਉਹ ਇਕ ਉਪਰਾਲਾ ਨਹੀਂ ਕਰਦਾ।'}},\n",
       "  'es': {'sn': 'Uno hace todo excepto dedicarse a Dios.'},\n",
       "  'hi': {'ss': 'हे नानक ! मनुष्य अन्य सारे उद्यम करता फिरता है। पर एक प्रभू के सिमरन का प्रयास नहीं करता।',\n",
       "   'sts': 'मनुष्य जीवन में सब प्रकार के उद्यम करता रहता है परन्तु उससे एक नाम जपने का उद्यम नहीं होता।'}},\n",
       " 'transliteration': {'english': 'aahar sabh karadhaa firai aahar ik na hoi ||',\n",
       "  'hindi': 'आहर सभि करदा फिरै आहरु इकु न होइ ॥',\n",
       "  'en': 'aahar sabh karadhaa firai aahar ik na hoi ||',\n",
       "  'hi': 'आहर सभि करदा फिरै आहरु इकु न होइ ॥',\n",
       "  'ipa': 'əɑhər səɓ kərəd̪ɑ fɪræ əɑhər eɪk nə hɔeɪ.',\n",
       "  'ur': 'آهر سبھ کردا پھرَے آهر اک ن هوا ۔۔'}}"
      ]
     },
     "execution_count": 11,
     "metadata": {},
     "output_type": "execute_result"
    }
   ],
   "source": [
    "shabad['verses'][1] # starting verse of the shabad"
   ]
  },
  {
   "cell_type": "code",
   "execution_count": 12,
   "id": "0adc0925-bd01-4606-8b9d-7f76bd54074d",
   "metadata": {},
   "outputs": [
    {
     "data": {
      "text/plain": [
       "{'verse_id': 41271,\n",
       " 'verse': 'ਨਾਨਕ ਜਿਤੁ ਆਹਰਿ ਜਗੁ ਉਧਰੈ ਵਿਰਲਾ ਬੂਝੈ ਕੋਇ ॥੨॥',\n",
       " 'steek': {'en': {'bdb': 'O Nanak, how rare are those who understand the effort which saves the world. ||2||',\n",
       "   'ms': 'Nanak, rare is the person, who realises the effort, by which the world is saved.',\n",
       "   'ssk': 'O Nanak, how rare are those who understand the effort which saves the world. ||2||'},\n",
       "  'pu': {'ss': {'gurmukhi': 'ijs au~dm dI rwhIN jgq ivkwrW qoN bc skdw hY (aus au~dm ƒ) koeI ivrlw mnu`K smJdw hY [',\n",
       "    'unicode': 'ਜਿਸ ਉੱਦਮ ਦੀ ਰਾਹੀਂ ਜਗਤ ਵਿਕਾਰਾਂ ਤੋਂ ਬਚ ਸਕਦਾ ਹੈ (ਉਸ ਉੱਦਮ ਨੂੰ) ਕੋਈ ਵਿਰਲਾ ਮਨੁੱਖ ਸਮਝਦਾ ਹੈ ।'},\n",
       "   'ft': {'gurmukhi': 'sRI gurU jI kihqy hYN: ijs moK ky swDno rUp audm kr ky jIv jnm mrn qy bc jwvy iqs audm ko koeI ivrlw hI jwnqw hY]2]',\n",
       "    'unicode': 'ਸ੍ਰੀ ਗੁਰੂ ਜੀ ਕਹਿਤੇ ਹੈਂ: ਜਿਸ ਮੋਖ ਕੇ ਸਾਧਨੋ ਰੂਪ ਉਦਮ ਕਰ ਕੇ ਜੀਵ ਜਨਮ ਮਰਨ ਤੇ ਬਚ ਜਾਵੇ ਤਿਸ ਉਦਮ ਕੋ ਕੋਈ ਵਿਰਲਾ ਹੀ ਜਾਨਤਾ ਹੈ॥੨॥'},\n",
       "   'bdb': {'gurmukhi': 'ijs au~dm dI rwhIN jgq ivkwrW qoN bc skdw hY (aus au~dm ƒ) koeI ivrlw mnu`K smJdw hY [',\n",
       "    'unicode': 'ਜਿਸ ਉੱਦਮ ਦੀ ਰਾਹੀਂ ਜਗਤ ਵਿਕਾਰਾਂ ਤੋਂ ਬਚ ਸਕਦਾ ਹੈ (ਉਸ ਉੱਦਮ ਨੂੰ) ਕੋਈ ਵਿਰਲਾ ਮਨੁੱਖ ਸਮਝਦਾ ਹੈ ।'},\n",
       "   'ms': {'gurmukhi': 'nwnk koeI twvW t`lw purS hI aus auprwly ƒ AnuBv krdw hY, ijs duAwrw jgq dw pwr auqwrw huMdw hY[',\n",
       "    'unicode': 'ਨਾਨਕ ਕੋਈ ਟਾਵਾਂ ਟੱਲਾ ਪੁਰਸ਼ ਹੀ ਉਸ ਉਪਰਾਲੇ ਨੂੰ ਅਨੁਭਵ ਕਰਦਾ ਹੈ, ਜਿਸ ਦੁਆਰਾ ਜਗਤ ਦਾ ਪਾਰ ਉਤਾਰਾ ਹੁੰਦਾ ਹੈ।'}},\n",
       "  'es': {'sn': 'Dice Nanak, extraordinario es aquél que concibe a Aquello que nos emancipa.(2)'},\n",
       "  'hi': {'ss': 'जिस उद्यम से जगत विकारों से बच सकता है (उस उद्यम को) कोई विरला मनुष्य ही समझता है।',\n",
       "   'sts': 'हे नानक ! कोई विरला मनुष्य ही इस तथ्य को बूझता है, जिस उद्यम द्वारा समूचे जगत् का उद्धार हो जाता है॥ २॥'}},\n",
       " 'transliteration': {'english': 'naanak jit aahar jag udharai viralaa boojhai koi ||2||',\n",
       "  'hindi': 'नानक जितु आहरि जगु उधरै विरला बूझै कोइ ॥२॥',\n",
       "  'en': 'naanak jit aahar jag udharai viralaa boojhai koi ||2||',\n",
       "  'hi': 'नानक जितु आहरि जगु उधरै विरला बूझै कोइ ॥२॥',\n",
       "  'ipa': 'nɑnək d͡ʒɪt̪ əɑhər d͡ʒəG oʊt̪əræ ʋɪrəlɑ buɖ͡ʐæ kɔeɪ.2.',\n",
       "  'ur': 'نانک جت آهر جگ اُدھرَے ورلا بُوجھَے کوا ۔۔۲۔۔'}}"
      ]
     },
     "execution_count": 12,
     "metadata": {},
     "output_type": "execute_result"
    }
   ],
   "source": [
    "shabad['verses'][-1] # ending verse of the shabad"
   ]
  },
  {
   "cell_type": "markdown",
   "id": "f5e6e56d-0f6c-41b4-9f01-739dd6e71bc0",
   "metadata": {},
   "source": [
    "**Searching a shabad**"
   ]
  },
  {
   "cell_type": "code",
   "execution_count": 13,
   "id": "d3124a0b-25f3-463c-ad56-f15202dd96f5",
   "metadata": {},
   "outputs": [],
   "source": [
    "gurbani_text = \"ਥਿਰੁ ਘਰਿ ਬੈਸਹੁ ਹਰਿ ਜਨ ਪਿਆਰੇ\" # Thir ghar baiso har jan piaare"
   ]
  },
  {
   "cell_type": "code",
   "execution_count": 14,
   "id": "5b1a4b22-eaf7-469c-a790-3402b6dd0226",
   "metadata": {},
   "outputs": [
    {
     "name": "stdout",
     "output_type": "stream",
     "text": [
      "CPU times: total: 188 ms\n",
      "Wall time: 13.1 s\n"
     ]
    }
   ],
   "source": [
    "%%time\n",
    "# Try searching 10 times across all sources, all angs, all angs, and all writers\n",
    "# The default search options for banidb.search() are:\n",
    "# banidb.search(query, searchtype=1, source='all', larivaar=False,\n",
    "#              ang=None, raag=None, writer='all', page=1, results=None)\n",
    "for i in range(10):\n",
    "    ascii_query = firstLetters(gurbani_text)\n",
    "    shabad_data = banidb.search(ascii_query)"
   ]
  },
  {
   "cell_type": "code",
   "execution_count": 15,
   "id": "c594a811-62f9-44e2-bbf5-f5d71d730b5f",
   "metadata": {},
   "outputs": [
    {
     "name": "stdout",
     "output_type": "stream",
     "text": [
      "ਥਘਬਹਜਪ\n"
     ]
    },
    {
     "data": {
      "text/plain": [
       "{'total_results': 1,\n",
       " 'total_pages': 1,\n",
       " 'pages_data': {'page_1': [{'shabad_id': 628,\n",
       "    'verse': 'ਥਿਰੁ ਘਰਿ ਬੈਸਹੁ ਹਰਿ ਜਨ ਪਿਆਰੇ ॥',\n",
       "    'steek': {'en': 'Remain steady in the home of your own self, O beloved servant of the Lord.',\n",
       "     'pu': 'ਹੇ ਪਿਆਰੇ ਭਗਤ ਜਨੋ! ਆਪਣੇ ਹਿਰਦੇ ਵਿਚ ਇਹ ਪੂਰੀ ਸਰਧਾ ਬਣਾਓ'},\n",
       "    'source': {'pu': 'ਸ੍ਰੀ ਗੁਰੂ ਗ੍ਰੰਥ ਸਾਹਿਬ ਜੀ',\n",
       "     'en': 'Sri Guru Granth Sahib Ji',\n",
       "     'ang': 201,\n",
       "     'raagpu': 'ਰਾਗੁ ਗਉੜੀ',\n",
       "     'raagen': 'Raag Gauree',\n",
       "     'writer': 'Guru Arjan Dev Ji'}}]}}"
      ]
     },
     "execution_count": 15,
     "metadata": {},
     "output_type": "execute_result"
    }
   ],
   "source": [
    "print(ascii_query)\n",
    "shabad_data"
   ]
  },
  {
   "cell_type": "markdown",
   "id": "bae8602b-ec7c-438b-80ff-496e39caa652",
   "metadata": {},
   "source": [
    "Now, let's find a shabad using a restricted search space"
   ]
  },
  {
   "cell_type": "code",
   "execution_count": 16,
   "id": "050be5f9-5565-4251-8676-a61b2a702ec5",
   "metadata": {},
   "outputs": [
    {
     "data": {
      "text/plain": [
       "{'shabad_id': 628,\n",
       " 'verse': 'ਥਿਰੁ ਘਰਿ ਬੈਸਹੁ ਹਰਿ ਜਨ ਪਿਆਰੇ ॥',\n",
       " 'steek': {'en': 'Remain steady in the home of your own self, O beloved servant of the Lord.',\n",
       "  'pu': 'ਹੇ ਪਿਆਰੇ ਭਗਤ ਜਨੋ! ਆਪਣੇ ਹਿਰਦੇ ਵਿਚ ਇਹ ਪੂਰੀ ਸਰਧਾ ਬਣਾਓ'},\n",
       " 'source': {'pu': 'ਸ੍ਰੀ ਗੁਰੂ ਗ੍ਰੰਥ ਸਾਹਿਬ ਜੀ',\n",
       "  'en': 'Sri Guru Granth Sahib Ji',\n",
       "  'ang': 201,\n",
       "  'raagpu': 'ਰਾਗੁ ਗਉੜੀ',\n",
       "  'raagen': 'Raag Gauree',\n",
       "  'writer': 'Guru Arjan Dev Ji'}}"
      ]
     },
     "execution_count": 16,
     "metadata": {},
     "output_type": "execute_result"
    }
   ],
   "source": [
    "shabad_data['pages_data']['page_1'][0]"
   ]
  },
  {
   "cell_type": "markdown",
   "id": "caf54705-5d94-4c35-914a-9c7834db7f21",
   "metadata": {},
   "source": [
    "To restrict search space, the options in banidb.search are:\n",
    "1. source\n",
    "2. ang\n",
    "3. raag\n",
    "4. writer<br>\n",
    "Let's try to extract these from shabad_data"
   ]
  },
  {
   "cell_type": "markdown",
   "id": "f60ed71a-838f-44b9-a6c0-598c232c1fe8",
   "metadata": {},
   "source": [
    "*Source*"
   ]
  },
  {
   "cell_type": "code",
   "execution_count": 17,
   "id": "4fb3b24d-8e2e-4d7c-98c0-16c731c366d4",
   "metadata": {},
   "outputs": [
    {
     "data": {
      "text/plain": [
       "[{'source_id': 'A',\n",
       "  'source_uni': 'ਅੰਮ੍ਰਿਤ ਕੀਰਤਨ',\n",
       "  'source_eng': 'Amrit Keertan'},\n",
       " {'source_id': 'B',\n",
       "  'source_uni': 'ਭਾਈ ਗੁਰਦਾਸ ਜੀ ਵਾਰਾਂ',\n",
       "  'source_eng': 'Bhai Gurdas Ji Vaaran'},\n",
       " {'source_id': 'D', 'source_uni': 'ਦਸਮ ਬਾਣੀ', 'source_eng': 'Dasam Bani'},\n",
       " {'source_id': 'G',\n",
       "  'source_uni': 'ਸ੍ਰੀ ਗੁਰੂ ਗ੍ਰੰਥ ਸਾਹਿਬ ਜੀ',\n",
       "  'source_eng': 'Sri Guru Granth Sahib Ji'},\n",
       " {'source_id': 'N',\n",
       "  'source_uni': 'ਭਾਈ ਨੰਦ ਲਾਲ ਜੀ ਵਾਰਾਂ',\n",
       "  'source_eng': 'Bhai Nand Lal Ji Vaaran'},\n",
       " {'source_id': 'R',\n",
       "  'source_uni': 'ਰਹਿਤਨਾਮੇ ਅਤੇ ਪੰਥਕ ਲਿਖ਼ਤਾਂ',\n",
       "  'source_eng': 'Codes of Conduct and Other Panthic Sources'},\n",
       " {'source_id': 'S',\n",
       "  'source_uni': 'ਭਾਈ ਗੁਰਦਾਸ ਸਿੰਘ ਜੀ ਵਾਰਾਂ',\n",
       "  'source_eng': 'Bhai Gurdas Singh Ji Vaaran'}]"
      ]
     },
     "execution_count": 17,
     "metadata": {},
     "output_type": "execute_result"
    }
   ],
   "source": [
    "banidb.sources()"
   ]
  },
  {
   "cell_type": "markdown",
   "id": "30f61478-6bb6-4a3c-921f-034dc271484b",
   "metadata": {},
   "source": [
    "I think that the search space can be universally restricted to B (I don't know how this is different from S), D, G, N from https://banidbpy.readthedocs.io/en/latest/sources.html but it seems that the search function only allows for a string i.e. a single source instead of multiple ones: https://banidbpy.readthedocs.io/en/latest/searchdb.html"
   ]
  },
  {
   "cell_type": "code",
   "execution_count": 18,
   "id": "2e24cdbc-f7df-405e-8533-cf9512658c4e",
   "metadata": {},
   "outputs": [
    {
     "data": {
      "text/plain": [
       "{'Amrit Keertan': 'A',\n",
       " 'Bhai Gurdas Ji Vaaran': 'B',\n",
       " 'Dasam Bani': 'D',\n",
       " 'Sri Guru Granth Sahib Ji': 'G',\n",
       " 'Bhai Nand Lal Ji Vaaran': 'N',\n",
       " 'Codes of Conduct and Other Panthic Sources': 'R',\n",
       " 'Bhai Gurdas Singh Ji Vaaran': 'S'}"
      ]
     },
     "execution_count": 18,
     "metadata": {},
     "output_type": "execute_result"
    }
   ],
   "source": [
    "# banidb.search() accepts source ID, not the source in english or unicode (https://banidbpy.readthedocs.io/en/latest/sources.html)\n",
    "# Map 'source_eng', which is what we get from banidb.search()'s output back to source ID so that we can use that in subsequent\n",
    "# calls to banidb.search()\n",
    "source_to_id_dict = {}\n",
    "for item in banidb.sources():\n",
    "    source_to_id_dict[item['source_eng']] = item['source_id']\n",
    "source_to_id_dict"
   ]
  },
  {
   "cell_type": "code",
   "execution_count": 19,
   "id": "efa501fc-e24e-4007-b3b2-5e523bfadb1c",
   "metadata": {},
   "outputs": [
    {
     "data": {
      "text/plain": [
       "{'pu': 'ਸ੍ਰੀ ਗੁਰੂ ਗ੍ਰੰਥ ਸਾਹਿਬ ਜੀ',\n",
       " 'en': 'Sri Guru Granth Sahib Ji',\n",
       " 'ang': 201,\n",
       " 'raagpu': 'ਰਾਗੁ ਗਉੜੀ',\n",
       " 'raagen': 'Raag Gauree',\n",
       " 'writer': 'Guru Arjan Dev Ji'}"
      ]
     },
     "execution_count": 19,
     "metadata": {},
     "output_type": "execute_result"
    }
   ],
   "source": [
    "# Extract source for the shabad\n",
    "shabad_data['pages_data']['page_1'][0]['source']"
   ]
  },
  {
   "cell_type": "code",
   "execution_count": 20,
   "id": "e8e5ef26-a447-40a6-9a7a-9bbc44ea6745",
   "metadata": {},
   "outputs": [
    {
     "name": "stdout",
     "output_type": "stream",
     "text": [
      "Sri Guru Granth Sahib Ji\n"
     ]
    },
    {
     "data": {
      "text/plain": [
       "{'total_results': 1,\n",
       " 'total_pages': 1,\n",
       " 'pages_data': {'page_1': [{'shabad_id': 628,\n",
       "    'verse': 'ਥਿਰੁ ਘਰਿ ਬੈਸਹੁ ਹਰਿ ਜਨ ਪਿਆਰੇ ॥',\n",
       "    'steek': {'en': 'Remain steady in the home of your own self, O beloved servant of the Lord.',\n",
       "     'pu': 'ਹੇ ਪਿਆਰੇ ਭਗਤ ਜਨੋ! ਆਪਣੇ ਹਿਰਦੇ ਵਿਚ ਇਹ ਪੂਰੀ ਸਰਧਾ ਬਣਾਓ'},\n",
       "    'source': {'pu': 'ਸ੍ਰੀ ਗੁਰੂ ਗ੍ਰੰਥ ਸਾਹਿਬ ਜੀ',\n",
       "     'en': 'Sri Guru Granth Sahib Ji',\n",
       "     'ang': 201,\n",
       "     'raagpu': 'ਰਾਗੁ ਗਉੜੀ',\n",
       "     'raagen': 'Raag Gauree',\n",
       "     'writer': 'Guru Arjan Dev Ji'}}]}}"
      ]
     },
     "execution_count": 20,
     "metadata": {},
     "output_type": "execute_result"
    }
   ],
   "source": [
    "# Sanity check\n",
    "shabad_source = shabad_data['pages_data']['page_1'][0]['source']['en']\n",
    "print(shabad_source)\n",
    "banidb.search(ascii_query, source = source_to_id_dict.get(shabad_source))"
   ]
  },
  {
   "cell_type": "markdown",
   "id": "3b3009f4-ada3-49de-9c57-7cfb44dcff13",
   "metadata": {},
   "source": [
    "*Ang*"
   ]
  },
  {
   "cell_type": "code",
   "execution_count": 21,
   "id": "9d17ecba-bdbb-4095-9448-bf6df573aa61",
   "metadata": {},
   "outputs": [
    {
     "name": "stdout",
     "output_type": "stream",
     "text": [
      "201\n"
     ]
    },
    {
     "data": {
      "text/plain": [
       "{'total_results': 1,\n",
       " 'total_pages': 1,\n",
       " 'pages_data': {'page_1': [{'shabad_id': 628,\n",
       "    'verse': 'ਥਿਰੁ ਘਰਿ ਬੈਸਹੁ ਹਰਿ ਜਨ ਪਿਆਰੇ ॥',\n",
       "    'steek': {'en': 'Remain steady in the home of your own self, O beloved servant of the Lord.',\n",
       "     'pu': 'ਹੇ ਪਿਆਰੇ ਭਗਤ ਜਨੋ! ਆਪਣੇ ਹਿਰਦੇ ਵਿਚ ਇਹ ਪੂਰੀ ਸਰਧਾ ਬਣਾਓ'},\n",
       "    'source': {'pu': 'ਸ੍ਰੀ ਗੁਰੂ ਗ੍ਰੰਥ ਸਾਹਿਬ ਜੀ',\n",
       "     'en': 'Sri Guru Granth Sahib Ji',\n",
       "     'ang': 201,\n",
       "     'raagpu': 'ਰਾਗੁ ਗਉੜੀ',\n",
       "     'raagen': 'Raag Gauree',\n",
       "     'writer': 'Guru Arjan Dev Ji'}}]}}"
      ]
     },
     "execution_count": 21,
     "metadata": {},
     "output_type": "execute_result"
    }
   ],
   "source": [
    "shabad_ang = shabad_data['pages_data']['page_1'][0]['source']['ang']\n",
    "print(shabad_ang)\n",
    "# Sanity check\n",
    "banidb.search(ascii_query, ang = shabad_ang)"
   ]
  },
  {
   "cell_type": "markdown",
   "id": "8143fa25-b414-4e74-846f-f60a18d95f50",
   "metadata": {},
   "source": [
    "*Raag*"
   ]
  },
  {
   "cell_type": "code",
   "execution_count": 22,
   "id": "64e0996a-5ad1-43fa-b7a8-45bd799ffbb3",
   "metadata": {},
   "outputs": [
    {
     "name": "stdout",
     "output_type": "stream",
     "text": [
      "Successfully retrieved:\n",
      "{'raag_id': 1, 'raag_uni': 'ਜਪ', 'raag_eng': 'Jap'}\n",
      "{'raag_id': 2, 'raag_uni': 'ਸੋ ਦਰ', 'raag_eng': 'So Dar'}\n",
      "{'raag_id': 3, 'raag_uni': 'ਸੋ ਪੁਰਖ', 'raag_eng': 'So Purakh'}\n",
      "{'raag_id': 4, 'raag_uni': 'ਸੋਹਿਲਾ', 'raag_eng': 'Sohila'}\n",
      "{'raag_id': 5, 'raag_uni': 'ਸਿਰੀ ਰਾਗੁ', 'raag_eng': 'Siree Raag'}\n",
      "{'raag_id': 6, 'raag_uni': 'ਰਾਗੁ ਮਾਝ', 'raag_eng': 'Raag Maajh'}\n",
      "{'raag_id': 7, 'raag_uni': 'ਰਾਗੁ ਗਉੜੀ', 'raag_eng': 'Raag Gauree'}\n",
      "{'raag_id': 8, 'raag_uni': 'ਰਾਗੁ ਆਸਾ', 'raag_eng': 'Raag Aasaa'}\n",
      "{'raag_id': 9, 'raag_uni': 'ਰਾਗੁ ਗੂਜਰੀ', 'raag_eng': 'Raag Gujri'}\n",
      "{'raag_id': 10, 'raag_uni': 'ਰਾਗੁ ਦੇਵਗੰਧਾਰੀ', 'raag_eng': 'Raag Dayv Gandhaaree'}\n",
      "{'raag_id': 11, 'raag_uni': 'ਰਾਗੁ ਬਿਹਾਗੜਾ', 'raag_eng': 'Raag Bihaagraa'}\n",
      "{'raag_id': 12, 'raag_uni': 'ਰਾਗੁ ਵਡਹੰਸੁ', 'raag_eng': 'Raag Vadhans'}\n",
      "{'raag_id': 13, 'raag_uni': 'ਰਾਗੁ ਸੋਰਠਿ', 'raag_eng': 'Raag Sorath'}\n",
      "{'raag_id': 14, 'raag_uni': 'ਰਾਗੁ ਧਨਾਸਰੀ', 'raag_eng': 'Raag Dhanaasree'}\n",
      "{'raag_id': 15, 'raag_uni': 'ਰਾਗੁ ਜੈਤਸਰੀ', 'raag_eng': 'Raag Jaithsree'}\n",
      "{'raag_id': 16, 'raag_uni': 'ਰਾਗੁ ਟੋਡੀ', 'raag_eng': 'Raag Todee'}\n",
      "{'raag_id': 17, 'raag_uni': 'ਰਾਗੁ ਬੈਰਾੜੀ', 'raag_eng': 'Raag Baihaaree'}\n",
      "{'raag_id': 18, 'raag_uni': 'ਰਾਗੁ ਤਿਲੰਗ', 'raag_eng': 'Raag Tilang'}\n",
      "{'raag_id': 19, 'raag_uni': 'ਰਾਗੁ ਸੂਹੀ', 'raag_eng': 'Raag Soohee'}\n",
      "{'raag_id': 20, 'raag_uni': 'ਰਾਗੁ ਬਿਲਾਵਲ', 'raag_eng': 'Raag Bilaaval'}\n",
      "{'raag_id': 21, 'raag_uni': 'ਰਾਗੁ ਗੋਂਡ', 'raag_eng': 'Raag Gond'}\n",
      "{'raag_id': 22, 'raag_uni': 'ਰਾਗੁ ਰਾਮਕਲੀ', 'raag_eng': 'Raag Raamkalee'}\n",
      "{'raag_id': 23, 'raag_uni': 'ਰਾਗੁ ਨਟ ਨਾਰਾਇਨ', 'raag_eng': 'Raag Nat Naaraayan'}\n",
      "{'raag_id': 24, 'raag_uni': 'ਰਾਗੁ ਮਾਲੀ ਗਉੜਾ', 'raag_eng': 'Raag Maalee Gauraa'}\n",
      "{'raag_id': 25, 'raag_uni': 'ਰਾਗੁ ਮਾਰੂ', 'raag_eng': 'Raag Maaroo'}\n",
      "{'raag_id': 26, 'raag_uni': 'ਰਾਗੁ ਤੁਖਾਰੀ', 'raag_eng': 'Raag Tukhaari'}\n",
      "{'raag_id': 27, 'raag_uni': 'ਰਾਗੁ ਕੇਦਾਰਾ', 'raag_eng': 'Raag Kaydaaraa'}\n",
      "{'raag_id': 28, 'raag_uni': 'ਰਾਗੁ  ਭੈਰੳ', 'raag_eng': 'Raag Bhairao'}\n",
      "{'raag_id': 29, 'raag_uni': 'ਰਾਗੁ ਬਸੰਤ', 'raag_eng': 'Raag Basant'}\n",
      "{'raag_id': 30, 'raag_uni': 'ਰਾਗੁ ਸਾਰੰਗ', 'raag_eng': 'Raag Saarang'}\n",
      "{'raag_id': 31, 'raag_uni': 'ਰਾਗੁ ਮਲਾਰ', 'raag_eng': 'Raag Malaar'}\n",
      "{'raag_id': 32, 'raag_uni': 'ਰਾਗੁ ਕਾਨੜਾ', 'raag_eng': 'Raag Kaanraa'}\n",
      "{'raag_id': 33, 'raag_uni': 'ਰਾਗੁ ਕਲਿਆਨ', 'raag_eng': 'Raag Kalyaan'}\n",
      "{'raag_id': 34, 'raag_uni': 'ਰਾਗੁ ਪ੍ਰਭਾਤੀ', 'raag_eng': 'Raag Prabhaatee'}\n",
      "{'raag_id': 35, 'raag_uni': 'ਰਾਗੁ ਜੈਜਾਵੰਤੀ', 'raag_eng': 'Raag Jaijaavantee'}\n",
      "{'raag_id': 36, 'raag_uni': 'ਸਲੋਕ ਸਹਸਕ੍ਰਿਤੀ', 'raag_eng': 'Salok Sehskritee'}\n",
      "{'raag_id': 37, 'raag_uni': 'ਮਹਲਾ ੫ ਗਾਥਾ', 'raag_eng': 'Fifth Mehl, Gaathaa'}\n",
      "{'raag_id': 38, 'raag_uni': 'ਫੁਨਹੇ ਮਹਲਾ ੫', 'raag_eng': 'Phunhay Fifth Mehl'}\n",
      "{'raag_id': 39, 'raag_uni': 'ਚਉਬੋਲੇ ਮਹਲਾ ੫', 'raag_eng': 'Chaubolas Fifth Mehl'}\n",
      "{'raag_id': 40, 'raag_uni': 'ਸਲੋਕ ਭਗਤ ਕਬੀਰ ਜੀਉ ਕੇ', 'raag_eng': 'Salok Kabeer Jee'}\n",
      "{'raag_id': 41, 'raag_uni': 'ਸਲੋਕ ਸੇਖ ਫਰੀਦ ਕ', 'raag_eng': 'Salok Fareed Jee'}\n",
      "{'raag_id': 42, 'raag_uni': 'ਸਵਯੇ ਸ੍ਰੀ ਮੁਖ ਬਾਕ ਮਹਲਾ ੫', 'raag_eng': 'Svaiyay Mehl 5'}\n",
      "{'raag_id': 43, 'raag_uni': 'ਸਲੋਕ ਵਾਰਾਂ ਤੇ ਵਧੀਕ', 'raag_eng': 'Salok Vaaraan Thay Vadheek'}\n",
      "{'raag_id': 44, 'raag_uni': 'ਸਲੋਕ ਮਹਲਾ ੯', 'raag_eng': 'Salok Mehl 9'}\n",
      "{'raag_id': 45, 'raag_uni': 'ਮੁੰਦਾਵਣੀ ਮਹਲਾ ੫', 'raag_eng': 'Mundhaavanee Fifth Mehl'}\n",
      "{'raag_id': 46, 'raag_uni': 'ਰਾਗ ਮਾਲਾ', 'raag_eng': 'Raag Maalaa'}\n",
      "{'raag_id': 47, 'raag_uni': 'ਵਾਰ', 'raag_eng': 'Vaaran'}\n",
      "{'raag_id': 48, 'raag_uni': 'ਦਸਮ ਗ੍ਰੰਥ', 'raag_eng': 'Dasam Granth'}\n",
      "{'raag_id': 50, 'raag_uni': '', 'raag_eng': 'Amrit Keertan'}\n"
     ]
    }
   ],
   "source": [
    "try:\n",
    "    raags = banidb.raags() # If this fails, try the one below\n",
    "except:\n",
    "    print(\"banidb.raags() doesn't work. Retrieving raags directly from the API\")\n",
    "    def get_raags_directly():\n",
    "        \"\"\"\n",
    "        Fetches the list of raags directly from the BaniDB API,\n",
    "        bypassing the banidb.raags() function.\n",
    "        \"\"\"\n",
    "        # The API endpoint that the banidb library uses for raags\n",
    "        url = \"https://api.banidb.com/v2/raags\"\n",
    "        \n",
    "        try:\n",
    "            response = requests.get(url)\n",
    "            # Raise an exception if the request returned an error (e.g., 404, 500)\n",
    "            response.raise_for_status()\n",
    "            \n",
    "            # Convert the JSON response to a Python dictionary\n",
    "            data = response.json()\n",
    "            \n",
    "            # The actual raag data is in the 'rows' key, skipping the header row\n",
    "            raags_list = []\n",
    "            for row in data['rows'][1:]:\n",
    "                raag = {\n",
    "                    'raag_id': row.get('RaagID'),\n",
    "                    'raag_uni': row.get('RaagUnicode'),\n",
    "                    'raag_eng': row.get('RaagEnglish')\n",
    "                }\n",
    "                raags_list.append(raag)\n",
    "                \n",
    "            return raags_list\n",
    "    \n",
    "        except requests.exceptions.RequestException as e:\n",
    "            print(f\"A network error occurred: {e}\")\n",
    "            return None\n",
    "        except (KeyError, IndexError) as e:\n",
    "            print(f\"The API response format may have changed. Error: {e}\")\n",
    "            return None\n",
    "\n",
    "        # --- Usage ---\n",
    "    raags = get_raags_directly()\n",
    "        \n",
    "if raags:\n",
    "    print(\"Successfully retrieved:\")\n",
    "    # Print the first 5 raags as an example\n",
    "    for raag in raags:\n",
    "        print(raag)"
   ]
  },
  {
   "cell_type": "code",
   "execution_count": 23,
   "id": "3d97cddb-4e6c-4faf-8770-e5f6d696dc23",
   "metadata": {},
   "outputs": [
    {
     "data": {
      "text/plain": [
       "{'Jap': 1,\n",
       " 'So Dar': 2,\n",
       " 'So Purakh': 3,\n",
       " 'Sohila': 4,\n",
       " 'Siree Raag': 5,\n",
       " 'Raag Maajh': 6,\n",
       " 'Raag Gauree': 7,\n",
       " 'Raag Aasaa': 8,\n",
       " 'Raag Gujri': 9,\n",
       " 'Raag Dayv Gandhaaree': 10,\n",
       " 'Raag Bihaagraa': 11,\n",
       " 'Raag Vadhans': 12,\n",
       " 'Raag Sorath': 13,\n",
       " 'Raag Dhanaasree': 14,\n",
       " 'Raag Jaithsree': 15,\n",
       " 'Raag Todee': 16,\n",
       " 'Raag Baihaaree': 17,\n",
       " 'Raag Tilang': 18,\n",
       " 'Raag Soohee': 19,\n",
       " 'Raag Bilaaval': 20,\n",
       " 'Raag Gond': 21,\n",
       " 'Raag Raamkalee': 22,\n",
       " 'Raag Nat Naaraayan': 23,\n",
       " 'Raag Maalee Gauraa': 24,\n",
       " 'Raag Maaroo': 25,\n",
       " 'Raag Tukhaari': 26,\n",
       " 'Raag Kaydaaraa': 27,\n",
       " 'Raag Bhairao': 28,\n",
       " 'Raag Basant': 29,\n",
       " 'Raag Saarang': 30,\n",
       " 'Raag Malaar': 31,\n",
       " 'Raag Kaanraa': 32,\n",
       " 'Raag Kalyaan': 33,\n",
       " 'Raag Prabhaatee': 34,\n",
       " 'Raag Jaijaavantee': 35,\n",
       " 'Salok Sehskritee': 36,\n",
       " 'Fifth Mehl, Gaathaa': 37,\n",
       " 'Phunhay Fifth Mehl': 38,\n",
       " 'Chaubolas Fifth Mehl': 39,\n",
       " 'Salok Kabeer Jee': 40,\n",
       " 'Salok Fareed Jee': 41,\n",
       " 'Svaiyay Mehl 5': 42,\n",
       " 'Salok Vaaraan Thay Vadheek': 43,\n",
       " 'Salok Mehl 9': 44,\n",
       " 'Mundhaavanee Fifth Mehl': 45,\n",
       " 'Raag Maalaa': 46,\n",
       " 'Vaaran': 47,\n",
       " 'Dasam Granth': 48,\n",
       " 'Amrit Keertan': 50}"
      ]
     },
     "execution_count": 23,
     "metadata": {},
     "output_type": "execute_result"
    }
   ],
   "source": [
    "# banidb.search() accepts source ID, not the source in english or unicode (https://banidbpy.readthedocs.io/en/latest/sources.html)\n",
    "# Map 'raag_eng', which is what we get from banidb.search()'s output back to 'raag_id' so that we can use that in subsequent\n",
    "# calls to banidb.search()\n",
    "raag_to_id_dict = {}\n",
    "for item in raags: # or banidb.raags() if it doesn't fail\n",
    "    raag_to_id_dict[item['raag_eng']] = item['raag_id']\n",
    "raag_to_id_dict"
   ]
  },
  {
   "cell_type": "code",
   "execution_count": 24,
   "id": "2d4b71c7-43e4-43dd-92ca-d558de9978cd",
   "metadata": {},
   "outputs": [
    {
     "name": "stdout",
     "output_type": "stream",
     "text": [
      "Raag Gauree\n"
     ]
    },
    {
     "data": {
      "text/plain": [
       "{'total_results': 1,\n",
       " 'total_pages': 1,\n",
       " 'pages_data': {'page_1': [{'shabad_id': 628,\n",
       "    'verse': 'ਥਿਰੁ ਘਰਿ ਬੈਸਹੁ ਹਰਿ ਜਨ ਪਿਆਰੇ ॥',\n",
       "    'steek': {'en': 'Remain steady in the home of your own self, O beloved servant of the Lord.',\n",
       "     'pu': 'ਹੇ ਪਿਆਰੇ ਭਗਤ ਜਨੋ! ਆਪਣੇ ਹਿਰਦੇ ਵਿਚ ਇਹ ਪੂਰੀ ਸਰਧਾ ਬਣਾਓ'},\n",
       "    'source': {'pu': 'ਸ੍ਰੀ ਗੁਰੂ ਗ੍ਰੰਥ ਸਾਹਿਬ ਜੀ',\n",
       "     'en': 'Sri Guru Granth Sahib Ji',\n",
       "     'ang': 201,\n",
       "     'raagpu': 'ਰਾਗੁ ਗਉੜੀ',\n",
       "     'raagen': 'Raag Gauree',\n",
       "     'writer': 'Guru Arjan Dev Ji'}}]}}"
      ]
     },
     "execution_count": 24,
     "metadata": {},
     "output_type": "execute_result"
    }
   ],
   "source": [
    "shabad_raag = shabad_data['pages_data']['page_1'][0]['source']['raagen']\n",
    "print(shabad_raag)\n",
    "# Sanity check\n",
    "banidb.search(ascii_query, raag = raag_to_id_dict.get(shabad_raag))"
   ]
  },
  {
   "cell_type": "markdown",
   "id": "1c87f152-3f68-4c6a-a4d1-441d2f624a84",
   "metadata": {},
   "source": [
    "*Writer*"
   ]
  },
  {
   "cell_type": "code",
   "execution_count": 25,
   "id": "885e0fc3-f51f-4d3e-813b-289baef0b700",
   "metadata": {},
   "outputs": [
    {
     "data": {
      "text/plain": [
       "[{'writer_id': 1, 'writer_name': 'Guru Nanak Dev Ji'},\n",
       " {'writer_id': 2, 'writer_name': 'Guru Angad Dev Ji'},\n",
       " {'writer_id': 3, 'writer_name': 'Guru Amar Daas Ji'},\n",
       " {'writer_id': 4, 'writer_name': 'Guru Raam Daas Ji'},\n",
       " {'writer_id': 5, 'writer_name': 'Guru Arjan Dev Ji'},\n",
       " {'writer_id': 6, 'writer_name': 'Guru Tegh Bahaadur Ji'},\n",
       " {'writer_id': 7, 'writer_name': 'Bhagat Bheekhan Ji'},\n",
       " {'writer_id': 8, 'writer_name': 'Bhagat Beni Ji'},\n",
       " {'writer_id': 9, 'writer_name': 'Bhagat Dhannaa Ji'},\n",
       " {'writer_id': 10, 'writer_name': 'Bhagat Trilochan Ji'},\n",
       " {'writer_id': 11, 'writer_name': 'Bhagat Jaidev Ji'},\n",
       " {'writer_id': 12, 'writer_name': 'Bhagat Kabeer Ji'},\n",
       " {'writer_id': 13, 'writer_name': 'Bhagat Naam Dev Ji'},\n",
       " {'writer_id': 14, 'writer_name': 'Bhagat Peepaa Ji'},\n",
       " {'writer_id': 15, 'writer_name': 'Bhagat Parmaanand Ji'},\n",
       " {'writer_id': 16, 'writer_name': 'Bhagat Ravi Daas Ji'},\n",
       " {'writer_id': 17, 'writer_name': 'Bhagat Raamaanand Ji'},\n",
       " {'writer_id': 18, 'writer_name': 'Bhagat Surdaas Ji'},\n",
       " {'writer_id': 19, 'writer_name': 'Bhagat Saadhnaa Ji'},\n",
       " {'writer_id': 20, 'writer_name': 'Bhagat Sain Ji'},\n",
       " {'writer_id': 21, 'writer_name': 'Bhagat Sheikh Fareed Ji'},\n",
       " {'writer_id': 22, 'writer_name': 'Bhai Gurdaas Ji'},\n",
       " {'writer_id': 30, 'writer_name': 'Bhatt Bal'},\n",
       " {'writer_id': 31, 'writer_name': 'Bhatt Sathaa & Balvand'},\n",
       " {'writer_id': 32, 'writer_name': 'Bhatt (Baba) Sundar'},\n",
       " {'writer_id': 33, 'writer_name': 'Bhatt Gayandh'},\n",
       " {'writer_id': 34, 'writer_name': 'Bhatt Harbans'},\n",
       " {'writer_id': 35, 'writer_name': 'Bhatt Bhikhaa'},\n",
       " {'writer_id': 37, 'writer_name': 'Bhatt Jal Jaalap'},\n",
       " {'writer_id': 38, 'writer_name': 'Bhatt Keerath '},\n",
       " {'writer_id': 39, 'writer_name': 'Bhatt Kal'},\n",
       " {'writer_id': 40, 'writer_name': 'Bhatt Kall Sahaar'},\n",
       " {'writer_id': 41, 'writer_name': 'Bhatt Kal'},\n",
       " {'writer_id': 42, 'writer_name': 'Bhatt Mathuraa'},\n",
       " {'writer_id': 43, 'writer_name': 'Bhai Mardana'},\n",
       " {'writer_id': 44, 'writer_name': 'Bhatt Nal'},\n",
       " {'writer_id': 45, 'writer_name': 'Bhatt Sal'},\n",
       " {'writer_id': 46, 'writer_name': 'Bhatt Tal'},\n",
       " {'writer_id': 47, 'writer_name': 'Guru Gobind Singh Ji'},\n",
       " {'writer_id': 48, 'writer_name': 'Bhai Nand Lal Ji'},\n",
       " {'writer_id': 49, 'writer_name': 'Bhai Gurdas Singh Ji'},\n",
       " {'writer_id': 50, 'writer_name': 'Bhai Daya Singh Ji'},\n",
       " {'writer_id': 51, 'writer_name': 'Bhai Jeevan Singh Ji (Bhai Jaita Ji)'},\n",
       " {'writer_id': 52, 'writer_name': 'Bhai Prahilad Singh Ji'},\n",
       " {'writer_id': 53, 'writer_name': 'Bhai Desa Singh'},\n",
       " {'writer_id': 54, 'writer_name': 'Giani Gian Singh'}]"
      ]
     },
     "execution_count": 25,
     "metadata": {},
     "output_type": "execute_result"
    }
   ],
   "source": [
    "banidb.writers()"
   ]
  },
  {
   "cell_type": "code",
   "execution_count": 26,
   "id": "04a6ce6e-271a-42c4-8a53-c326f1759443",
   "metadata": {},
   "outputs": [
    {
     "data": {
      "text/plain": [
       "{'Guru Nanak Dev Ji': 1,\n",
       " 'Guru Angad Dev Ji': 2,\n",
       " 'Guru Amar Daas Ji': 3,\n",
       " 'Guru Raam Daas Ji': 4,\n",
       " 'Guru Arjan Dev Ji': 5,\n",
       " 'Guru Tegh Bahaadur Ji': 6,\n",
       " 'Bhagat Bheekhan Ji': 7,\n",
       " 'Bhagat Beni Ji': 8,\n",
       " 'Bhagat Dhannaa Ji': 9,\n",
       " 'Bhagat Trilochan Ji': 10,\n",
       " 'Bhagat Jaidev Ji': 11,\n",
       " 'Bhagat Kabeer Ji': 12,\n",
       " 'Bhagat Naam Dev Ji': 13,\n",
       " 'Bhagat Peepaa Ji': 14,\n",
       " 'Bhagat Parmaanand Ji': 15,\n",
       " 'Bhagat Ravi Daas Ji': 16,\n",
       " 'Bhagat Raamaanand Ji': 17,\n",
       " 'Bhagat Surdaas Ji': 18,\n",
       " 'Bhagat Saadhnaa Ji': 19,\n",
       " 'Bhagat Sain Ji': 20,\n",
       " 'Bhagat Sheikh Fareed Ji': 21,\n",
       " 'Bhai Gurdaas Ji': 22,\n",
       " 'Bhatt Bal': 30,\n",
       " 'Bhatt Sathaa & Balvand': 31,\n",
       " 'Bhatt (Baba) Sundar': 32,\n",
       " 'Bhatt Gayandh': 33,\n",
       " 'Bhatt Harbans': 34,\n",
       " 'Bhatt Bhikhaa': 35,\n",
       " 'Bhatt Jal Jaalap': 37,\n",
       " 'Bhatt Keerath ': 38,\n",
       " 'Bhatt Kal': 41,\n",
       " 'Bhatt Kall Sahaar': 40,\n",
       " 'Bhatt Mathuraa': 42,\n",
       " 'Bhai Mardana': 43,\n",
       " 'Bhatt Nal': 44,\n",
       " 'Bhatt Sal': 45,\n",
       " 'Bhatt Tal': 46,\n",
       " 'Guru Gobind Singh Ji': 47,\n",
       " 'Bhai Nand Lal Ji': 48,\n",
       " 'Bhai Gurdas Singh Ji': 49,\n",
       " 'Bhai Daya Singh Ji': 50,\n",
       " 'Bhai Jeevan Singh Ji (Bhai Jaita Ji)': 51,\n",
       " 'Bhai Prahilad Singh Ji': 52,\n",
       " 'Bhai Desa Singh': 53,\n",
       " 'Giani Gian Singh': 54}"
      ]
     },
     "execution_count": 26,
     "metadata": {},
     "output_type": "execute_result"
    }
   ],
   "source": [
    "# banidb.search() accepts writer ID, not the writer name or unicode (https://banidbpy.readthedocs.io/en/latest/writers.html)\n",
    "# Map 'writer_name', which is what we get from banidb.search()'s output back to 'writer_id' so that we can use that in subsequent\n",
    "# calls to banidb.search()\n",
    "writer_to_id_dict = {}\n",
    "for item in banidb.writers():\n",
    "    writer_to_id_dict[item['writer_name']] = item['writer_id']\n",
    "writer_to_id_dict"
   ]
  },
  {
   "cell_type": "code",
   "execution_count": 27,
   "id": "25004bf4-186d-4d1c-834b-2be228628456",
   "metadata": {},
   "outputs": [
    {
     "name": "stdout",
     "output_type": "stream",
     "text": [
      "Guru Arjan Dev Ji\n"
     ]
    },
    {
     "data": {
      "text/plain": [
       "{'total_results': 1,\n",
       " 'total_pages': 1,\n",
       " 'pages_data': {'page_1': [{'shabad_id': 628,\n",
       "    'verse': 'ਥਿਰੁ ਘਰਿ ਬੈਸਹੁ ਹਰਿ ਜਨ ਪਿਆਰੇ ॥',\n",
       "    'steek': {'en': 'Remain steady in the home of your own self, O beloved servant of the Lord.',\n",
       "     'pu': 'ਹੇ ਪਿਆਰੇ ਭਗਤ ਜਨੋ! ਆਪਣੇ ਹਿਰਦੇ ਵਿਚ ਇਹ ਪੂਰੀ ਸਰਧਾ ਬਣਾਓ'},\n",
       "    'source': {'pu': 'ਸ੍ਰੀ ਗੁਰੂ ਗ੍ਰੰਥ ਸਾਹਿਬ ਜੀ',\n",
       "     'en': 'Sri Guru Granth Sahib Ji',\n",
       "     'ang': 201,\n",
       "     'raagpu': 'ਰਾਗੁ ਗਉੜੀ',\n",
       "     'raagen': 'Raag Gauree',\n",
       "     'writer': 'Guru Arjan Dev Ji'}}]}}"
      ]
     },
     "execution_count": 27,
     "metadata": {},
     "output_type": "execute_result"
    }
   ],
   "source": [
    "shabad_writer = shabad_data['pages_data']['page_1'][0]['source']['writer']\n",
    "print(shabad_writer)\n",
    "# Sanity check\n",
    "banidb.search(ascii_query, writer = writer_to_id_dict.get(shabad_writer))"
   ]
  },
  {
   "cell_type": "markdown",
   "id": "ff5e0a87-a8d6-4307-ad6f-3b48ac58ab10",
   "metadata": {},
   "source": [
    "*Checking speed for restricted space search*"
   ]
  },
  {
   "cell_type": "code",
   "execution_count": 28,
   "id": "fc6ca12e-39bd-41b4-884e-70555aacbb27",
   "metadata": {},
   "outputs": [],
   "source": [
    "shabad_source_id = source_to_id_dict.get(shabad_source)\n",
    "shabad_raag_id   = raag_to_id_dict.get(shabad_raag)\n",
    "shabad_writer_id = writer_to_id_dict.get(shabad_writer)"
   ]
  },
  {
   "cell_type": "code",
   "execution_count": 29,
   "id": "39424021-5720-4c5a-9103-682d47a65e71",
   "metadata": {},
   "outputs": [
    {
     "name": "stdout",
     "output_type": "stream",
     "text": [
      "CPU times: total: 141 ms\n",
      "Wall time: 13.1 s\n"
     ]
    }
   ],
   "source": [
    "%%time\n",
    "for i in range(10):\n",
    "    ascii_query = firstLetters(gurbani_text)\n",
    "    shabad_data = banidb.search(ascii_query, source=shabad_source_id, ang=shabad_ang, raag=shabad_raag_id, writer=shabad_writer_id)"
   ]
  },
  {
   "cell_type": "code",
   "execution_count": 30,
   "id": "a1a6685b-6d3c-4316-826c-3e0e2e2ebf95",
   "metadata": {},
   "outputs": [
    {
     "data": {
      "text/plain": [
       "{'total_results': 1,\n",
       " 'total_pages': 1,\n",
       " 'pages_data': {'page_1': [{'shabad_id': 628,\n",
       "    'verse': 'ਥਿਰੁ ਘਰਿ ਬੈਸਹੁ ਹਰਿ ਜਨ ਪਿਆਰੇ ॥',\n",
       "    'steek': {'en': 'Remain steady in the home of your own self, O beloved servant of the Lord.',\n",
       "     'pu': 'ਹੇ ਪਿਆਰੇ ਭਗਤ ਜਨੋ! ਆਪਣੇ ਹਿਰਦੇ ਵਿਚ ਇਹ ਪੂਰੀ ਸਰਧਾ ਬਣਾਓ'},\n",
       "    'source': {'pu': 'ਸ੍ਰੀ ਗੁਰੂ ਗ੍ਰੰਥ ਸਾਹਿਬ ਜੀ',\n",
       "     'en': 'Sri Guru Granth Sahib Ji',\n",
       "     'ang': 201,\n",
       "     'raagpu': 'ਰਾਗੁ ਗਉੜੀ',\n",
       "     'raagen': 'Raag Gauree',\n",
       "     'writer': 'Guru Arjan Dev Ji'}}]}}"
      ]
     },
     "execution_count": 30,
     "metadata": {},
     "output_type": "execute_result"
    }
   ],
   "source": [
    "banidb.search(ascii_query, source=shabad_source_id, ang=shabad_ang, raag=shabad_raag_id, writer=shabad_writer_id)"
   ]
  },
  {
   "cell_type": "markdown",
   "id": "e0bbc1d2-b97a-402a-8085-5be2b8e09981",
   "metadata": {},
   "source": [
    "Wow. Seems like this didn't help at all. Also, while it is good to see how to improve the tuk/line retrieval time, at the end of the day, we don't even know if we can get ASR correct. If the ASR is incorrect, then the first letters would be incorrect too, and doing a banidb.search() would be futile no matter how optimized it is. Similarly, it is very common for ragis to repeat phrases e.g. \"satgur tumre kaaj savare, kaaj savare, kaaj savare\". This would also cause a banidb.search() to fail. So, a better approach is to take the ASR output and convert that into an embedding that can then be compared against the verses of the shabad. To do so, we first need to get all the verses of the shabad."
   ]
  },
  {
   "cell_type": "markdown",
   "id": "23e64f98-e799-4e5a-945f-b039d0c5db52",
   "metadata": {},
   "source": [
    "**Shabad verses and embeddings**"
   ]
  },
  {
   "cell_type": "markdown",
   "id": "300d4247-a054-48ff-b6d9-39673ea2c378",
   "metadata": {},
   "source": [
    "It is great that we can identify a shabad from across all Sikh scriptures. \n",
    "1. We have also found that restricting the search space in banidb.search() doesn't seem to improve the time required to identify.\n",
    "2. In addition, banidb would require us to have the correct search query to find a shabad. Since we will rely on ASR for getting the text for the gurbani tuk/line, we can't be certain of that. <br>\n",
    "\n",
    "So, we need to find a new method. Here is the proposed approach:\n",
    "1. Identify the shabad by using banidb search via skip-gram approach. That is, take the whole text sequence and split it into multiple parts. Then, pass this into banidb.search(). If the text sequence's first letters using ASR turn out to be \"tgvhjp\" (\"thir ghar baiso har jan piaare\"), where \"baiso\" is incorrectly identified as \"vaiso\", then we can pass multiple queries by splitting - \"tgvhjp\", \"gvhj\", \"tvhj\", \"vhjp\" etc. The return from these queries can be used to identify shabad IDs. The median of these results can be picked as the relevant shabad. We can also store other results in memory in case the search query fails in the future.\n",
    "2. Once the shabad is identified, we will get all its verses using banidb.shabad(). Then, we will no longer use the skip-gram approach for subsequent searches. Instead, we will use the more powerful method of embeddings. We will embed the ASR output as embeddings and compare them to the embeddings of the verses for that shabad. This search space should be quite small and we hope to be able to identify the verse fairly quickly.\n",
    "3. We need to continuously monitor the words being sung and ensure that the verse/tuk identified is same as the previous one. If it changes (with high confidence), we need to switch to giving a new verse as the output."
   ]
  },
  {
   "cell_type": "code",
   "execution_count": 31,
   "id": "115275c0-b857-4f71-9423-c1550b3384c1",
   "metadata": {},
   "outputs": [],
   "source": [
    "import re"
   ]
  },
  {
   "cell_type": "code",
   "execution_count": 32,
   "id": "9c34cb89-4910-4cc3-9fb9-a50f3f92b271",
   "metadata": {},
   "outputs": [],
   "source": [
    "def clean_gurbani_verse(text):\n",
    "    \"\"\"\n",
    "    Removes verse numbers, punctuation, and the word 'Rahaao' from a Gurbani line.\n",
    "    This is needed because in ASR, we will never get these in the output as no raagi\n",
    "    sings these.\n",
    "    \"\"\"\n",
    "    # Remove numbers (both Gurmukhi and Arabic)\n",
    "    text = re.sub(r'[\\u0A66-\\u0A6F0-9]+', '', text)\n",
    "    # Remove the word 'Rahaao' (ਰਹਾਉ)\n",
    "    text = text.replace('ਰਹਾਉ', '')\n",
    "    # Remove Danda (॥), Visarg (ਃ), and other common punctuation\n",
    "    text = re.sub(r'[॥।☬ਃ|]', '', text)\n",
    "    # Remove extra spaces and strip whitespace from ends\n",
    "    text = ' '.join(text.split())\n",
    "    return text"
   ]
  },
  {
   "cell_type": "code",
   "execution_count": 33,
   "id": "e0c23633-a2a8-4ba2-99fb-7e172341d271",
   "metadata": {},
   "outputs": [
    {
     "data": {
      "text/plain": [
       "[('ਗਉੜੀ ਮਹਲਾ', 'ਗਉੜੀ ਮਹਲਾ ੫ ॥'),\n",
       " ('ਥਿਰੁ ਘਰਿ ਬੈਸਹੁ ਹਰਿ ਜਨ ਪਿਆਰੇ', 'ਥਿਰੁ ਘਰਿ ਬੈਸਹੁ ਹਰਿ ਜਨ ਪਿਆਰੇ ॥'),\n",
       " ('ਸਤਿਗੁਰਿ ਤੁਮਰੇ ਕਾਜ ਸਵਾਰੇ', 'ਸਤਿਗੁਰਿ ਤੁਮਰੇ ਕਾਜ ਸਵਾਰੇ ॥੧॥ ਰਹਾਉ ॥'),\n",
       " ('ਦੁਸਟ ਦੂਤ ਪਰਮੇਸਰਿ ਮਾਰੇ', 'ਦੁਸਟ ਦੂਤ ਪਰਮੇਸਰਿ ਮਾਰੇ ॥'),\n",
       " ('ਜਨ ਕੀ ਪੈਜ ਰਖੀ ਕਰਤਾਰੇ', 'ਜਨ ਕੀ ਪੈਜ ਰਖੀ ਕਰਤਾਰੇ ॥੧॥'),\n",
       " ('ਬਾਦਿਸਾਹ ਸਾਹ ਸਭ ਵਸਿ ਕਰਿ ਦੀਨੇ', 'ਬਾਦਿਸਾਹ ਸਾਹ ਸਭ ਵਸਿ ਕਰਿ ਦੀਨੇ ॥'),\n",
       " ('ਅੰਮ੍ਰਿਤ ਨਾਮ ਮਹਾ ਰਸ ਪੀਨੇ', 'ਅੰਮ੍ਰਿਤ ਨਾਮ ਮਹਾ ਰਸ ਪੀਨੇ ॥੨॥'),\n",
       " ('ਨਿਰਭਉ ਹੋਇ ਭਜਹੁ ਭਗਵਾਨ', 'ਨਿਰਭਉ ਹੋਇ ਭਜਹੁ ਭਗਵਾਨ ॥'),\n",
       " ('ਸਾਧਸੰਗਤਿ ਮਿਲਿ ਕੀਨੋ ਦਾਨੁ', 'ਸਾਧਸੰਗਤਿ ਮਿਲਿ ਕੀਨੋ ਦਾਨੁ ॥੩॥'),\n",
       " ('ਸਰਣਿ ਪਰੇ ਪ੍ਰਭ ਅੰਤਰਜਾਮੀ', 'ਸਰਣਿ ਪਰੇ ਪ੍ਰਭ ਅੰਤਰਜਾਮੀ ॥'),\n",
       " ('ਨਾਨਕ ਓਟ ਪਕਰੀ ਪ੍ਰਭ ਸੁਆਮੀ', 'ਨਾਨਕ ਓਟ ਪਕਰੀ ਪ੍ਰਭ ਸੁਆਮੀ ॥੪॥੧੦੮॥')]"
      ]
     },
     "execution_count": 33,
     "metadata": {},
     "output_type": "execute_result"
    }
   ],
   "source": [
    "# Sanity check\n",
    "shabad_id = shabad_data['pages_data']['page_1'][0]['shabad_id']\n",
    "shabad_data2 = banidb.shabad(shabad_id)\n",
    "[(clean_gurbani_verse(item['verse']), item['verse']) for item in shabad_data2['verses']]"
   ]
  },
  {
   "cell_type": "markdown",
   "id": "8c0bb0bd-5419-4a32-8dd2-f6eff484069e",
   "metadata": {},
   "source": [
    "Using sentence-transformers/distiluse-base-multilingual-cased-v2 gives poor results. Same with ai4bharat/indic-bert' but that's because it is not a sentence transformer."
   ]
  },
  {
   "cell_type": "code",
   "execution_count": 34,
   "id": "8c4396ef-677e-4780-bd45-17b2f5781a80",
   "metadata": {},
   "outputs": [],
   "source": [
    "from sentence_transformers import SentenceTransformer, util, models\n",
    "from transformers import AutoTokenizer, AutoModel\n",
    "import torch\n",
    "import torch.nn.functional as F\n",
    "\n",
    "class ShabadMatcher:\n",
    "    def __init__(self, model_name: str, pooling: str = 'cls', use_cls: bool = False):\n",
    "        self.model_name = model_name\n",
    "        self.pooling = pooling\n",
    "        self.use_cls = use_cls\n",
    "\n",
    "        if model_name == \"ai4bharat/indic-bert\":\n",
    "            self.tokenizer = AutoTokenizer.from_pretrained(model_name, use_fast=False)\n",
    "            self.model = AutoModel.from_pretrained(model_name)\n",
    "            self.encode_fn = self._encode_indic_bert\n",
    "\n",
    "        elif model_name == \"bert-base-multilingual-cased\":\n",
    "            word_embedding_model = models.Transformer(model_name, max_seq_length=128)\n",
    "            pooling_model = models.Pooling(\n",
    "                word_embedding_model.get_word_embedding_dimension(),\n",
    "                pooling_mode_mean_tokens=(pooling == 'mean'),\n",
    "                pooling_mode_cls_token=(pooling == 'cls'),\n",
    "                pooling_mode_max_tokens=False\n",
    "            )\n",
    "            self.model = SentenceTransformer(modules=[word_embedding_model, pooling_model])\n",
    "            self.encode_fn = self._encode_sbert\n",
    "\n",
    "        elif model_name in [\n",
    "            \"l3cube-pune/indic-sentence-similarity-sbert\",\n",
    "            \"sentence-transformers/LaBSE\",\n",
    "            \"sentence-transformers/paraphrase-multilingual-MiniLM-L12-v2\"\n",
    "        ]:\n",
    "            self.model = SentenceTransformer(model_name)\n",
    "            self.encode_fn = self._encode_sbert\n",
    "\n",
    "        else:\n",
    "            raise ValueError(f\"Unsupported model: {model_name}\")\n",
    "\n",
    "    def _encode_sbert(self, texts):\n",
    "        return self.model.encode(texts, convert_to_tensor=True)\n",
    "\n",
    "    def _encode_indic_bert(self, texts):\n",
    "        if isinstance(texts, str):\n",
    "            texts = [texts]\n",
    "        inputs = self.tokenizer(texts, padding=True, truncation=True, max_length=128, return_tensors=\"pt\")\n",
    "        with torch.no_grad():\n",
    "            outputs = self.model(**inputs)\n",
    "        if self.use_cls:\n",
    "            embeddings = outputs.last_hidden_state[:, 0]\n",
    "        else:\n",
    "            mask = inputs['attention_mask'].unsqueeze(-1).expand(outputs.last_hidden_state.size())\n",
    "            masked_embeddings = outputs.last_hidden_state * mask\n",
    "            summed = masked_embeddings.sum(dim=1)\n",
    "            counts = mask.sum(dim=1)\n",
    "            embeddings = summed / counts\n",
    "        return F.normalize(embeddings, p=2, dim=1)\n",
    "\n",
    "    def match(self, shabad_data, asr_output_phrase, min_words=3):\n",
    "        if len(asr_output_phrase.strip().split()) < min_words:\n",
    "            print(f\"[Skipping] Phrase too short (min_words={min_words}): '{asr_output_phrase}'\")\n",
    "            return None\n",
    "            \n",
    "        verses = [clean_gurbani_verse(item['verse']) for item in shabad_data['verses']]\n",
    "        shabad_embeddings = self.encode_fn(verses)\n",
    "        asr_embedding = self.encode_fn(asr_output_phrase)\n",
    "\n",
    "        if isinstance(shabad_embeddings, torch.Tensor):\n",
    "            scores = F.cosine_similarity(asr_embedding, shabad_embeddings)\n",
    "            best_idx = scores.argmax()\n",
    "            best_score = scores[best_idx]\n",
    "        else:\n",
    "            scores = util.cos_sim(asr_embedding, shabad_embeddings)\n",
    "            best_idx = scores.argmax()\n",
    "            best_score = scores[0][best_idx]\n",
    "\n",
    "        return {\n",
    "            'best_verse': verses[best_idx],\n",
    "            'score': round(float(best_score), 2),\n",
    "            'index': int(best_idx)\n",
    "        }"
   ]
  },
  {
   "cell_type": "code",
   "execution_count": 35,
   "id": "14144ff4-ea08-4336-abb8-31937be10609",
   "metadata": {},
   "outputs": [],
   "source": [
    "models_to_test = {\n",
    "    \"BBMC\": ShabadMatcher(\"bert-base-multilingual-cased\", pooling=\"cls\"),\n",
    "    \"L3Cube\": ShabadMatcher(\"l3cube-pune/indic-sentence-similarity-sbert\"),\n",
    "    \"LaBSE\": ShabadMatcher(\"sentence-transformers/LaBSE\"),\n",
    "    \"MiniLM\": ShabadMatcher(\"sentence-transformers/paraphrase-multilingual-MiniLM-L12-v2\"),\n",
    "    \"IndicBERT (CLS)\": ShabadMatcher(\"ai4bharat/indic-bert\", use_cls=True),\n",
    "    \"IndicBERT (Mean)\": ShabadMatcher(\"ai4bharat/indic-bert\", use_cls=False)\n",
    "}"
   ]
  },
  {
   "cell_type": "code",
   "execution_count": 36,
   "id": "0f030e34-c188-419c-85cc-994a6a004e86",
   "metadata": {},
   "outputs": [],
   "source": [
    "def test_phrases(asr_phrases, correct_indices):\n",
    "    results_verse =  {key:[] for key in models_to_test.keys()}\n",
    "    results_status =  {key:[] for key in models_to_test.keys()}\n",
    "    results_score =  {key:[] for key in models_to_test.keys()}\n",
    "    assert(len(asr_phrases) == len(correct_indices))\n",
    "    for i, phrase in enumerate(asr_phrases):\n",
    "        print(f\"\\n------For {phrase}------\")\n",
    "        for name, matcher in models_to_test.items():\n",
    "            result = matcher.match(shabad_data2, phrase)\n",
    "            status = False if result is None else int(result['index'] == correct_indices[i])\n",
    "            results_status[name].append(status)\n",
    "            verse = None if result is None else result['best_verse']\n",
    "            results_verse[name].append(verse)\n",
    "            score = None if result is None else result['score']\n",
    "            results_score[name].append(score)\n",
    "            print(f\"{name}: {result}. Correct? {bool(status) if status is not None else status}\")\n",
    "    return results_status, results_verse, results_score"
   ]
  },
  {
   "cell_type": "code",
   "execution_count": 37,
   "id": "99a975c9-8ef3-43b2-9260-cf05bf3b64cf",
   "metadata": {},
   "outputs": [],
   "source": [
    "def plot_similarity_by_status(models_to_test, statuses, scores):\n",
    "    \"\"\"\n",
    "    Creates a 3x2 grid of bar plots showing similarity scores,\n",
    "    grouped and sorted by status, with a clear legend.\n",
    "    \"\"\"\n",
    "    fig, axs = plt.subplots(3, 2, figsize=(15, 13))\n",
    "    axs = axs.flatten()\n",
    "\n",
    "    for i, model in enumerate(models_to_test):\n",
    "        status_list = statuses.get(model, [])\n",
    "        score_list = scores.get(model, [])\n",
    "\n",
    "        # Separate data by status\n",
    "        status_1_data = sorted(\n",
    "            [(score_list[j], f'Inst {j}') for j, s in enumerate(status_list) if s == 1],\n",
    "            key=lambda x: x[0], reverse=True\n",
    "        )\n",
    "        status_0_data = sorted(\n",
    "            [(score_list[j], f'Inst {j}') for j, s in enumerate(status_list) if s == 0],\n",
    "            key=lambda x: x[0], reverse=True\n",
    "        )\n",
    "        \n",
    "        # Unzip sorted data, handling cases where a status might be missing\n",
    "        scores_1, labels_1 = zip(*status_1_data) if status_1_data else ([], [])\n",
    "        scores_0, labels_0 = zip(*status_0_data) if status_0_data else ([], [])\n",
    "\n",
    "        # Combine for plotting\n",
    "        combined_scores = list(scores_1) + list(scores_0)\n",
    "        combined_labels = list(labels_1) + list(labels_0)\n",
    "        combined_colors = ['tab:blue'] * len(scores_1) + ['tab:orange'] * len(scores_0)\n",
    "        \n",
    "        ax = axs[i]\n",
    "        if combined_scores:\n",
    "            ax.bar(range(len(combined_scores)), combined_scores, color=combined_colors)\n",
    "        \n",
    "        ax.set_title(model)\n",
    "        ax.set_xlabel('Instance')\n",
    "        ax.set_ylabel('Similarity Score')\n",
    "        ax.set_ylim(np.min(combined_scores)-0.01, np.max(combined_scores)+0.01)\n",
    "        ax.set_xticks(range(len(combined_labels)))\n",
    "        ax.set_xticklabels(combined_labels, rotation=45, ha='right')\n",
    "\n",
    "    # Create legend handles and add them to the figure just once\n",
    "    legend_patch_1 = mpatches.Patch(color='tab:blue', label='Correct verse')\n",
    "    legend_patch_0 = mpatches.Patch(color='tab:orange', label='Incorrect verse')\n",
    "    fig.legend(handles=[legend_patch_1, legend_patch_0], loc='upper right')\n",
    "\n",
    "    plt.tight_layout(rect=[0, 0, 1, 0.98]) # Adjust layout to make space for the legend\n",
    "    plt.show()"
   ]
  },
  {
   "cell_type": "code",
   "execution_count": 38,
   "id": "b60754de-da4f-4cc0-9175-334d95c2f913",
   "metadata": {},
   "outputs": [
    {
     "name": "stdout",
     "output_type": "stream",
     "text": [
      "\n",
      "------For ਦੁਸਟ------\n",
      "[Skipping] Phrase too short (min_words=3): 'ਦੁਸਟ'\n",
      "BBMC: None. Correct? False\n",
      "[Skipping] Phrase too short (min_words=3): 'ਦੁਸਟ'\n",
      "L3Cube: None. Correct? False\n",
      "[Skipping] Phrase too short (min_words=3): 'ਦੁਸਟ'\n",
      "LaBSE: None. Correct? False\n",
      "[Skipping] Phrase too short (min_words=3): 'ਦੁਸਟ'\n",
      "MiniLM: None. Correct? False\n",
      "[Skipping] Phrase too short (min_words=3): 'ਦੁਸਟ'\n",
      "IndicBERT (CLS): None. Correct? False\n",
      "[Skipping] Phrase too short (min_words=3): 'ਦੁਸਟ'\n",
      "IndicBERT (Mean): None. Correct? False\n",
      "\n",
      "------For ਦੁਸ਼ਟ------\n",
      "[Skipping] Phrase too short (min_words=3): 'ਦੁਸ਼ਟ'\n",
      "BBMC: None. Correct? False\n",
      "[Skipping] Phrase too short (min_words=3): 'ਦੁਸ਼ਟ'\n",
      "L3Cube: None. Correct? False\n",
      "[Skipping] Phrase too short (min_words=3): 'ਦੁਸ਼ਟ'\n",
      "LaBSE: None. Correct? False\n",
      "[Skipping] Phrase too short (min_words=3): 'ਦੁਸ਼ਟ'\n",
      "MiniLM: None. Correct? False\n",
      "[Skipping] Phrase too short (min_words=3): 'ਦੁਸ਼ਟ'\n",
      "IndicBERT (CLS): None. Correct? False\n",
      "[Skipping] Phrase too short (min_words=3): 'ਦੁਸ਼ਟ'\n",
      "IndicBERT (Mean): None. Correct? False\n",
      "\n",
      "------For ਦੁਸਟ ਦੂਤ------\n",
      "[Skipping] Phrase too short (min_words=3): 'ਦੁਸਟ ਦੂਤ'\n",
      "BBMC: None. Correct? False\n",
      "[Skipping] Phrase too short (min_words=3): 'ਦੁਸਟ ਦੂਤ'\n",
      "L3Cube: None. Correct? False\n",
      "[Skipping] Phrase too short (min_words=3): 'ਦੁਸਟ ਦੂਤ'\n",
      "LaBSE: None. Correct? False\n",
      "[Skipping] Phrase too short (min_words=3): 'ਦੁਸਟ ਦੂਤ'\n",
      "MiniLM: None. Correct? False\n",
      "[Skipping] Phrase too short (min_words=3): 'ਦੁਸਟ ਦੂਤ'\n",
      "IndicBERT (CLS): None. Correct? False\n",
      "[Skipping] Phrase too short (min_words=3): 'ਦੁਸਟ ਦੂਤ'\n",
      "IndicBERT (Mean): None. Correct? False\n",
      "\n",
      "------For ਕਰ ਦੀਨੇ------\n",
      "[Skipping] Phrase too short (min_words=3): 'ਕਰ ਦੀਨੇ'\n",
      "BBMC: None. Correct? False\n",
      "[Skipping] Phrase too short (min_words=3): 'ਕਰ ਦੀਨੇ'\n",
      "L3Cube: None. Correct? False\n",
      "[Skipping] Phrase too short (min_words=3): 'ਕਰ ਦੀਨੇ'\n",
      "LaBSE: None. Correct? False\n",
      "[Skipping] Phrase too short (min_words=3): 'ਕਰ ਦੀਨੇ'\n",
      "MiniLM: None. Correct? False\n",
      "[Skipping] Phrase too short (min_words=3): 'ਕਰ ਦੀਨੇ'\n",
      "IndicBERT (CLS): None. Correct? False\n",
      "[Skipping] Phrase too short (min_words=3): 'ਕਰ ਦੀਨੇ'\n",
      "IndicBERT (Mean): None. Correct? False\n",
      "\n",
      "------For ਕਰਤਾਰੇ------\n",
      "[Skipping] Phrase too short (min_words=3): 'ਕਰਤਾਰੇ'\n",
      "BBMC: None. Correct? False\n",
      "[Skipping] Phrase too short (min_words=3): 'ਕਰਤਾਰੇ'\n",
      "L3Cube: None. Correct? False\n",
      "[Skipping] Phrase too short (min_words=3): 'ਕਰਤਾਰੇ'\n",
      "LaBSE: None. Correct? False\n",
      "[Skipping] Phrase too short (min_words=3): 'ਕਰਤਾਰੇ'\n",
      "MiniLM: None. Correct? False\n",
      "[Skipping] Phrase too short (min_words=3): 'ਕਰਤਾਰੇ'\n",
      "IndicBERT (CLS): None. Correct? False\n",
      "[Skipping] Phrase too short (min_words=3): 'ਕਰਤਾਰੇ'\n",
      "IndicBERT (Mean): None. Correct? False\n",
      "\n",
      "------For ਕੀਨੋ ਦਾਨ------\n",
      "[Skipping] Phrase too short (min_words=3): 'ਕੀਨੋ ਦਾਨ'\n",
      "BBMC: None. Correct? False\n",
      "[Skipping] Phrase too short (min_words=3): 'ਕੀਨੋ ਦਾਨ'\n",
      "L3Cube: None. Correct? False\n",
      "[Skipping] Phrase too short (min_words=3): 'ਕੀਨੋ ਦਾਨ'\n",
      "LaBSE: None. Correct? False\n",
      "[Skipping] Phrase too short (min_words=3): 'ਕੀਨੋ ਦਾਨ'\n",
      "MiniLM: None. Correct? False\n",
      "[Skipping] Phrase too short (min_words=3): 'ਕੀਨੋ ਦਾਨ'\n",
      "IndicBERT (CLS): None. Correct? False\n",
      "[Skipping] Phrase too short (min_words=3): 'ਕੀਨੋ ਦਾਨ'\n",
      "IndicBERT (Mean): None. Correct? False\n",
      "\n",
      "------For ਦਾਨ------\n",
      "[Skipping] Phrase too short (min_words=3): 'ਦਾਨ'\n",
      "BBMC: None. Correct? False\n",
      "[Skipping] Phrase too short (min_words=3): 'ਦਾਨ'\n",
      "L3Cube: None. Correct? False\n",
      "[Skipping] Phrase too short (min_words=3): 'ਦਾਨ'\n",
      "LaBSE: None. Correct? False\n",
      "[Skipping] Phrase too short (min_words=3): 'ਦਾਨ'\n",
      "MiniLM: None. Correct? False\n",
      "[Skipping] Phrase too short (min_words=3): 'ਦਾਨ'\n",
      "IndicBERT (CLS): None. Correct? False\n",
      "[Skipping] Phrase too short (min_words=3): 'ਦਾਨ'\n",
      "IndicBERT (Mean): None. Correct? False\n",
      "\n",
      "------For ਨਿਰਭੌ------\n",
      "[Skipping] Phrase too short (min_words=3): 'ਨਿਰਭੌ'\n",
      "BBMC: None. Correct? False\n",
      "[Skipping] Phrase too short (min_words=3): 'ਨਿਰਭੌ'\n",
      "L3Cube: None. Correct? False\n",
      "[Skipping] Phrase too short (min_words=3): 'ਨਿਰਭੌ'\n",
      "LaBSE: None. Correct? False\n",
      "[Skipping] Phrase too short (min_words=3): 'ਨਿਰਭੌ'\n",
      "MiniLM: None. Correct? False\n",
      "[Skipping] Phrase too short (min_words=3): 'ਨਿਰਭੌ'\n",
      "IndicBERT (CLS): None. Correct? False\n",
      "[Skipping] Phrase too short (min_words=3): 'ਨਿਰਭੌ'\n",
      "IndicBERT (Mean): None. Correct? False\n",
      "\n",
      "------For ਸਾਧ ਸੰਗ------\n",
      "[Skipping] Phrase too short (min_words=3): 'ਸਾਧ ਸੰਗ'\n",
      "BBMC: None. Correct? False\n",
      "[Skipping] Phrase too short (min_words=3): 'ਸਾਧ ਸੰਗ'\n",
      "L3Cube: None. Correct? False\n",
      "[Skipping] Phrase too short (min_words=3): 'ਸਾਧ ਸੰਗ'\n",
      "LaBSE: None. Correct? False\n",
      "[Skipping] Phrase too short (min_words=3): 'ਸਾਧ ਸੰਗ'\n",
      "MiniLM: None. Correct? False\n",
      "[Skipping] Phrase too short (min_words=3): 'ਸਾਧ ਸੰਗ'\n",
      "IndicBERT (CLS): None. Correct? False\n",
      "[Skipping] Phrase too short (min_words=3): 'ਸਾਧ ਸੰਗ'\n",
      "IndicBERT (Mean): None. Correct? False\n",
      "\n",
      "------For ਸਾਧ------\n",
      "[Skipping] Phrase too short (min_words=3): 'ਸਾਧ'\n",
      "BBMC: None. Correct? False\n",
      "[Skipping] Phrase too short (min_words=3): 'ਸਾਧ'\n",
      "L3Cube: None. Correct? False\n",
      "[Skipping] Phrase too short (min_words=3): 'ਸਾਧ'\n",
      "LaBSE: None. Correct? False\n",
      "[Skipping] Phrase too short (min_words=3): 'ਸਾਧ'\n",
      "MiniLM: None. Correct? False\n",
      "[Skipping] Phrase too short (min_words=3): 'ਸਾਧ'\n",
      "IndicBERT (CLS): None. Correct? False\n",
      "[Skipping] Phrase too short (min_words=3): 'ਸਾਧ'\n",
      "IndicBERT (Mean): None. Correct? False\n",
      "\n",
      "------For ਅੰਤਰ------\n",
      "[Skipping] Phrase too short (min_words=3): 'ਅੰਤਰ'\n",
      "BBMC: None. Correct? False\n",
      "[Skipping] Phrase too short (min_words=3): 'ਅੰਤਰ'\n",
      "L3Cube: None. Correct? False\n",
      "[Skipping] Phrase too short (min_words=3): 'ਅੰਤਰ'\n",
      "LaBSE: None. Correct? False\n",
      "[Skipping] Phrase too short (min_words=3): 'ਅੰਤਰ'\n",
      "MiniLM: None. Correct? False\n",
      "[Skipping] Phrase too short (min_words=3): 'ਅੰਤਰ'\n",
      "IndicBERT (CLS): None. Correct? False\n",
      "[Skipping] Phrase too short (min_words=3): 'ਅੰਤਰ'\n",
      "IndicBERT (Mean): None. Correct? False\n",
      "\n",
      "------For ਜਾਮੀ------\n",
      "[Skipping] Phrase too short (min_words=3): 'ਜਾਮੀ'\n",
      "BBMC: None. Correct? False\n",
      "[Skipping] Phrase too short (min_words=3): 'ਜਾਮੀ'\n",
      "L3Cube: None. Correct? False\n",
      "[Skipping] Phrase too short (min_words=3): 'ਜਾਮੀ'\n",
      "LaBSE: None. Correct? False\n",
      "[Skipping] Phrase too short (min_words=3): 'ਜਾਮੀ'\n",
      "MiniLM: None. Correct? False\n",
      "[Skipping] Phrase too short (min_words=3): 'ਜਾਮੀ'\n",
      "IndicBERT (CLS): None. Correct? False\n",
      "[Skipping] Phrase too short (min_words=3): 'ਜਾਮੀ'\n",
      "IndicBERT (Mean): None. Correct? False\n",
      "\n",
      "------For ਪਕੜੀ ਪ੍ਰਭ------\n",
      "[Skipping] Phrase too short (min_words=3): 'ਪਕੜੀ ਪ੍ਰਭ'\n",
      "BBMC: None. Correct? False\n",
      "[Skipping] Phrase too short (min_words=3): 'ਪਕੜੀ ਪ੍ਰਭ'\n",
      "L3Cube: None. Correct? False\n",
      "[Skipping] Phrase too short (min_words=3): 'ਪਕੜੀ ਪ੍ਰਭ'\n",
      "LaBSE: None. Correct? False\n",
      "[Skipping] Phrase too short (min_words=3): 'ਪਕੜੀ ਪ੍ਰਭ'\n",
      "MiniLM: None. Correct? False\n",
      "[Skipping] Phrase too short (min_words=3): 'ਪਕੜੀ ਪ੍ਰਭ'\n",
      "IndicBERT (CLS): None. Correct? False\n",
      "[Skipping] Phrase too short (min_words=3): 'ਪਕੜੀ ਪ੍ਰਭ'\n",
      "IndicBERT (Mean): None. Correct? False\n"
     ]
    }
   ],
   "source": [
    "short_asr_phrases = [\n",
    "    'ਦੁਸਟ', 'ਦੁਸ਼ਟ', 'ਦੁਸਟ ਦੂਤ', 'ਕਰ ਦੀਨੇ', 'ਕਰਤਾਰੇ', 'ਕੀਨੋ ਦਾਨ',\n",
    "    'ਦਾਨ', 'ਨਿਰਭੌ', 'ਸਾਧ ਸੰਗ', 'ਸਾਧ', 'ਅੰਤਰ', 'ਜਾਮੀ', 'ਪਕੜੀ ਪ੍ਰਭ'\n",
    "]\n",
    "short_asr_correct = [3, 3, 3, 5, 4, 8,\n",
    "                     8, 7, 8, 8, 9, 9, 10]\n",
    "statuses, verses, scores = test_phrases(short_asr_phrases, short_asr_correct)"
   ]
  },
  {
   "cell_type": "code",
   "execution_count": 39,
   "id": "4af4d8d2-4501-44ea-a753-31f640d90e51",
   "metadata": {},
   "outputs": [
    {
     "name": "stdout",
     "output_type": "stream",
     "text": [
      "\n",
      "------For ਸਤਗੁਰ ਤੁਮਰੇ ਕਾਜ------\n",
      "BBMC: {'best_verse': 'ਸਤਿਗੁਰਿ ਤੁਮਰੇ ਕਾਜ ਸਵਾਰੇ', 'score': 0.98, 'index': 2}. Correct? True\n",
      "L3Cube: {'best_verse': 'ਸਤਿਗੁਰਿ ਤੁਮਰੇ ਕਾਜ ਸਵਾਰੇ', 'score': 0.86, 'index': 2}. Correct? True\n",
      "LaBSE: {'best_verse': 'ਸਤਿਗੁਰਿ ਤੁਮਰੇ ਕਾਜ ਸਵਾਰੇ', 'score': 0.76, 'index': 2}. Correct? True\n",
      "MiniLM: {'best_verse': 'ਨਿਰਭਉ ਹੋਇ ਭਜਹੁ ਭਗਵਾਨ', 'score': 0.95, 'index': 7}. Correct? False\n",
      "IndicBERT (CLS): {'best_verse': 'ਸਤਿਗੁਰਿ ਤੁਮਰੇ ਕਾਜ ਸਵਾਰੇ', 'score': 1.0, 'index': 2}. Correct? True\n",
      "IndicBERT (Mean): {'best_verse': 'ਨਿਰਭਉ ਹੋਇ ਭਜਹੁ ਭਗਵਾਨ', 'score': 0.82, 'index': 7}. Correct? False\n",
      "\n",
      "------For ਤੁਮਰੇ ਕਾਜ ਸਵਾਰੇ------\n",
      "BBMC: {'best_verse': 'ਸਤਿਗੁਰਿ ਤੁਮਰੇ ਕਾਜ ਸਵਾਰੇ', 'score': 0.98, 'index': 2}. Correct? True\n",
      "L3Cube: {'best_verse': 'ਸਤਿਗੁਰਿ ਤੁਮਰੇ ਕਾਜ ਸਵਾਰੇ', 'score': 0.78, 'index': 2}. Correct? True\n",
      "LaBSE: {'best_verse': 'ਸਤਿਗੁਰਿ ਤੁਮਰੇ ਕਾਜ ਸਵਾਰੇ', 'score': 0.62, 'index': 2}. Correct? True\n",
      "MiniLM: {'best_verse': 'ਸਤਿਗੁਰਿ ਤੁਮਰੇ ਕਾਜ ਸਵਾਰੇ', 'score': 0.88, 'index': 2}. Correct? True\n",
      "IndicBERT (CLS): {'best_verse': 'ਸਤਿਗੁਰਿ ਤੁਮਰੇ ਕਾਜ ਸਵਾਰੇ', 'score': 1.0, 'index': 2}. Correct? True\n",
      "IndicBERT (Mean): {'best_verse': 'ਸਤਿਗੁਰਿ ਤੁਮਰੇ ਕਾਜ ਸਵਾਰੇ', 'score': 0.88, 'index': 2}. Correct? True\n",
      "\n",
      "------For ਦੁਸ਼ਟ ਦੂਤ ਪਰਮੇਸਰ------\n",
      "BBMC: {'best_verse': 'ਦੁਸਟ ਦੂਤ ਪਰਮੇਸਰਿ ਮਾਰੇ', 'score': 0.97, 'index': 3}. Correct? True\n",
      "L3Cube: {'best_verse': 'ਦੁਸਟ ਦੂਤ ਪਰਮੇਸਰਿ ਮਾਰੇ', 'score': 0.85, 'index': 3}. Correct? True\n",
      "LaBSE: {'best_verse': 'ਦੁਸਟ ਦੂਤ ਪਰਮੇਸਰਿ ਮਾਰੇ', 'score': 0.78, 'index': 3}. Correct? True\n",
      "MiniLM: {'best_verse': 'ਗਉੜੀ ਮਹਲਾ', 'score': 0.87, 'index': 0}. Correct? False\n",
      "IndicBERT (CLS): {'best_verse': 'ਅੰਮ੍ਰਿਤ ਨਾਮ ਮਹਾ ਰਸ ਪੀਨੇ', 'score': 1.0, 'index': 6}. Correct? False\n",
      "IndicBERT (Mean): {'best_verse': 'ਦੁਸਟ ਦੂਤ ਪਰਮੇਸਰਿ ਮਾਰੇ', 'score': 0.79, 'index': 3}. Correct? True\n",
      "\n",
      "------For ਦੂਤ ਪਰਮੇਸਰ ਮਾਰੇ------\n",
      "BBMC: {'best_verse': 'ਦੁਸਟ ਦੂਤ ਪਰਮੇਸਰਿ ਮਾਰੇ', 'score': 0.98, 'index': 3}. Correct? True\n",
      "L3Cube: {'best_verse': 'ਦੁਸਟ ਦੂਤ ਪਰਮੇਸਰਿ ਮਾਰੇ', 'score': 0.95, 'index': 3}. Correct? True\n",
      "LaBSE: {'best_verse': 'ਦੁਸਟ ਦੂਤ ਪਰਮੇਸਰਿ ਮਾਰੇ', 'score': 0.94, 'index': 3}. Correct? True\n",
      "MiniLM: {'best_verse': 'ਗਉੜੀ ਮਹਲਾ', 'score': 0.85, 'index': 0}. Correct? False\n",
      "IndicBERT (CLS): {'best_verse': 'ਸਤਿਗੁਰਿ ਤੁਮਰੇ ਕਾਜ ਸਵਾਰੇ', 'score': 1.0, 'index': 2}. Correct? False\n",
      "IndicBERT (Mean): {'best_verse': 'ਦੁਸਟ ਦੂਤ ਪਰਮੇਸਰਿ ਮਾਰੇ', 'score': 0.7, 'index': 3}. Correct? True\n",
      "\n",
      "------For ਜਨ ਕੀ ਪੈਜ------\n",
      "BBMC: {'best_verse': 'ਜਨ ਕੀ ਪੈਜ ਰਖੀ ਕਰਤਾਰੇ', 'score': 0.96, 'index': 4}. Correct? True\n",
      "L3Cube: {'best_verse': 'ਜਨ ਕੀ ਪੈਜ ਰਖੀ ਕਰਤਾਰੇ', 'score': 0.87, 'index': 4}. Correct? True\n",
      "LaBSE: {'best_verse': 'ਜਨ ਕੀ ਪੈਜ ਰਖੀ ਕਰਤਾਰੇ', 'score': 0.77, 'index': 4}. Correct? True\n",
      "MiniLM: {'best_verse': 'ਗਉੜੀ ਮਹਲਾ', 'score': 0.85, 'index': 0}. Correct? False\n",
      "IndicBERT (CLS): {'best_verse': 'ਸਤਿਗੁਰਿ ਤੁਮਰੇ ਕਾਜ ਸਵਾਰੇ', 'score': 1.0, 'index': 2}. Correct? False\n",
      "IndicBERT (Mean): {'best_verse': 'ਜਨ ਕੀ ਪੈਜ ਰਖੀ ਕਰਤਾਰੇ', 'score': 0.79, 'index': 4}. Correct? True\n",
      "\n",
      "------For ਕੀ ਪੈਜ ਰਖੀ------\n",
      "BBMC: {'best_verse': 'ਜਨ ਕੀ ਪੈਜ ਰਖੀ ਕਰਤਾਰੇ', 'score': 0.97, 'index': 4}. Correct? True\n",
      "L3Cube: {'best_verse': 'ਜਨ ਕੀ ਪੈਜ ਰਖੀ ਕਰਤਾਰੇ', 'score': 0.82, 'index': 4}. Correct? True\n",
      "LaBSE: {'best_verse': 'ਜਨ ਕੀ ਪੈਜ ਰਖੀ ਕਰਤਾਰੇ', 'score': 0.64, 'index': 4}. Correct? True\n",
      "MiniLM: {'best_verse': 'ਗਉੜੀ ਮਹਲਾ', 'score': 0.84, 'index': 0}. Correct? False\n",
      "IndicBERT (CLS): {'best_verse': 'ਸਤਿਗੁਰਿ ਤੁਮਰੇ ਕਾਜ ਸਵਾਰੇ', 'score': 1.0, 'index': 2}. Correct? False\n",
      "IndicBERT (Mean): {'best_verse': 'ਜਨ ਕੀ ਪੈਜ ਰਖੀ ਕਰਤਾਰੇ', 'score': 0.8, 'index': 4}. Correct? True\n",
      "\n",
      "------For ਪੈਜ ਰਖੀ ਕਰਤਾਰੇ------\n",
      "BBMC: {'best_verse': 'ਜਨ ਕੀ ਪੈਜ ਰਖੀ ਕਰਤਾਰੇ', 'score': 0.98, 'index': 4}. Correct? True\n",
      "L3Cube: {'best_verse': 'ਜਨ ਕੀ ਪੈਜ ਰਖੀ ਕਰਤਾਰੇ', 'score': 0.69, 'index': 4}. Correct? True\n",
      "LaBSE: {'best_verse': 'ਜਨ ਕੀ ਪੈਜ ਰਖੀ ਕਰਤਾਰੇ', 'score': 0.65, 'index': 4}. Correct? True\n",
      "MiniLM: {'best_verse': 'ਜਨ ਕੀ ਪੈਜ ਰਖੀ ਕਰਤਾਰੇ', 'score': 0.89, 'index': 4}. Correct? True\n",
      "IndicBERT (CLS): {'best_verse': 'ਜਨ ਕੀ ਪੈਜ ਰਖੀ ਕਰਤਾਰੇ', 'score': 1.0, 'index': 4}. Correct? True\n",
      "IndicBERT (Mean): {'best_verse': 'ਜਨ ਕੀ ਪੈਜ ਰਖੀ ਕਰਤਾਰੇ', 'score': 0.92, 'index': 4}. Correct? True\n",
      "\n",
      "------For ਨਿਰਭੌ ਹੋ ਭਜੋ------\n",
      "BBMC: {'best_verse': 'ਨਿਰਭਉ ਹੋਇ ਭਜਹੁ ਭਗਵਾਨ', 'score': 0.97, 'index': 7}. Correct? True\n",
      "L3Cube: {'best_verse': 'ਨਿਰਭਉ ਹੋਇ ਭਜਹੁ ਭਗਵਾਨ', 'score': 0.71, 'index': 7}. Correct? True\n",
      "LaBSE: {'best_verse': 'ਨਿਰਭਉ ਹੋਇ ਭਜਹੁ ਭਗਵਾਨ', 'score': 0.62, 'index': 7}. Correct? True\n",
      "MiniLM: {'best_verse': 'ਸਾਧਸੰਗਤਿ ਮਿਲਿ ਕੀਨੋ ਦਾਨੁ', 'score': 0.94, 'index': 8}. Correct? False\n",
      "IndicBERT (CLS): {'best_verse': 'ਸਤਿਗੁਰਿ ਤੁਮਰੇ ਕਾਜ ਸਵਾਰੇ', 'score': 1.0, 'index': 2}. Correct? False\n",
      "IndicBERT (Mean): {'best_verse': 'ਸਤਿਗੁਰਿ ਤੁਮਰੇ ਕਾਜ ਸਵਾਰੇ', 'score': 0.79, 'index': 2}. Correct? False\n",
      "\n",
      "------For ਹੋ ਭਜੋ ਭਗਵਾਨ------\n",
      "BBMC: {'best_verse': 'ਨਿਰਭਉ ਹੋਇ ਭਜਹੁ ਭਗਵਾਨ', 'score': 0.98, 'index': 7}. Correct? True\n",
      "L3Cube: {'best_verse': 'ਨਿਰਭਉ ਹੋਇ ਭਜਹੁ ਭਗਵਾਨ', 'score': 0.8, 'index': 7}. Correct? True\n",
      "LaBSE: {'best_verse': 'ਨਿਰਭਉ ਹੋਇ ਭਜਹੁ ਭਗਵਾਨ', 'score': 0.83, 'index': 7}. Correct? True\n",
      "MiniLM: {'best_verse': 'ਨਿਰਭਉ ਹੋਇ ਭਜਹੁ ਭਗਵਾਨ', 'score': 0.94, 'index': 7}. Correct? True\n",
      "IndicBERT (CLS): {'best_verse': 'ਅੰਮ੍ਰਿਤ ਨਾਮ ਮਹਾ ਰਸ ਪੀਨੇ', 'score': 1.0, 'index': 6}. Correct? False\n",
      "IndicBERT (Mean): {'best_verse': 'ਨਿਰਭਉ ਹੋਇ ਭਜਹੁ ਭਗਵਾਨ', 'score': 0.79, 'index': 7}. Correct? True\n",
      "\n",
      "------For ਹੋ ਭਜੋ ਪਗਵਾਨ------\n",
      "BBMC: {'best_verse': 'ਨਿਰਭਉ ਹੋਇ ਭਜਹੁ ਭਗਵਾਨ', 'score': 0.98, 'index': 7}. Correct? True\n",
      "L3Cube: {'best_verse': 'ਨਾਨਕ ਓਟ ਪਕਰੀ ਪ੍ਰਭ ਸੁਆਮੀ', 'score': 0.63, 'index': 10}. Correct? False\n",
      "LaBSE: {'best_verse': 'ਨਿਰਭਉ ਹੋਇ ਭਜਹੁ ਭਗਵਾਨ', 'score': 0.83, 'index': 7}. Correct? True\n",
      "MiniLM: {'best_verse': 'ਨਿਰਭਉ ਹੋਇ ਭਜਹੁ ਭਗਵਾਨ', 'score': 0.91, 'index': 7}. Correct? True\n",
      "IndicBERT (CLS): {'best_verse': 'ਅੰਮ੍ਰਿਤ ਨਾਮ ਮਹਾ ਰਸ ਪੀਨੇ', 'score': 1.0, 'index': 6}. Correct? False\n",
      "IndicBERT (Mean): {'best_verse': 'ਦੁਸਟ ਦੂਤ ਪਰਮੇਸਰਿ ਮਾਰੇ', 'score': 0.74, 'index': 3}. Correct? False\n",
      "\n",
      "------For ਬਾਦ ਸ਼ਾਹ ਸ਼ਾਹ------\n",
      "BBMC: {'best_verse': 'ਬਾਦਿਸਾਹ ਸਾਹ ਸਭ ਵਸਿ ਕਰਿ ਦੀਨੇ', 'score': 0.89, 'index': 5}. Correct? True\n",
      "L3Cube: {'best_verse': 'ਬਾਦਿਸਾਹ ਸਾਹ ਸਭ ਵਸਿ ਕਰਿ ਦੀਨੇ', 'score': 0.6, 'index': 5}. Correct? True\n",
      "LaBSE: {'best_verse': 'ਨਿਰਭਉ ਹੋਇ ਭਜਹੁ ਭਗਵਾਨ', 'score': 0.38, 'index': 7}. Correct? False\n",
      "MiniLM: {'best_verse': 'ਸਾਧਸੰਗਤਿ ਮਿਲਿ ਕੀਨੋ ਦਾਨੁ', 'score': 0.83, 'index': 8}. Correct? False\n",
      "IndicBERT (CLS): {'best_verse': 'ਸਤਿਗੁਰਿ ਤੁਮਰੇ ਕਾਜ ਸਵਾਰੇ', 'score': 1.0, 'index': 2}. Correct? False\n",
      "IndicBERT (Mean): {'best_verse': 'ਅੰਮ੍ਰਿਤ ਨਾਮ ਮਹਾ ਰਸ ਪੀਨੇ', 'score': 0.6, 'index': 6}. Correct? False\n",
      "\n",
      "------For ਸ਼ਾਹ ਸ਼ਾਹ ਸਬ------\n",
      "BBMC: {'best_verse': 'ਦੁਸਟ ਦੂਤ ਪਰਮੇਸਰਿ ਮਾਰੇ', 'score': 0.92, 'index': 3}. Correct? False\n",
      "L3Cube: {'best_verse': 'ਬਾਦਿਸਾਹ ਸਾਹ ਸਭ ਵਸਿ ਕਰਿ ਦੀਨੇ', 'score': 0.7, 'index': 5}. Correct? True\n",
      "LaBSE: {'best_verse': 'ਥਿਰੁ ਘਰਿ ਬੈਸਹੁ ਹਰਿ ਜਨ ਪਿਆਰੇ', 'score': 0.39, 'index': 1}. Correct? False\n",
      "MiniLM: {'best_verse': 'ਸਾਧਸੰਗਤਿ ਮਿਲਿ ਕੀਨੋ ਦਾਨੁ', 'score': 0.82, 'index': 8}. Correct? False\n",
      "IndicBERT (CLS): {'best_verse': 'ਸਤਿਗੁਰਿ ਤੁਮਰੇ ਕਾਜ ਸਵਾਰੇ', 'score': 1.0, 'index': 2}. Correct? False\n",
      "IndicBERT (Mean): {'best_verse': 'ਦੁਸਟ ਦੂਤ ਪਰਮੇਸਰਿ ਮਾਰੇ', 'score': 0.62, 'index': 3}. Correct? False\n",
      "\n",
      "------For ਵੱਸ ਕਰ ਦੀਨੇ------\n",
      "BBMC: {'best_verse': 'ਜਨ ਕੀ ਪੈਜ ਰਖੀ ਕਰਤਾਰੇ', 'score': 0.96, 'index': 4}. Correct? False\n",
      "L3Cube: {'best_verse': 'ਥਿਰੁ ਘਰਿ ਬੈਸਹੁ ਹਰਿ ਜਨ ਪਿਆਰੇ', 'score': 0.66, 'index': 1}. Correct? False\n",
      "LaBSE: {'best_verse': 'ਜਨ ਕੀ ਪੈਜ ਰਖੀ ਕਰਤਾਰੇ', 'score': 0.34, 'index': 4}. Correct? False\n",
      "MiniLM: {'best_verse': 'ਗਉੜੀ ਮਹਲਾ', 'score': 0.88, 'index': 0}. Correct? False\n",
      "IndicBERT (CLS): {'best_verse': 'ਸਤਿਗੁਰਿ ਤੁਮਰੇ ਕਾਜ ਸਵਾਰੇ', 'score': 1.0, 'index': 2}. Correct? False\n",
      "IndicBERT (Mean): {'best_verse': 'ਬਾਦਿਸਾਹ ਸਾਹ ਸਭ ਵਸਿ ਕਰਿ ਦੀਨੇ', 'score': 0.65, 'index': 5}. Correct? True\n",
      "\n",
      "------For ਅੰਮ੍ਰਿਤ ਨਾਮ ਮਹਾ------\n",
      "BBMC: {'best_verse': 'ਅੰਮ੍ਰਿਤ ਨਾਮ ਮਹਾ ਰਸ ਪੀਨੇ', 'score': 0.98, 'index': 6}. Correct? True\n",
      "L3Cube: {'best_verse': 'ਅੰਮ੍ਰਿਤ ਨਾਮ ਮਹਾ ਰਸ ਪੀਨੇ', 'score': 0.72, 'index': 6}. Correct? True\n",
      "LaBSE: {'best_verse': 'ਅੰਮ੍ਰਿਤ ਨਾਮ ਮਹਾ ਰਸ ਪੀਨੇ', 'score': 0.84, 'index': 6}. Correct? True\n",
      "MiniLM: {'best_verse': 'ਨਾਨਕ ਓਟ ਪਕਰੀ ਪ੍ਰਭ ਸੁਆਮੀ', 'score': 0.96, 'index': 10}. Correct? False\n",
      "IndicBERT (CLS): {'best_verse': 'ਅੰਮ੍ਰਿਤ ਨਾਮ ਮਹਾ ਰਸ ਪੀਨੇ', 'score': 1.0, 'index': 6}. Correct? True\n",
      "IndicBERT (Mean): {'best_verse': 'ਅੰਮ੍ਰਿਤ ਨਾਮ ਮਹਾ ਰਸ ਪੀਨੇ', 'score': 0.77, 'index': 6}. Correct? True\n"
     ]
    }
   ],
   "source": [
    "# 3 word phrases, all beginning and ending within the same verse (ideal use case)\n",
    "long_asr_phrases = [\n",
    "    'ਸਤਗੁਰ ਤੁਮਰੇ ਕਾਜ', 'ਤੁਮਰੇ ਕਾਜ ਸਵਾਰੇ', 'ਦੁਸ਼ਟ ਦੂਤ ਪਰਮੇਸਰ', 'ਦੂਤ ਪਰਮੇਸਰ ਮਾਰੇ', 'ਜਨ ਕੀ ਪੈਜ', 'ਕੀ ਪੈਜ ਰਖੀ', 'ਪੈਜ ਰਖੀ ਕਰਤਾਰੇ',\n",
    "    'ਨਿਰਭੌ ਹੋ ਭਜੋ', 'ਹੋ ਭਜੋ ਭਗਵਾਨ', 'ਹੋ ਭਜੋ ਪਗਵਾਨ', 'ਬਾਦ ਸ਼ਾਹ ਸ਼ਾਹ', 'ਸ਼ਾਹ ਸ਼ਾਹ ਸਬ', 'ਵੱਸ ਕਰ ਦੀਨੇ', 'ਅੰਮ੍ਰਿਤ ਨਾਮ ਮਹਾ']\n",
    "long_asr_correct = [2, 2, 3, 3, 4, 4, 4,\n",
    "                       7, 7, 7, 5, 5, 5, 6]\n",
    "    \n",
    "long_statuses, long_verses, long_scores = test_phrases(long_asr_phrases, long_asr_correct)"
   ]
  },
  {
   "cell_type": "code",
   "execution_count": 40,
   "id": "5400c60d-47e0-4c17-8a89-df76343bdc13",
   "metadata": {},
   "outputs": [
    {
     "data": {
      "image/png": "[encoded data removed]",
      "text/plain": [
       "<Figure size 1500x1300 with 6 Axes>"
      ]
     },
     "metadata": {},
     "output_type": "display_data"
    }
   ],
   "source": [
    "plot_similarity_by_status(models_to_test, long_statuses, long_scores)"
   ]
  },
  {
   "cell_type": "markdown",
   "id": "2024cf71-3d0f-4f8f-bbc5-4e28621dcff0",
   "metadata": {},
   "source": [
    "0 'ਗਉੜੀ ਮਹਲਾ',\n",
    "1 'ਥਿਰੁ ਘਰਿ ਬੈਸਹੁ ਹਰਿ ਜਨ ਪਿਆਰੇ',\n",
    "2 'ਸਤਿਗੁਰਿ ਤੁਮਰੇ ਕਾਜ ਸਵਾਰੇ',\n",
    "3 'ਦੁਸਟ ਦੂਤ ਪਰਮੇਸਰਿ ਮਾਰੇ',\n",
    "4 'ਜਨ ਕੀ ਪੈਜ ਰਖੀ ਕਰਤਾਰੇ',\n",
    "5 'ਬਾਦਿਸਾਹ ਸਾਹ ਸਭ ਵਸਿ ਕਰਿ ਦੀਨੇ',\n",
    "6 'ਅੰਮ੍ਰਿਤ ਨਾਮ ਮਹਾ ਰਸ ਪੀਨੇ',\n",
    "7 'ਨਿਰਭਉ ਹੋਇ ਭਜਹੁ ਭਗਵਾਨ',\n",
    "8 'ਸਾਧਸੰਗਤਿ ਮਿਲਿ ਕੀਨੋ ਦਾਨੁ',\n",
    "9 'ਸਰਣਿ ਪਰੇ ਪ੍ਰਭ ਅੰਤਰਜਾਮੀ',\n",
    "10 'ਨਾਨਕ ਓਟ ਪਕਰੀ ਪ੍ਰਭ ਸੁਆਮੀ'"
   ]
  },
  {
   "cell_type": "code",
   "execution_count": 41,
   "id": "2254a1b0-c878-4092-8f7a-c05b18311fba",
   "metadata": {},
   "outputs": [
    {
     "name": "stdout",
     "output_type": "stream",
     "text": [
      "\n",
      "------For ਜਨ ਪਿਆਰੇ ਸਤਗੁਰ------\n",
      "BBMC: {'best_verse': 'ਸਤਿਗੁਰਿ ਤੁਮਰੇ ਕਾਜ ਸਵਾਰੇ', 'score': 0.97, 'index': 2}. Correct? False\n",
      "L3Cube: {'best_verse': 'ਸਤਿਗੁਰਿ ਤੁਮਰੇ ਕਾਜ ਸਵਾਰੇ', 'score': 0.75, 'index': 2}. Correct? False\n",
      "LaBSE: {'best_verse': 'ਥਿਰੁ ਘਰਿ ਬੈਸਹੁ ਹਰਿ ਜਨ ਪਿਆਰੇ', 'score': 0.62, 'index': 1}. Correct? True\n",
      "MiniLM: {'best_verse': 'ਨਾਨਕ ਓਟ ਪਕਰੀ ਪ੍ਰਭ ਸੁਆਮੀ', 'score': 0.89, 'index': 10}. Correct? False\n",
      "IndicBERT (CLS): {'best_verse': 'ਸਤਿਗੁਰਿ ਤੁਮਰੇ ਕਾਜ ਸਵਾਰੇ', 'score': 1.0, 'index': 2}. Correct? False\n",
      "IndicBERT (Mean): {'best_verse': 'ਥਿਰੁ ਘਰਿ ਬੈਸਹੁ ਹਰਿ ਜਨ ਪਿਆਰੇ', 'score': 0.75, 'index': 1}. Correct? True\n",
      "\n",
      "------For ਪਿਆਰੇ ਸਤਗੁਰ ਤੁਮਰੇ------\n",
      "BBMC: {'best_verse': 'ਸਤਿਗੁਰਿ ਤੁਮਰੇ ਕਾਜ ਸਵਾਰੇ', 'score': 0.97, 'index': 2}. Correct? True\n",
      "L3Cube: {'best_verse': 'ਸਤਿਗੁਰਿ ਤੁਮਰੇ ਕਾਜ ਸਵਾਰੇ', 'score': 0.77, 'index': 2}. Correct? True\n",
      "LaBSE: {'best_verse': 'ਥਿਰੁ ਘਰਿ ਬੈਸਹੁ ਹਰਿ ਜਨ ਪਿਆਰੇ', 'score': 0.56, 'index': 1}. Correct? False\n",
      "MiniLM: {'best_verse': 'ਨਾਨਕ ਓਟ ਪਕਰੀ ਪ੍ਰਭ ਸੁਆਮੀ', 'score': 0.93, 'index': 10}. Correct? False\n",
      "IndicBERT (CLS): {'best_verse': 'ਸਤਿਗੁਰਿ ਤੁਮਰੇ ਕਾਜ ਸਵਾਰੇ', 'score': 1.0, 'index': 2}. Correct? True\n",
      "IndicBERT (Mean): {'best_verse': 'ਥਿਰੁ ਘਰਿ ਬੈਸਹੁ ਹਰਿ ਜਨ ਪਿਆਰੇ', 'score': 0.79, 'index': 1}. Correct? False\n",
      "\n",
      "------For ਕਾਜ ਸਵਾਰੇ ਦੁਸ਼ਟ------\n",
      "BBMC: {'best_verse': 'ਸਤਿਗੁਰਿ ਤੁਮਰੇ ਕਾਜ ਸਵਾਰੇ', 'score': 0.97, 'index': 2}. Correct? True\n",
      "L3Cube: {'best_verse': 'ਸਤਿਗੁਰਿ ਤੁਮਰੇ ਕਾਜ ਸਵਾਰੇ', 'score': 0.73, 'index': 2}. Correct? True\n",
      "LaBSE: {'best_verse': 'ਦੁਸਟ ਦੂਤ ਪਰਮੇਸਰਿ ਮਾਰੇ', 'score': 0.48, 'index': 3}. Correct? False\n",
      "MiniLM: {'best_verse': 'ਸਤਿਗੁਰਿ ਤੁਮਰੇ ਕਾਜ ਸਵਾਰੇ', 'score': 0.84, 'index': 2}. Correct? True\n",
      "IndicBERT (CLS): {'best_verse': 'ਸਤਿਗੁਰਿ ਤੁਮਰੇ ਕਾਜ ਸਵਾਰੇ', 'score': 1.0, 'index': 2}. Correct? True\n",
      "IndicBERT (Mean): {'best_verse': 'ਦੁਸਟ ਦੂਤ ਪਰਮੇਸਰਿ ਮਾਰੇ', 'score': 0.88, 'index': 3}. Correct? False\n",
      "\n",
      "------For ਸਵਾਰੇ ਦੁਸ਼ਟ ਦੂਤ------\n",
      "BBMC: {'best_verse': 'ਦੁਸਟ ਦੂਤ ਪਰਮੇਸਰਿ ਮਾਰੇ', 'score': 0.98, 'index': 3}. Correct? True\n",
      "L3Cube: {'best_verse': 'ਦੁਸਟ ਦੂਤ ਪਰਮੇਸਰਿ ਮਾਰੇ', 'score': 0.66, 'index': 3}. Correct? True\n",
      "LaBSE: {'best_verse': 'ਦੁਸਟ ਦੂਤ ਪਰਮੇਸਰਿ ਮਾਰੇ', 'score': 0.71, 'index': 3}. Correct? True\n",
      "MiniLM: {'best_verse': 'ਸਤਿਗੁਰਿ ਤੁਮਰੇ ਕਾਜ ਸਵਾਰੇ', 'score': 0.82, 'index': 2}. Correct? False\n",
      "IndicBERT (CLS): {'best_verse': 'ਸਤਿਗੁਰਿ ਤੁਮਰੇ ਕਾਜ ਸਵਾਰੇ', 'score': 1.0, 'index': 2}. Correct? False\n",
      "IndicBERT (Mean): {'best_verse': 'ਦੁਸਟ ਦੂਤ ਪਰਮੇਸਰਿ ਮਾਰੇ', 'score': 0.84, 'index': 3}. Correct? True\n",
      "\n",
      "------For ਪਰਮੇਸਰ ਮਾਰੇ ਜਨ------\n",
      "BBMC: {'best_verse': 'ਦੁਸਟ ਦੂਤ ਪਰਮੇਸਰਿ ਮਾਰੇ', 'score': 0.98, 'index': 3}. Correct? True\n",
      "L3Cube: {'best_verse': 'ਸਰਣਿ ਪਰੇ ਪ੍ਰਭ ਅੰਤਰਜਾਮੀ', 'score': 0.63, 'index': 9}. Correct? False\n",
      "LaBSE: {'best_verse': 'ਦੁਸਟ ਦੂਤ ਪਰਮੇਸਰਿ ਮਾਰੇ', 'score': 0.68, 'index': 3}. Correct? True\n",
      "MiniLM: {'best_verse': 'ਨਾਨਕ ਓਟ ਪਕਰੀ ਪ੍ਰਭ ਸੁਆਮੀ', 'score': 0.86, 'index': 10}. Correct? False\n",
      "IndicBERT (CLS): {'best_verse': 'ਸਤਿਗੁਰਿ ਤੁਮਰੇ ਕਾਜ ਸਵਾਰੇ', 'score': 1.0, 'index': 2}. Correct? False\n",
      "IndicBERT (Mean): {'best_verse': 'ਦੁਸਟ ਦੂਤ ਪਰਮੇਸਰਿ ਮਾਰੇ', 'score': 0.7, 'index': 3}. Correct? True\n",
      "\n",
      "------For ਮਾਰੇ ਜਨ ਕੀ------\n",
      "BBMC: {'best_verse': 'ਜਨ ਕੀ ਪੈਜ ਰਖੀ ਕਰਤਾਰੇ', 'score': 0.96, 'index': 4}. Correct? True\n",
      "L3Cube: {'best_verse': 'ਜਨ ਕੀ ਪੈਜ ਰਖੀ ਕਰਤਾਰੇ', 'score': 0.62, 'index': 4}. Correct? True\n",
      "LaBSE: {'best_verse': 'ਜਨ ਕੀ ਪੈਜ ਰਖੀ ਕਰਤਾਰੇ', 'score': 0.46, 'index': 4}. Correct? True\n",
      "MiniLM: {'best_verse': 'ਗਉੜੀ ਮਹਲਾ', 'score': 0.94, 'index': 0}. Correct? False\n",
      "IndicBERT (CLS): {'best_verse': 'ਸਤਿਗੁਰਿ ਤੁਮਰੇ ਕਾਜ ਸਵਾਰੇ', 'score': 1.0, 'index': 2}. Correct? False\n",
      "IndicBERT (Mean): {'best_verse': 'ਦੁਸਟ ਦੂਤ ਪਰਮੇਸਰਿ ਮਾਰੇ', 'score': 0.65, 'index': 3}. Correct? False\n",
      "\n",
      "------For ਰਖੀ ਕਰਤਾਰੇ ਬਾਦ------\n",
      "BBMC: {'best_verse': 'ਜਨ ਕੀ ਪੈਜ ਰਖੀ ਕਰਤਾਰੇ', 'score': 0.98, 'index': 4}. Correct? True\n",
      "L3Cube: {'best_verse': 'ਨਾਨਕ ਓਟ ਪਕਰੀ ਪ੍ਰਭ ਸੁਆਮੀ', 'score': 0.6, 'index': 10}. Correct? False\n",
      "LaBSE: {'best_verse': 'ਜਨ ਕੀ ਪੈਜ ਰਖੀ ਕਰਤਾਰੇ', 'score': 0.41, 'index': 4}. Correct? True\n",
      "MiniLM: {'best_verse': 'ਜਨ ਕੀ ਪੈਜ ਰਖੀ ਕਰਤਾਰੇ', 'score': 0.88, 'index': 4}. Correct? True\n",
      "IndicBERT (CLS): {'best_verse': 'ਬਾਦਿਸਾਹ ਸਾਹ ਸਭ ਵਸਿ ਕਰਿ ਦੀਨੇ', 'score': 1.0, 'index': 5}. Correct? False\n",
      "IndicBERT (Mean): {'best_verse': 'ਜਨ ਕੀ ਪੈਜ ਰਖੀ ਕਰਤਾਰੇ', 'score': 0.86, 'index': 4}. Correct? True\n",
      "\n",
      "------For ਪੀਨੇ ਨਿਰਭੌ ਹੋ------\n",
      "BBMC: {'best_verse': 'ਸਾਧਸੰਗਤਿ ਮਿਲਿ ਕੀਨੋ ਦਾਨੁ', 'score': 0.96, 'index': 8}. Correct? False\n",
      "L3Cube: {'best_verse': 'ਨਿਰਭਉ ਹੋਇ ਭਜਹੁ ਭਗਵਾਨ', 'score': 0.6, 'index': 7}. Correct? True\n",
      "LaBSE: {'best_verse': 'ਨਿਰਭਉ ਹੋਇ ਭਜਹੁ ਭਗਵਾਨ', 'score': 0.43, 'index': 7}. Correct? True\n",
      "MiniLM: {'best_verse': 'ਨਿਰਭਉ ਹੋਇ ਭਜਹੁ ਭਗਵਾਨ', 'score': 0.93, 'index': 7}. Correct? True\n",
      "IndicBERT (CLS): {'best_verse': 'ਅੰਮ੍ਰਿਤ ਨਾਮ ਮਹਾ ਰਸ ਪੀਨੇ', 'score': 1.0, 'index': 6}. Correct? False\n",
      "IndicBERT (Mean): {'best_verse': 'ਨਿਰਭਉ ਹੋਇ ਭਜਹੁ ਭਗਵਾਨ', 'score': 0.79, 'index': 7}. Correct? True\n",
      "\n",
      "------For ਭਜੋ ਪਗਵਾਨ ਸਾਧ------\n",
      "BBMC: {'best_verse': 'ਨਿਰਭਉ ਹੋਇ ਭਜਹੁ ਭਗਵਾਨ', 'score': 0.97, 'index': 7}. Correct? True\n",
      "L3Cube: {'best_verse': 'ਗਉੜੀ ਮਹਲਾ', 'score': 0.58, 'index': 0}. Correct? False\n",
      "LaBSE: {'best_verse': 'ਨਿਰਭਉ ਹੋਇ ਭਜਹੁ ਭਗਵਾਨ', 'score': 0.8, 'index': 7}. Correct? True\n",
      "MiniLM: {'best_verse': 'ਨਾਨਕ ਓਟ ਪਕਰੀ ਪ੍ਰਭ ਸੁਆਮੀ', 'score': 0.87, 'index': 10}. Correct? False\n",
      "IndicBERT (CLS): {'best_verse': 'ਅੰਮ੍ਰਿਤ ਨਾਮ ਮਹਾ ਰਸ ਪੀਨੇ', 'score': 1.0, 'index': 6}. Correct? False\n",
      "IndicBERT (Mean): {'best_verse': 'ਅੰਮ੍ਰਿਤ ਨਾਮ ਮਹਾ ਰਸ ਪੀਨੇ', 'score': 0.8, 'index': 6}. Correct? False\n",
      "\n",
      "------For ਕੀਨੋ ਦਾਨ ਸਰਣ------\n",
      "BBMC: {'best_verse': 'ਸਾਧਸੰਗਤਿ ਮਿਲਿ ਕੀਨੋ ਦਾਨੁ', 'score': 0.96, 'index': 8}. Correct? True\n",
      "L3Cube: {'best_verse': 'ਸਾਧਸੰਗਤਿ ਮਿਲਿ ਕੀਨੋ ਦਾਨੁ', 'score': 0.81, 'index': 8}. Correct? True\n",
      "LaBSE: {'best_verse': 'ਸਾਧਸੰਗਤਿ ਮਿਲਿ ਕੀਨੋ ਦਾਨੁ', 'score': 0.61, 'index': 8}. Correct? True\n",
      "MiniLM: {'best_verse': 'ਗਉੜੀ ਮਹਲਾ', 'score': 0.84, 'index': 0}. Correct? False\n",
      "IndicBERT (CLS): {'best_verse': 'ਸਤਿਗੁਰਿ ਤੁਮਰੇ ਕਾਜ ਸਵਾਰੇ', 'score': 1.0, 'index': 2}. Correct? False\n",
      "IndicBERT (Mean): {'best_verse': 'ਦੁਸਟ ਦੂਤ ਪਰਮੇਸਰਿ ਮਾਰੇ', 'score': 0.82, 'index': 3}. Correct? False\n",
      "\n",
      "------For ਦਾਨ ਸਰਣ ਪਰੇ------\n",
      "BBMC: {'best_verse': 'ਦੁਸਟ ਦੂਤ ਪਰਮੇਸਰਿ ਮਾਰੇ', 'score': 0.96, 'index': 3}. Correct? False\n",
      "L3Cube: {'best_verse': 'ਸਰਣਿ ਪਰੇ ਪ੍ਰਭ ਅੰਤਰਜਾਮੀ', 'score': 0.8, 'index': 9}. Correct? True\n",
      "LaBSE: {'best_verse': 'ਸਰਣਿ ਪਰੇ ਪ੍ਰਭ ਅੰਤਰਜਾਮੀ', 'score': 0.55, 'index': 9}. Correct? True\n",
      "MiniLM: {'best_verse': 'ਗਉੜੀ ਮਹਲਾ', 'score': 0.72, 'index': 0}. Correct? False\n",
      "IndicBERT (CLS): {'best_verse': 'ਸਤਿਗੁਰਿ ਤੁਮਰੇ ਕਾਜ ਸਵਾਰੇ', 'score': 1.0, 'index': 2}. Correct? False\n",
      "IndicBERT (Mean): {'best_verse': 'ਦੁਸਟ ਦੂਤ ਪਰਮੇਸਰਿ ਮਾਰੇ', 'score': 0.74, 'index': 3}. Correct? False\n",
      "\n",
      "------For ਦਾਨ ਸਰਣ ਭਰੇ------\n",
      "BBMC: {'best_verse': 'ਨਿਰਭਉ ਹੋਇ ਭਜਹੁ ਭਗਵਾਨ', 'score': 0.96, 'index': 7}. Correct? False\n",
      "L3Cube: {'best_verse': 'ਸਰਣਿ ਪਰੇ ਪ੍ਰਭ ਅੰਤਰਜਾਮੀ', 'score': 0.71, 'index': 9}. Correct? True\n",
      "LaBSE: {'best_verse': 'ਸਾਧਸੰਗਤਿ ਮਿਲਿ ਕੀਨੋ ਦਾਨੁ', 'score': 0.53, 'index': 8}. Correct? False\n",
      "MiniLM: {'best_verse': 'ਗਉੜੀ ਮਹਲਾ', 'score': 0.74, 'index': 0}. Correct? False\n",
      "IndicBERT (CLS): {'best_verse': 'ਸਤਿਗੁਰਿ ਤੁਮਰੇ ਕਾਜ ਸਵਾਰੇ', 'score': 1.0, 'index': 2}. Correct? False\n",
      "IndicBERT (Mean): {'best_verse': 'ਸਰਣਿ ਪਰੇ ਪ੍ਰਭ ਅੰਤਰਜਾਮੀ', 'score': 0.68, 'index': 9}. Correct? True\n"
     ]
    }
   ],
   "source": [
    "# 3 word phrases, beginning in one verse and ending in another (edge case)\n",
    "mixed_asr_phrases = [\n",
    "    'ਜਨ ਪਿਆਰੇ ਸਤਗੁਰ', 'ਪਿਆਰੇ ਸਤਗੁਰ ਤੁਮਰੇ', 'ਕਾਜ ਸਵਾਰੇ ਦੁਸ਼ਟ', 'ਸਵਾਰੇ ਦੁਸ਼ਟ ਦੂਤ', 'ਪਰਮੇਸਰ ਮਾਰੇ ਜਨ', \n",
    "    'ਮਾਰੇ ਜਨ ਕੀ',  'ਰਖੀ ਕਰਤਾਰੇ ਬਾਦ', 'ਪੀਨੇ ਨਿਰਭੌ ਹੋ', 'ਭਜੋ ਪਗਵਾਨ ਸਾਧ', 'ਕੀਨੋ ਦਾਨ ਸਰਣ', 'ਦਾਨ ਸਰਣ ਪਰੇ', 'ਦਾਨ ਸਰਣ ਭਰੇ']\n",
    "# detect the correct phrase/index as the one with the dominant number of words\n",
    "mixed_asr_correct = [1, 2, 2, 3, 3, \n",
    "                     4, 4, 7, 7, 8, 9, 9]\n",
    "mixed_statuses, mixed_verses, mixed_scores = test_phrases(mixed_asr_phrases, mixed_asr_correct)"
   ]
  },
  {
   "cell_type": "code",
   "execution_count": 42,
   "id": "bc76c467-b91c-4e1d-ab8a-0cdd45475f7e",
   "metadata": {},
   "outputs": [
    {
     "data": {
      "image/png": "[encoded data removed]",
      "text/plain": [
       "<Figure size 1500x1300 with 6 Axes>"
      ]
     },
     "metadata": {},
     "output_type": "display_data"
    }
   ],
   "source": [
    "plot_similarity_by_status(models_to_test, mixed_statuses, mixed_scores)"
   ]
  },
  {
   "cell_type": "code",
   "execution_count": 43,
   "id": "23cf7f55-6c6b-48a3-9ba2-234e87096752",
   "metadata": {},
   "outputs": [
    {
     "data": {
      "text/plain": [
       "628"
      ]
     },
     "execution_count": 43,
     "metadata": {},
     "output_type": "execute_result"
    }
   ],
   "source": [
    "shabad_data['pages_data']['page_1'][0]['shabad_id']"
   ]
  },
  {
   "cell_type": "code",
   "execution_count": 44,
   "id": "97e64dda-23d7-469c-b08d-05e2f60fafc0",
   "metadata": {},
   "outputs": [],
   "source": [
    "#TODO:\n",
    "# 1. Add logic so that if all the words of a verse have not been spoken, we will not switch to the next verse. This might be tricky because ragis could, \n",
    "# in principle, just sing a few words of a tuk and switch to another. Usually, these would only be the ending words of a verse i.e. they might sing\n",
    "# 'kaaj savare' multiple times. But it is unlikely that they will sing the first few words of a verse multiple times without saying the next ones\n",
    "# in the verse.\n",
    "# 2. The 3-word method will fail when very similar lines are being spoken. For example, in Sukhmani Sahib, there are multiple lines starting with\n",
    "#    'prabh ke simran'. Similarly, in Bhai Nand Lal's vaaran, there are repeated lines like \n",
    "#     'Nasro Mansoor Gur Gobind Singh,... Hak hak aaena Gur Gobind Singh' etc. where 'Gur Gobind Singh' is repeated. In such instances, picking \n",
    "#      one verse with the highest cosine similarity will fail. To fix this, we have to have a logic along the lines of:\n",
    "#    a) Find cosine similarity with all verses\n",
    "#    b) Pick the one with the highest similarity, provided that the cosine similarity of the highest one is above a certain threshold AND the difference\n",
    "#       between the highest and second highest is more than a separate threshold. If both of these conditions aren't satisfied, wait to hear more words\n",
    "#       and try verse matching with a larger dataset.\n",
    "# Make the initial shabad identification method more robust if need be"
   ]
  },
  {
   "cell_type": "markdown",
   "id": "00e0094e-f2d8-4cb8-8eae-59d963964d98",
   "metadata": {},
   "source": [
    "**Automatic Speech Recognition**"
   ]
  },
  {
   "cell_type": "code",
   "execution_count": 45,
   "id": "961f8df5-2c16-4514-8344-adf4959411cf",
   "metadata": {},
   "outputs": [],
   "source": [
    "# TODO:\n",
    "# Try https://huggingface.co/gagan3012/wav2vec2-xlsr-punjabi\n",
    "# Need to search more for other models. Google speech to text is amazing and we can leverage their $300 free credits as well."
   ]
  },
  {
   "cell_type": "code",
   "execution_count": 47,
   "id": "c4124b1d-642d-420b-a412-4964f45ba552",
   "metadata": {},
   "outputs": [
    {
     "data": {
      "text/plain": [
       "'0.1'"
      ]
     },
     "execution_count": 47,
     "metadata": {},
     "output_type": "execute_result"
    }
   ],
   "source": [
    "banidb.__version__"
   ]
  }
 ],
 "metadata": {
  "kernelspec": {
   "display_name": "Python (gurbani_ai)",
   "language": "python",
   "name": "gurbani_ai"
  },
  "language_info": {
   "codemirror_mode": {
    "name": "ipython",
    "version": 3
   },
   "file_extension": ".py",
   "mimetype": "text/x-python",
   "name": "python",
   "nbconvert_exporter": "python",
   "pygments_lexer": "ipython3",
   "version": "3.11.9"
  }
 },
 "nbformat": 4,
 "nbformat_minor": 5
}
